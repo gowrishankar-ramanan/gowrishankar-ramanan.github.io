{
 "cells": [
  {
   "cell_type": "code",
   "execution_count": null,
   "metadata": {
    "collapsed": true
   },
   "outputs": [],
   "source": []
  },
  {
   "cell_type": "markdown",
   "metadata": {},
   "source": [
    "### Problem 1\n",
    "To test whether a coin is a fair coin, we decide to flip this coin 50 times and count the numbers of Heads (H) and Tails (T) we observe. Let X be the number of Hs observed from 50 tosses and p be the actual probability of getting H from flipping this coin. If this is a fair coin, then p = .5. Suppose the significance level $\\alpha$ is .05. Here are the hypotheses:\n",
    "\n",
    "$H_0: p = .5$ (This is a fair coin)\n",
    "\n",
    "$H_a: p \\neq .5$ (This is a biased coin)\n"
   ]
  },
  {
   "cell_type": "code",
   "execution_count": 2,
   "metadata": {
    "collapsed": false
   },
   "outputs": [
    {
     "name": "stdout",
     "output_type": "stream",
     "text": [
      "2.38613316768e-05 \n",
      "\n",
      "Reject H0 and conclude that this is a biased coin because the p-value is less than significance level.\n"
     ]
    }
   ],
   "source": [
    "# 1-a: Compute the p-value if we have observed 40 Ts and draw your conclusion whether this is a fair coin. (2 points) \n",
    "\n",
    "from scipy.stats import binom\n",
    "\n",
    "p = 2*(1-binom.cdf(39, 50, 0.5))\n",
    "print(p,'\\n')\n",
    "\n",
    "if p < 0.05:\n",
    "    print('Reject H0 and conclude that this is a biased coin because the p-value is less than significance level.')\n",
    "else:\n",
    "    print('Accept H0 and conclude that this is a fair coin because the p-value is >= significance level.')\n"
   ]
  },
  {
   "cell_type": "code",
   "execution_count": 3,
   "metadata": {
    "collapsed": false
   },
   "outputs": [
    {
     "name": "stdout",
     "output_type": "stream",
     "text": [
      "0.921234502171 0.887416199985 0.864807727046\n",
      "Probability of making Type II error decreases as sample size n increases.\n"
     ]
    }
   ],
   "source": [
    "# 1-b: Compute the probability of Type II error given p = 0.55 for n = 50, 75, and 100, respectively. (3 points)\n",
    "# What impact does n have on probability of Type II error?\n",
    "\n",
    "# Let c1, c2 and c3 be the critical value for n = 50, 75 and 100, respectively\n",
    "# Prob(at least c heads or at least c tails) = P(X >= c or X <= n - c) = 0.05\n",
    "# Thus, prob(X >= c) = 0.025 and prob(X <= c-1) = 0.975\n",
    "c1 = 1 + binom.ppf(1-0.05/2, 50, 0.5)\n",
    "c2 = 1 + binom.ppf(1-0.05/2, 75, 0.5)\n",
    "c3 = 1 + binom.ppf(1-0.05/2, 100, 0.5)\n",
    "\n",
    "# beta = prob(accept H0 given H0 is false) = prob(conclude fair coin given p is NOT 0.5)\n",
    "# beta = prob(n-c+1 <= X <= c-1  | p = 0.55) \n",
    "beta1 = binom.cdf(c1-1, 50, 0.55) - binom.cdf(50-c1, 50, 0.55)\n",
    "beta2 = binom.cdf(c2-1, 75, 0.55) - binom.cdf(75-c2, 75, 0.55)\n",
    "beta3 = binom.cdf(c3-1, 100, 0.55) - binom.cdf(100-c3, 100, 0.55)\n",
    "\n",
    "print(beta1, beta2, beta3)\n",
    "\n",
    "print('Probability of making Type II error decreases as sample size n increases.')"
   ]
  },
  {
   "cell_type": "markdown",
   "metadata": {},
   "source": [
    "### Problem 2 (9-31, P413)\n",
    "The coca-cola company reported that the mean per capita annual sales of its beverages in the united States was 423 eight-ounce servings. Suppose you are curious whether the consumption of coca-cola beverages is higher in atlanta, georgia, the location of coca-cola’s corporate headquarters. A sample of 36 individuals from the atlanta area showed a sample mean annual consumption of 460.4 eight-ounce servings with a standard deviation of s = 101.9 eight-ounce servings. Using $\\alpha$ = .05, do the sample results support the conclusion that mean annual consumption of coca-cola beverage products is higher in atlanta?\n"
   ]
  },
  {
   "cell_type": "markdown",
   "metadata": {},
   "source": [
    "##### 2-a: In this Markdown cell, please clearly specify your hypotheses. (1 point)\n",
    "\n",
    "$H_0: \\mu <= 423$ \n",
    "\n",
    "$H_a: \\mu > 423$ "
   ]
  },
  {
   "cell_type": "code",
   "execution_count": 4,
   "metadata": {
    "collapsed": false
   },
   "outputs": [
    {
     "name": "stdout",
     "output_type": "stream",
     "text": [
      "2.202158979391559\n"
     ]
    }
   ],
   "source": [
    "# 2-b: Compute the corresponding t value or z value. (1 point)\n",
    "\n",
    "xbar=460.4; mu_0=423; n=36; s=101.9; alpha=0.05\n",
    "\n",
    "t_val = (xbar - mu_0)/s*pow(n, 0.5)\n",
    "print(t_val)"
   ]
  },
  {
   "cell_type": "code",
   "execution_count": 5,
   "metadata": {
    "collapsed": false
   },
   "outputs": [
    {
     "name": "stdout",
     "output_type": "stream",
     "text": [
      "0.0171673742785\n",
      "Reject H0 because the p-value is less than significance level.\n"
     ]
    }
   ],
   "source": [
    "# 2-c: Compute the corresponding p-value based on the t or z value from 2-b. Draw your conclusion to the test. (2 points)\n",
    "\n",
    "from scipy.stats import t\n",
    "p_val = 1 - t.cdf(t_val, n-1)\n",
    "\n",
    "print(p_val)\n",
    "\n",
    "if p_val < 0.05:\n",
    "    print('Reject H0 because the p-value is less than significance level.')\n",
    "else:\n",
    "    print('Accept H0 because the p-value is >= significance level.')\n"
   ]
  },
  {
   "cell_type": "code",
   "execution_count": 6,
   "metadata": {
    "collapsed": false
   },
   "outputs": [
    {
     "name": "stdout",
     "output_type": "stream",
     "text": [
      "1.68957245396\n",
      "Reject H0 because the t-value is greater than critical t value.\n"
     ]
    }
   ],
   "source": [
    "# 2-d: Compute the critical t value or z value based on the significant level of 5%. Draw your conclusion to the test. (1 point)\n",
    "\n",
    "t_crit = t.ppf(1-alpha, n-1)\n",
    "print(t_crit)\n",
    "\n",
    "if t_val > t_crit:\n",
    "    print('Reject H0 because the t-value is greater than critical t value.')\n",
    "else:\n",
    "    print('Accept H0 because the t-value is <= critical t value.')\n"
   ]
  },
  {
   "cell_type": "markdown",
   "metadata": {},
   "source": [
    "### Problem 3 (9-42, P418)\n",
    "According to the university of nevada center for logistics Management, 6% of all merchandise sold in the united States gets returned. A Houston department store sampled 80 items sold in January and found that 12 of the items were returned. "
   ]
  },
  {
   "cell_type": "code",
   "execution_count": 7,
   "metadata": {
    "collapsed": false
   },
   "outputs": [
    {
     "name": "stdout",
     "output_type": "stream",
     "text": [
      "0.15\n"
     ]
    }
   ],
   "source": [
    "# 3-a: Construct a point estimate of the proportion of items returned for the population of sales transactions at the Houston store.\n",
    "# 1 point.\n",
    "n=80; p_0 = 0.06\n",
    "p_bar = 12/n\n",
    "print(p_bar)"
   ]
  },
  {
   "cell_type": "code",
   "execution_count": 8,
   "metadata": {
    "collapsed": false
   },
   "outputs": [
    {
     "name": "stdout",
     "output_type": "stream",
     "text": [
      "1.95996398454 0.03992179855667828\n",
      "95% confidence interval is [0.07175471263084746, 0.22824528736915253]\n"
     ]
    }
   ],
   "source": [
    "# 3-b: Construct a 95% confidence interval for the proportion of returns at the Houston store. (2 points)\n",
    "CL = 0.95\n",
    "from scipy.stats import norm\n",
    "z_crit = norm.ppf(0.5+CL/2) # This is the upper critical z value.\n",
    "se =pow(p_bar*(1-p_bar)/n, 0.5)\n",
    "print(z_crit, se)\n",
    "print('95% confidence interval is [{0}, {1}]'.format(p_bar-z_crit*se, p_bar+z_crit*se))"
   ]
  },
  {
   "cell_type": "code",
   "execution_count": 17,
   "metadata": {
    "collapsed": false
   },
   "outputs": [
    {
     "name": "stdout",
     "output_type": "stream",
     "text": [
      "3.3895960971961925 0.000699956709323\n",
      "Reject H0 because the absolute value of z-value is greater than the absolute value of critical z value.\n"
     ]
    }
   ],
   "source": [
    "# 3-c: Is the proportion of returns at the Houston store significantly different from the returns for the nation as a whole? \n",
    "# Provide statistical support for your answer. (2 points)\n",
    "\n",
    "# H0: p = 0.06; Ha: p <> 0.06\n",
    "se_ht = pow(p_0*(1-p_0)/n, 0.5)\n",
    "z_val = (p_bar - p_0)/se_ht\n",
    "p_val = 2*(1-norm.cdf(abs(z_val)))\n",
    "\n",
    "print(z_val, p_val)\n",
    "\n",
    "if abs(z_val) > abs(z_crit):\n",
    "    print('Reject H0 because the absolute value of z-value is greater than the absolute value of critical z value.')\n",
    "else:\n",
    "    print('Accept H0 because the absolute value of z-value is <= the absolute value of critical z value.')\n"
   ]
  },
  {
   "cell_type": "markdown",
   "metadata": {},
   "source": [
    "### Problem 4 (9-49, P424)\n",
    "A consumer research group is interested in testing an automobile manufacturer’s claim that a new economy model will travel at least 25 miles per gallon of gasoline (h0: $\\mu$ >= 25)."
   ]
  },
  {
   "cell_type": "markdown",
   "metadata": {},
   "source": [
    "##### 4-a: With a .02 level of significance and a sample of 30 cars, what is the rejection rule based on the value of x-bar for the test to determine whether the manufacturer’s claim should be rejected? Assume that $\\sigma$ is 3 miles per gallon. (2 points)"
   ]
  },
  {
   "cell_type": "code",
   "execution_count": 10,
   "metadata": {
    "collapsed": false
   },
   "outputs": [
    {
     "name": "stdout",
     "output_type": "stream",
     "text": [
      "-2.05374891063\n",
      "This is a left-tailed test. We reject the null hypotheses if the observed z score is lower than crital z score.\n",
      "\n",
      "23.8751153942\n",
      "This is a left-tailed test. We reject the null hypotheses if the observed xbar is lower than crital xbar.\n",
      "\n"
     ]
    }
   ],
   "source": [
    "from scipy.stats import norm\n",
    "# Determine the critical value of the test statistic for alpha = 0.02, n = 30, and sigma = 3.\n",
    "\n",
    "crit_z= norm.ppf(0.02)\n",
    "\n",
    "print(crit_z)\n",
    "\n",
    "print(\"This is a left-tailed test. We reject the null hypotheses if the observed z score is lower than crital z score.\\n\")\n",
    "\n",
    "crit_xbar = 25+crit_z*3/(30**0.5)\n",
    "print(crit_xbar)\n",
    "print(\"This is a left-tailed test. We reject the null hypotheses if the observed xbar is lower than crital xbar.\\n\")\n"
   ]
  },
  {
   "cell_type": "code",
   "execution_count": 11,
   "metadata": {
    "collapsed": false
   },
   "outputs": [
    {
     "name": "stdout",
     "output_type": "stream",
     "text": [
      "1.59773480607\n"
     ]
    },
    {
     "data": {
      "text/plain": [
       "0.055051004553206773"
      ]
     },
     "execution_count": 11,
     "metadata": {},
     "output_type": "execute_result"
    }
   ],
   "source": [
    "# 4-b: What is the probability of committing a type ii error if the actual mileage is 23 miles per gallon? (1 point)\n",
    "\n",
    "print((crit_xbar-23)/3*(30**0.5))\n",
    "\n",
    "1-norm.cdf(crit_xbar, 23, 3/(30**0.5))\n"
   ]
  },
  {
   "cell_type": "code",
   "execution_count": 12,
   "metadata": {
    "collapsed": false
   },
   "outputs": [
    {
     "data": {
      "text/plain": [
       "0.59017962100490717"
      ]
     },
     "execution_count": 12,
     "metadata": {},
     "output_type": "execute_result"
    }
   ],
   "source": [
    "# 4-c: What is the probability of committing a type ii error if the actual mileage is 24 miles per gallon? (1 points)\n",
    "\n",
    "\n",
    "1-norm.cdf(crit_xbar, 24, 3/(30**0.5))\n"
   ]
  },
  {
   "cell_type": "code",
   "execution_count": 13,
   "metadata": {
    "collapsed": true
   },
   "outputs": [],
   "source": [
    "# 4-d: What is the probability of committing a type ii error if the actual mileage is 25.5 miles per gallon? (1 point)\n",
    "\n",
    "# Cannot compute beta because when actual mileage is 25.5, the null hypothesis is true. "
   ]
  },
  {
   "cell_type": "markdown",
   "metadata": {},
   "source": [
    "### Problem 5\n",
    "Create a function named “compute_power_in_two_tailed_test”. (5 points)\n",
    "The function takes the following inputs: \n",
    "1. mu_b: a real number for population mean based on which we compute beta value and power; \n",
    "    * Recall that Type II error is accepting H0 when it is false.\n",
    "2. mu_h: a real number for hypothesized population mean in the original hypotheses; \n",
    "3. n: a positive integer for sample size; \n",
    "4. alpha: a real number between 0 and 1 for significance level\n",
    "5. sd: a positive real number for population or sample standard deviation; \n",
    "6. pop: a boolean indicating whether sd is population standard deviation or sample sd. The default is True.\n",
    "\n",
    "The function returns a real number between 0 and 1 for the power of the hypothesis test. \n",
    "* Note that the returned value is power, not beta."
   ]
  },
  {
   "cell_type": "code",
   "execution_count": 14,
   "metadata": {
    "collapsed": true
   },
   "outputs": [],
   "source": [
    "\n",
    "def compute_power_in_two_tailed_test(mu_b, mu_h, n, alpha, sd, pop=True):\n",
    "    from scipy.stats import norm, t\n",
    "    \n",
    "    # start your code below\n",
    "    if pop:\n",
    "        crit_z = norm.ppf(1 - alpha/2.) # upper critical z value only for two-tailed test\n",
    "        crit_Xbar1 = mu_h - crit_z*sd/pow(n, 0.5)\n",
    "        crit_Xbar2 = mu_h + crit_z*sd/pow(n, 0.5)\n",
    "        z1 = (crit_Xbar1 - mu_b)/sd*pow(n, 0.5)\n",
    "        z2 = (crit_Xbar2 - mu_b)/sd*pow(n, 0.5)\n",
    "        beta = norm.cdf(z2) - norm.cdf(z1)\n",
    "    else:\n",
    "        crit_z = t.ppf(1 - alpha/2., n-1)\n",
    "        crit_Xbar1 = mu_h - crit_z*sd/pow(n, 0.5)\n",
    "        crit_Xbar2 = mu_h + crit_z*sd/pow(n, 0.5)\n",
    "        z1 = (crit_Xbar1 - mu_b)/sd*pow(n, 0.5)\n",
    "        z2 = (crit_Xbar2 - mu_b)/sd*pow(n, 0.5)\n",
    "        beta = t.cdf(z2, n-1) - t.cdf(z1, n-1)\n",
    "    return 1 - beta"
   ]
  },
  {
   "cell_type": "code",
   "execution_count": 16,
   "metadata": {
    "collapsed": false
   },
   "outputs": [
    {
     "name": "stdout",
     "output_type": "stream",
     "text": [
      "0.910637011996\n",
      "0.928307656198\n"
     ]
    }
   ],
   "source": [
    "print(compute_power_in_two_tailed_test(16.5, 16, 30, 0.05, 0.8, False))\n",
    "print(compute_power_in_two_tailed_test(16.5, 16, 30, 0.05, 0.8))"
   ]
  },
  {
   "cell_type": "code",
   "execution_count": null,
   "metadata": {
    "collapsed": true
   },
   "outputs": [],
   "source": []
  }
 ],
 "metadata": {
  "anaconda-cloud": {},
  "kernelspec": {
   "display_name": "Python [default]",
   "language": "python",
   "name": "python3"
  },
  "language_info": {
   "codemirror_mode": {
    "name": "ipython",
    "version": 3
   },
   "file_extension": ".py",
   "mimetype": "text/x-python",
   "name": "python",
   "nbconvert_exporter": "python",
   "pygments_lexer": "ipython3",
   "version": "3.5.2"
  }
 },
 "nbformat": 4,
 "nbformat_minor": 1
}
