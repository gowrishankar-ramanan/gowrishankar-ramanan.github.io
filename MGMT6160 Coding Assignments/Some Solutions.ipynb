{
 "cells": [
  {
   "cell_type": "markdown",
   "metadata": {},
   "source": [
    "### Problem 1\n",
    "Write a Python function that reverses a list of n integers, so that the numbers are listed in the opposite order than they were before. (You may want to compare your method to an equivalent Python function.)"
   ]
  },
  {
   "cell_type": "code",
   "execution_count": null,
   "metadata": {
    "collapsed": true
   },
   "outputs": [],
   "source": [
    "# x is a list of n integers\n",
    "\n",
    "def reverse(x):\n",
    "    # start your code below\n",
    "    if len(x)>=2:\n",
    "        for i in range(len(x)//2):\n",
    "            x[i], x[len(x)-1-i] = x[len(x)-1-i], x[i]\n",
    "    return x"
   ]
  },
  {
   "cell_type": "code",
   "execution_count": null,
   "metadata": {
    "collapsed": true
   },
   "outputs": [],
   "source": [
    "# another version\n",
    "\n",
    "def reverse(x):\n",
    "    # start your code below\n",
    "    return x[::-1]"
   ]
  },
  {
   "cell_type": "markdown",
   "metadata": {},
   "source": [
    "### Problem 2\n",
    "The p-norm of a vector v = ($v_1,v_2,...,v_n$) in n-dimensional space is defined as $||v|| = \\sqrt[p]{v_1^p + v_2^p + \\ldots + v_n^p}$. For the special case of p = 2, this results in the traditional Euclidean norm, which represents the length of the vector. For example, the Euclidean norm of a two-dimensional vector with coordinates (4,3) has a Euclidean norm of $\\sqrt{4^2 + 3^2} = \\sqrt{25} = 5$. Give an implementation of a function named norm such that norm(v, p) returns the p-norm value of v and norm(v) returns the Euclidean norm of v. You may assume that v is a list of numbers and p>0."
   ]
  },
  {
   "cell_type": "code",
   "execution_count": null,
   "metadata": {
    "collapsed": true
   },
   "outputs": [],
   "source": [
    "def norm(v, p=2):\n",
    "    # start your code below; it can be done with just one line of code\n",
    "    return pow(sum([pow(x, p) for x in v]), 1/p)"
   ]
  },
  {
   "cell_type": "markdown",
   "metadata": {},
   "source": [
    "### Problem 3\n",
    "The greatest common divisor of two positive integers, m and n, is the largest number, d, which divides evenly into both m and n. There are several algorithms that can be used to solve this problem, including:\n",
    "    \n",
    "    Initialize d to the smaller of m and n\n",
    "    While d does not evenly divide m or d does not evenly divide n do\n",
    "        decrease the value of d by 1\n",
    "    report d as the greatest common divisor of m and n\n",
    "\n",
    "Write a Python function that reads two positive integers and uses this algorithm to determine and report their greatest common divisor."
   ]
  },
  {
   "cell_type": "code",
   "execution_count": null,
   "metadata": {
    "collapsed": true
   },
   "outputs": [],
   "source": [
    "def gcd(m, n):\n",
    "    # start your code below\n",
    "    d = min(m, n)\n",
    "    while (m%d != 0) or (n%d != 0):\n",
    "        d -= 1\n",
    "    return d"
   ]
  },
  {
   "cell_type": "markdown",
   "metadata": {},
   "source": [
    "### Problem 4\n",
    "Write a Python function that implements Newton's method to compute and display the square root of a positive number x. The algorithm for Newton's method follows:\n",
    "\n",
    "    Initialize guess to x/2\n",
    "    While guess is not good enough do\n",
    "        update guess to be the average of guess and x/guess\n",
    "    \n",
    "When this algorithm completes, guess contains an approximation of the square root.The quality of the approximation depends on how you define \"good enough\". In this exercise, guess was considered good enough when the absolute value of the difference between guess * guess and x was less than or equal to 10^-12.\n"
   ]
  },
  {
   "cell_type": "code",
   "execution_count": null,
   "metadata": {
    "collapsed": true
   },
   "outputs": [],
   "source": [
    "def find_sqrt(x):\n",
    "    # start your code below\n",
    "    guess = x/2\n",
    "    while abs(guess**2 - x) > 0.00000000001:\n",
    "        guess = (guess + x/guess)/2\n",
    "    return guess"
   ]
  },
  {
   "cell_type": "markdown",
   "metadata": {},
   "source": [
    "### Problem 3 (5 points)\n",
    "\n",
    "The data file \"NBA.csv\" contains information on 2763 NBA players from their rookie season. The data contain seven attributes: ID, FN, LN, isAllStar, DRAFT_YR, MPG, PPG. Make sure that \"NBA.csv\" is in your working directory. Pay attention to the format of the data and do not make any change to the data file.\n",
    "\n",
    "Write a Python function find_rookie(a, b) here in this cell that takes two non-negative real numbers a and b as input. The function returns a list of all players whose PPG was at least a points per game and MPG is at least b minutes per game. Please use a list for each qualified player, including FN, LN, isAllStar, DRAFT_YR, MPG, and PPG. Therefore, eventually the function will return a list of list similar to the below:\n",
    "\n",
    "[[FN1, LN1, isAllStar1, DRAFT_YR1, MPG1, PPG1], [FN2, LN3, isAllStar2, DRAFT_YR2, MPG2, PPG2]]\n"
   ]
  },
  {
   "cell_type": "code",
   "execution_count": null,
   "metadata": {
    "collapsed": true
   },
   "outputs": [],
   "source": [
    "def find_rookie(a, b):\n",
    "    \n",
    "    # start your code below\n",
    "    import csv\n",
    "    player = []\n",
    "    \n",
    "    with open('NBA.csv') as f:\n",
    "        reader = csv.reader(f)\n",
    "        next(reader, None)               # print header of NBA.csv and skip the header\n",
    "    \n",
    "        for row in reader:                             \n",
    "            if float(row[5]) >= b and float(row[6]) >= a: player.append(row[1:])\n",
    "\n",
    "        return player\n"
   ]
  },
  {
   "cell_type": "markdown",
   "metadata": {},
   "source": [
    "### Problem 1: Birthday problem (5 points)\n",
    "How many people do we need to have in a room to make it a favorable bet (probability of success greater than 1/2) that at least two people in the room will have the same birthday? Ignore leap year and assume that the probability of birthday falling on any of 365 days is equal.\n",
    "\n",
    "To answer the above question, please write a Python function \"same_bday_prob(i)\" in the cell below. The function takes an integer greater than 1 as input and returns the probability that at least two people have the same birthday."
   ]
  },
  {
   "cell_type": "code",
   "execution_count": null,
   "metadata": {
    "collapsed": true
   },
   "outputs": [],
   "source": [
    "from numpy import prod\n",
    "\n",
    "def same_bday_prob(i):\n",
    "    \n",
    "    # start your code below\n",
    "\n",
    "    return 1 - prod([n/365 for n in range(364, 365-i, -1)])\n"
   ]
  },
  {
   "cell_type": "markdown",
   "metadata": {},
   "source": [
    "### Problem 2 (5 points)\n",
    "A travel bureau estimates that when 20 tourists go to a resort with ten hotels. Find the probability that no hotel is left vacant when the first group of 20 tourists arrives.\n",
    "\n",
    "To answer the above question, please write a Python function \"no_vacant_prob(n, r)\" in the cell below. The function takes two integers (n >= r) as input and returns the probability that no hotel is left vacant when the first group of n tourists arrives given r hotels."
   ]
  },
  {
   "cell_type": "code",
   "execution_count": null,
   "metadata": {
    "collapsed": true
   },
   "outputs": [],
   "source": [
    "def no_vacant_prob(n, r):\n",
    "    \n",
    "    # start your code below\n",
    "    return combin(n-1, r-1)/combin(n+r-1, r-1)"
   ]
  },
  {
   "cell_type": "code",
   "execution_count": null,
   "metadata": {
    "collapsed": true
   },
   "outputs": [],
   "source": []
  },
  {
   "cell_type": "code",
   "execution_count": null,
   "metadata": {
    "collapsed": true
   },
   "outputs": [],
   "source": []
  }
 ],
 "metadata": {
  "anaconda-cloud": {},
  "kernelspec": {
   "display_name": "Python [default]",
   "language": "python",
   "name": "python3"
  },
  "language_info": {
   "codemirror_mode": {
    "name": "ipython",
    "version": 3
   },
   "file_extension": ".py",
   "mimetype": "text/x-python",
   "name": "python",
   "nbconvert_exporter": "python",
   "pygments_lexer": "ipython3",
   "version": "3.5.2"
  }
 },
 "nbformat": 4,
 "nbformat_minor": 1
}
