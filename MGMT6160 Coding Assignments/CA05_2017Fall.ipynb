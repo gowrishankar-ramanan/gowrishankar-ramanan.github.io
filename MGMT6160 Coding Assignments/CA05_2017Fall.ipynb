{
 "cells": [
  {
   "cell_type": "markdown",
   "metadata": {},
   "source": [
    "### Problem 1: (4 points)\n",
    "\n",
    "Please follow the instructions below and write a Python script to quantitatively test central limit theorem based on uniform distribution on [0, 1]. You can use all Python’s built-in functions, math, matplotlib and numpy libraries.\n",
    "\n",
    "1.\tGiven sample size n = 5\n",
    "    * each time randomly draw 5 random numbers from the uniform distribution on [0, 1]. Compute sample mean.\n",
    "    * repeat above sampling 100,000 times.\n",
    "    * plot a normalized histogram with 100 bins.\n",
    "    * compute the mean of the sample means and the standard error of the sample means based on these 100,000 iterations. Compare these two experimental results with the theoretical results from CLT.\n",
    "    \n",
    "2. Repeat 1 for sample size n = 50.\n"
   ]
  },
  {
   "cell_type": "code",
   "execution_count": null,
   "metadata": {
    "collapsed": true
   },
   "outputs": [],
   "source": []
  },
  {
   "cell_type": "markdown",
   "metadata": {},
   "source": [
    "### Problem 2: (7-29 on Page 326)\n",
    "\n",
    "The mean preparation fee H&R Block charged retail customers last year was \\$183 (the Wall Street Journal, March 7, 2012). Use this price as the population mean and assume the population standard deviation of preparation fees is \\$50."
   ]
  },
  {
   "cell_type": "code",
   "execution_count": null,
   "metadata": {
    "collapsed": false
   },
   "outputs": [],
   "source": [
    "# a. What is the probability that the mean price for a sample of 30 H&R Block retail customers is within $8 of population mean?\n",
    "# 2 points\n",
    "\n"
   ]
  },
  {
   "cell_type": "code",
   "execution_count": null,
   "metadata": {
    "collapsed": false
   },
   "outputs": [],
   "source": [
    "# b. What is the probability that the mean price for a sample of 50 H&R Block retail customers is within $8 of population mean?\n",
    "# 1 point\n",
    "\n"
   ]
  },
  {
   "cell_type": "code",
   "execution_count": null,
   "metadata": {
    "collapsed": false
   },
   "outputs": [],
   "source": [
    "# c. What is the probability that the mean price for a sample of 100 H&R Block retail customers is within $8 of population mean?\n",
    "# 1 point\n"
   ]
  },
  {
   "cell_type": "code",
   "execution_count": null,
   "metadata": {
    "collapsed": false
   },
   "outputs": [],
   "source": [
    "# d. What sample size would you recommend to have at least a .95 probability that the sample mean is within $8 of population mean?\n",
    "# 2 points\n",
    "\n"
   ]
  },
  {
   "cell_type": "markdown",
   "metadata": {},
   "source": [
    "### Problem 3: (7-39 on Page 331)\n",
    "\n",
    "In 2008 the Better Business Bureau settled 75% of complaints they received (USA Today, March 2, 2009). Suppose you have been hired by the Better Business Bureau to investigate the complaints they received this year involving new car dealers. You plan to select a sample of new car dealer complaints to estimate the proportion of complaints the Better Business Bureau is able to settle. Assume the population proportion of complaints settled for new car dealers is .75, the same as the overall proportion of complaints settled in 2008.\n"
   ]
  },
  {
   "cell_type": "markdown",
   "metadata": {
    "collapsed": true
   },
   "source": [
    "a. Suppose you select a sample of 450 complaints involving new car dealers. Describe the\n",
    "sampling distribution of $\\overline{p}$. (2 points)\n",
    "\n"
   ]
  },
  {
   "cell_type": "code",
   "execution_count": null,
   "metadata": {
    "collapsed": false
   },
   "outputs": [],
   "source": []
  },
  {
   "cell_type": "code",
   "execution_count": null,
   "metadata": {
    "collapsed": false
   },
   "outputs": [],
   "source": [
    "# b. Based upon a sample of 450 complaints, \n",
    "# what is the probability that the sample proportion will be within .04 of the population proportion?\n",
    "# 2 points\n",
    "\n"
   ]
  },
  {
   "cell_type": "markdown",
   "metadata": {
    "collapsed": true
   },
   "source": [
    "c. Suppose you select a sample of 200 complaints involving new car dealers. Describe the\n",
    "sampling distribution of $\\overline{p}$. (1 point)\n",
    "\n"
   ]
  },
  {
   "cell_type": "code",
   "execution_count": null,
   "metadata": {
    "collapsed": false
   },
   "outputs": [],
   "source": []
  },
  {
   "cell_type": "code",
   "execution_count": null,
   "metadata": {
    "collapsed": false
   },
   "outputs": [],
   "source": [
    "# d. Based upon a sample of 200 complaints, \n",
    "# what is the probability that the sample proportion will be within .04 of the population proportion?\n",
    "# 1 point\n",
    "\n"
   ]
  },
  {
   "cell_type": "markdown",
   "metadata": {},
   "source": [
    "### Problem 4: (8-15 on Page 362)\n",
    "\n",
    "Sales personnel for Skillings Distributors submit weekly reports listing the customer contacts made during the week. A sample of 65 weekly reports showed a sample mean of 19.5 customer contacts per week. The sample standard deviation was 5.2. Provide 90% and 95% confidence intervals for the population mean number of weekly customer contacts for the sales personnel. (3 points)\n"
   ]
  },
  {
   "cell_type": "code",
   "execution_count": null,
   "metadata": {
    "collapsed": false
   },
   "outputs": [],
   "source": []
  },
  {
   "cell_type": "code",
   "execution_count": null,
   "metadata": {
    "collapsed": true
   },
   "outputs": [],
   "source": []
  },
  {
   "cell_type": "markdown",
   "metadata": {},
   "source": [
    "### Problem 5: (8-60 on page 376)\n",
    "\n",
    "Although airline schedules and cost are important factors for business travelers when choosing an airline carrier, a USA Today survey found that business travelers list an airline’s frequent flyer program as the most important factor. From a sample of n = 1993 business travelers who responded to the survey, 618 listed a frequent flyer program as the most important factor.\n"
   ]
  },
  {
   "cell_type": "code",
   "execution_count": null,
   "metadata": {
    "collapsed": false
   },
   "outputs": [],
   "source": [
    "# a. What is the point estimate of the proportion of the population of business travelers \n",
    "# who believe a frequent flyer program is the most important factor when choosing an airline carrier? (1 point)\n",
    "\n"
   ]
  },
  {
   "cell_type": "code",
   "execution_count": null,
   "metadata": {
    "collapsed": false
   },
   "outputs": [],
   "source": [
    "# b. Compute the standard error. (1 point)\n",
    "\n"
   ]
  },
  {
   "cell_type": "code",
   "execution_count": null,
   "metadata": {
    "collapsed": false
   },
   "outputs": [],
   "source": [
    "# c. Compute the margin of error for a 95% confidence. (1 point)\n",
    "\n"
   ]
  },
  {
   "cell_type": "code",
   "execution_count": null,
   "metadata": {
    "collapsed": false
   },
   "outputs": [],
   "source": [
    "# d. Develop a 95% confidence interval estimate of the population proportion. (1 point)\n",
    "\n"
   ]
  },
  {
   "cell_type": "code",
   "execution_count": null,
   "metadata": {
    "collapsed": false
   },
   "outputs": [],
   "source": [
    "# e. How large a sample would be required to report the margin of error of .01 at 95% confidence? \n",
    "# Would you recommend that USA Today attempt to provide this degree of precision? Why or why not? (2 points)\n",
    "\n"
   ]
  },
  {
   "cell_type": "code",
   "execution_count": null,
   "metadata": {
    "collapsed": true
   },
   "outputs": [],
   "source": []
  }
 ],
 "metadata": {
  "anaconda-cloud": {},
  "kernelspec": {
   "display_name": "Python [default]",
   "language": "python",
   "name": "python3"
  },
  "language_info": {
   "codemirror_mode": {
    "name": "ipython",
    "version": 3
   },
   "file_extension": ".py",
   "mimetype": "text/x-python",
   "name": "python",
   "nbconvert_exporter": "python",
   "pygments_lexer": "ipython3",
   "version": "3.5.2"
  }
 },
 "nbformat": 4,
 "nbformat_minor": 1
}
