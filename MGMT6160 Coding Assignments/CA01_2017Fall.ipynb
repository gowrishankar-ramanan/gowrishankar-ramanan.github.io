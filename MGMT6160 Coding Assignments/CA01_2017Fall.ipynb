{
 "cells": [
  {
   "cell_type": "markdown",
   "metadata": {},
   "source": [
    "## For all the problems, please remove or comment out your testing code\n",
    "### Problem 1\n",
    "Write a Python function that reverses a list of n integers, so that the numbers are listed in the opposite order than they were before. (You may want to compare your method to an equivalent Python function.)"
   ]
  },
  {
   "cell_type": "code",
   "execution_count": 1,
   "metadata": {
    "collapsed": true
   },
   "outputs": [],
   "source": [
    "def reverse(n):\n",
    "    # start your code below\n",
    "\n",
    "    "
   ]
  },
  {
   "cell_type": "markdown",
   "metadata": {},
   "source": [
    "### Problem 2\n",
    "The p-norm of a vector v = ($v_1,v_2,...,v_n$) in n-dimensional space is defined as $||v|| = \\sqrt[p]{v_1^p + v_2^p + \\ldots + v_n^p}$. For the special case of p = 2, this results in the traditional Euclidean norm, which represents the length of the vector. For example, the Euclidean norm of a two-dimensional vector with coordinates (4,3) has a Euclidean norm of $\\sqrt{4^2 + 3^2} = \\sqrt{25} = 5$. Give an implementation of a function named norm such that norm(v, p) returns the p-norm value of v and norm(v) returns the Euclidean norm of v. You may assume that v is a list of numbers and p>0."
   ]
  },
  {
   "cell_type": "code",
   "execution_count": 3,
   "metadata": {
    "collapsed": true
   },
   "outputs": [],
   "source": [
    "def norm(v, p=2):\n",
    "    # start your code below; it can be done with just one line of code\n",
    "    \n",
    "    \n",
    "    "
   ]
  },
  {
   "cell_type": "markdown",
   "metadata": {},
   "source": [
    "### Problem 3\n",
    "The greatest common divisor of two positive integers, m and n, is the largest number, d, which divides evenly into both m and n. There are several algorithms that can be used to solve this problem, including:\n",
    "    \n",
    "    Initialize d to the smaller of m and n\n",
    "    While d does not evenly divide m or d does not evenly divide n do\n",
    "        decrease the value of d by 1\n",
    "    report d as the greatest common divisor of m and n\n",
    "\n",
    "Write a Python function that reads two positive integers and uses this algorithm to determine and report their greatest common divisor."
   ]
  },
  {
   "cell_type": "code",
   "execution_count": 5,
   "metadata": {
    "collapsed": true
   },
   "outputs": [],
   "source": [
    "def gcd(m, n):\n",
    "    # start your code below\n",
    "\n",
    "    \n",
    "    \n"
   ]
  },
  {
   "cell_type": "markdown",
   "metadata": {},
   "source": [
    "### Problem 4\n",
    "Write a Python function that implements Newton's method to compute and display the square root of a positive number x. The algorithm for Newton's method follows:\n",
    "\n",
    "    Initialize guess to x/2\n",
    "    While guess is not good enough do\n",
    "        update guess to be the average of guess and x/guess\n",
    "    \n",
    "When this algorithm completes, guess contains an approximation of the square root.The quality of the approximation depends on how you define \"good enough\". In this exercise, guess was considered good enough when the absolute value of the difference between guess * guess and x was less than or equal to 10^-12.\n"
   ]
  },
  {
   "cell_type": "code",
   "execution_count": 7,
   "metadata": {
    "collapsed": true
   },
   "outputs": [],
   "source": [
    "def find_sqrt(x):\n",
    "    # start your code below\n",
    "\n",
    "    \n",
    "    \n",
    "    "
   ]
  },
  {
   "cell_type": "code",
   "execution_count": null,
   "metadata": {
    "collapsed": true
   },
   "outputs": [],
   "source": []
  }
 ],
 "metadata": {
  "anaconda-cloud": {},
  "kernelspec": {
   "display_name": "Python [default]",
   "language": "python",
   "name": "python3"
  },
  "language_info": {
   "codemirror_mode": {
    "name": "ipython",
    "version": 3
   },
   "file_extension": ".py",
   "mimetype": "text/x-python",
   "name": "python",
   "nbconvert_exporter": "python",
   "pygments_lexer": "ipython3",
   "version": "3.5.2"
  }
 },
 "nbformat": 4,
 "nbformat_minor": 1
}
