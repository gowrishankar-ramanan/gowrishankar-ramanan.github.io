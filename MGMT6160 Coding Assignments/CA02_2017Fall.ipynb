{
 "cells": [
  {
   "cell_type": "markdown",
   "metadata": {},
   "source": [
    "### Problem 1 (5 points)\n",
    "\n",
    "Nearly 1.8 million bachelor’s degrees and over 750,000 master’s degrees are awarded annually by U.S. postsecondary institutions (National Center for Education Statistics web- site, November, 2014). The department of Education tracks the field of study for these graduates in the following categories: Business (B), Computer Sciences and Engineering (CSE), Education (E), Humanities (H), Natural Sciences and Mathematics (NSM), Social and Behavioral Sciences (SBS), and Other (O).\n",
    "\n",
    "Please read the data from \"Majors.csv\" and complete the following tasks. Make sure that \"Majors.csv\" is in your working directory. Pay attention to the format of the data and do not make any change to the data file."
   ]
  },
  {
   "cell_type": "code",
   "execution_count": null,
   "metadata": {
    "collapsed": true
   },
   "outputs": [],
   "source": [
    "# 1-1: Provide a percent frequency distribution of field of study for each degree\n",
    "\n"
   ]
  },
  {
   "cell_type": "code",
   "execution_count": null,
   "metadata": {
    "collapsed": true
   },
   "outputs": [],
   "source": [
    "# 1-2: Use list comprehension to display the field of study's change in percentage from bachelor's to master's. (2 points)\n",
    "\n"
   ]
  },
  {
   "cell_type": "code",
   "execution_count": null,
   "metadata": {
    "collapsed": true
   },
   "outputs": [],
   "source": [
    "# 1-3: Construct a pie chart for field of study for bachelor's degree with proper label/title/legend.\n",
    "\n"
   ]
  },
  {
   "cell_type": "code",
   "execution_count": null,
   "metadata": {
    "collapsed": true
   },
   "outputs": [],
   "source": [
    "# 1-4: Construct a bar chart for field of study for master's degree with proper label/title/legend.\n",
    "\n"
   ]
  },
  {
   "cell_type": "markdown",
   "metadata": {},
   "source": [
    "### Problem 2 (10 points)\n",
    "The 32 teams in the National Football League (NFL) are worth, on average, $1.17 billion, 5 percent more than last year. The data file \"NFLTeamValue.csv\" shows the annual revenue ($ millions) and the estimated team value ($ millions) for the 32 NFL teams (forbes website, February 28, 2014). \n",
    "\n",
    "Please read the data from \"NFLTeamValue.csv\" and complete the following tasks. Make sure that \"NFLTeamValue.csv\" is in your working directory. Pay attention to the format of the data and do not make any change to the data file.\n",
    "\n",
    "Note: In total, there are 32 teams. Therefore, the data contains the entire population. Make sure you use appropriate formulars (for population, not for sample) when computing the values needed."
   ]
  },
  {
   "cell_type": "code",
   "execution_count": 1,
   "metadata": {
    "collapsed": true
   },
   "outputs": [],
   "source": [
    "# 2-1: Develop and display a histogram for the annual revenue with proper label/title/legend. \n",
    "# Choose an appropriate value for the number of bins.\n",
    "\n"
   ]
  },
  {
   "cell_type": "code",
   "execution_count": null,
   "metadata": {
    "collapsed": true
   },
   "outputs": [],
   "source": [
    "# 2-2: Compute and display the following information for the annual revenue: \n",
    "# mean, median, variance, standard deviation, 1st and 3rd quartile, 10th and 90th percentile and IQR.\n",
    "# Don't simply print out a number. Make sure you clearly indicate what a number is. For example, \"the mean of the annual revenue is\"\n",
    "\n",
    "\n",
    "\n"
   ]
  },
  {
   "cell_type": "code",
   "execution_count": null,
   "metadata": {
    "collapsed": true
   },
   "outputs": [],
   "source": [
    "# 2-3: Compute and display z-scores for Dallas Cowboys, Oakland Raiders, and Chicago Bears. (2 points)\n",
    "# And then print out the team names of all outliers based on z-score. \n",
    "# Read the textbook if you don't know how to determine outliers based on z-score.\n",
    "\n"
   ]
  },
  {
   "cell_type": "code",
   "execution_count": null,
   "metadata": {
    "collapsed": true
   },
   "outputs": [],
   "source": [
    "# 2-4: Develop and display a box for the estimated team value with proper label/title/legend.\n",
    "\n"
   ]
  },
  {
   "cell_type": "code",
   "execution_count": null,
   "metadata": {
    "collapsed": true
   },
   "outputs": [],
   "source": [
    "# 2-5: Compute and display the following information for the estimated team value: \n",
    "# mean, median, variance, standard deviation, 1st and 3rd quartile, 10th and 90th percentile and IQR.\n",
    "\n"
   ]
  },
  {
   "cell_type": "code",
   "execution_count": null,
   "metadata": {
    "collapsed": true
   },
   "outputs": [],
   "source": [
    "# 2-6: Print out the team names of all outliers based on IQR. (2 points)\n",
    "# Read the textbook if you don't know how to determine outliers based on IQR.\n",
    "\n"
   ]
  },
  {
   "cell_type": "code",
   "execution_count": null,
   "metadata": {
    "collapsed": true
   },
   "outputs": [],
   "source": [
    "# 2-7: Develop a scatter diagram with Revenue on the horizontal axis and value on the vertical axis. \n",
    "# Briefly describe the relationship between the two variables?\n",
    "\n"
   ]
  },
  {
   "cell_type": "code",
   "execution_count": null,
   "metadata": {
    "collapsed": true
   },
   "outputs": [],
   "source": [
    "# 2-8: Compute and display the population covariance and correlation coefficient between the two variables.\n",
    "# Briefly interpret the practical meaning of this correlation coefficient."
   ]
  },
  {
   "cell_type": "markdown",
   "metadata": {},
   "source": [
    "### Problem 3 (5 points)\n",
    "\n",
    "The data file \"NBA.csv\" contains information on 2763 NBA players from their rookie season. The data contain seven attributes: ID, FN, LN, isAllStar, DRAFT_YR, MPG, PPG. Make sure that \"NBA.csv\" is in your working directory. Pay attention to the format of the data and do not make any change to the data file.\n",
    "\n",
    "Write a Python function find_rookie(a, b) here in this cell that takes two non-negative real numbers a and b as input. The function returns a list of all players whose PPG was at least a points per game and MPG is at least b minutes per game. Please use a list for each qualified player, including FN, LN, isAllStar, DRAFT_YR, MPG, and PPG. Therefore, eventually the function will return a list of list similar to the below:\n",
    "\n",
    "[[FN1, LN1, isAllStar1, DRAFT_YR1, MPG1, PPG1], [FN2, LN3, isAllStar2, DRAFT_YR2, MPG2, PPG2]]\n"
   ]
  },
  {
   "cell_type": "code",
   "execution_count": null,
   "metadata": {
    "collapsed": true
   },
   "outputs": [],
   "source": [
    "def find_rookie(a, b):\n",
    "    \n",
    "    # start your code below\n",
    "\n",
    "\n"
   ]
  }
 ],
 "metadata": {
  "anaconda-cloud": {},
  "kernelspec": {
   "display_name": "Python [default]",
   "language": "python",
   "name": "python3"
  },
  "language_info": {
   "codemirror_mode": {
    "name": "ipython",
    "version": 3
   },
   "file_extension": ".py",
   "mimetype": "text/x-python",
   "name": "python",
   "nbconvert_exporter": "python",
   "pygments_lexer": "ipython3",
   "version": "3.5.2"
  }
 },
 "nbformat": 4,
 "nbformat_minor": 1
}
