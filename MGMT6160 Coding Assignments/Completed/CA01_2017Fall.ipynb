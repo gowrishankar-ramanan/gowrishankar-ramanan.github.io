{
 "cells": [
  {
   "cell_type": "markdown",
   "metadata": {},
   "source": [
    "## For all the problems, please remove or comment out your testing code\n",
    "### Problem 1\n",
    "Write a Python function that reverses a list of n integers, so that the numbers are listed in the opposite order than they were before. (You may want to compare your method to an equivalent Python function.)"
   ]
  },
  {
   "cell_type": "code",
   "execution_count": 95,
   "metadata": {},
   "outputs": [
    {
     "name": "stdout",
     "output_type": "stream",
     "text": [
      "### Test Scenario 1 ###\n",
      "Original list: [1, 2, 3]\n",
      "Reversed List: [3, 2, 1]\n",
      "Reversed using Python function: [3, 2, 1]\n",
      "Does custom function match with python function? True\n",
      "\n",
      "### Test Scenario 2 ###\n",
      "Original list: [1]\n",
      "Reversed List: [1]\n",
      "Reversed using Python function: [1]\n",
      "Does custom function match with python function? True\n",
      "\n",
      "### Test Scenario 3 - Exception for non-integers ###\n"
     ]
    },
    {
     "ename": "ValueError",
     "evalue": "This reverse function accepts only list of integers as input",
     "output_type": "error",
     "traceback": [
      "\u001b[1;31m---------------------------------------------------------------------------\u001b[0m",
      "\u001b[1;31mValueError\u001b[0m                                Traceback (most recent call last)",
      "\u001b[1;32m<ipython-input-95-5915f3d4c379>\u001b[0m in \u001b[0;36m<module>\u001b[1;34m()\u001b[0m\n\u001b[0;32m     27\u001b[0m \u001b[0mtestList\u001b[0m \u001b[1;33m=\u001b[0m \u001b[1;33m[\u001b[0m\u001b[1;36m1\u001b[0m\u001b[1;33m,\u001b[0m\u001b[1;34m'a'\u001b[0m\u001b[1;33m]\u001b[0m\u001b[1;33m\u001b[0m\u001b[0m\n\u001b[0;32m     28\u001b[0m \u001b[0mprint\u001b[0m\u001b[1;33m(\u001b[0m\u001b[1;34m\"\\n### Test Scenario 3 - Exception for non-integers ###\"\u001b[0m\u001b[1;33m)\u001b[0m\u001b[1;33m\u001b[0m\u001b[0m\n\u001b[1;32m---> 29\u001b[1;33m \u001b[0mtestCompareReverse\u001b[0m\u001b[1;33m(\u001b[0m\u001b[0mtestList\u001b[0m\u001b[1;33m)\u001b[0m\u001b[1;33m\u001b[0m\u001b[0m\n\u001b[0m\u001b[0;32m     30\u001b[0m \u001b[1;33m\u001b[0m\u001b[0m\n",
      "\u001b[1;32m<ipython-input-95-5915f3d4c379>\u001b[0m in \u001b[0;36mtestCompareReverse\u001b[1;34m(testList)\u001b[0m\n\u001b[0;32m      7\u001b[0m \u001b[1;32mdef\u001b[0m \u001b[0mtestCompareReverse\u001b[0m\u001b[1;33m(\u001b[0m\u001b[0mtestList\u001b[0m\u001b[1;33m)\u001b[0m\u001b[1;33m:\u001b[0m\u001b[1;33m\u001b[0m\u001b[0m\n\u001b[0;32m      8\u001b[0m     \u001b[1;31m# this code tests the function above by comparing with the python reverse function\u001b[0m\u001b[1;33m\u001b[0m\u001b[1;33m\u001b[0m\u001b[0m\n\u001b[1;32m----> 9\u001b[1;33m     \u001b[0mreversedList\u001b[0m \u001b[1;33m=\u001b[0m \u001b[0mreverse\u001b[0m\u001b[1;33m(\u001b[0m\u001b[0mtestList\u001b[0m\u001b[1;33m)\u001b[0m\u001b[1;33m\u001b[0m\u001b[0m\n\u001b[0m\u001b[0;32m     10\u001b[0m     \u001b[0mprint\u001b[0m\u001b[1;33m(\u001b[0m\u001b[1;34m\"Original list:\"\u001b[0m\u001b[1;33m,\u001b[0m \u001b[0mtestList\u001b[0m\u001b[1;33m)\u001b[0m\u001b[1;33m\u001b[0m\u001b[0m\n\u001b[0;32m     11\u001b[0m     \u001b[0mprint\u001b[0m\u001b[1;33m(\u001b[0m\u001b[1;34m\"Reversed List:\"\u001b[0m\u001b[1;33m,\u001b[0m \u001b[0mreversedList\u001b[0m\u001b[1;33m)\u001b[0m\u001b[1;33m\u001b[0m\u001b[0m\n",
      "\u001b[1;32m<ipython-input-95-5915f3d4c379>\u001b[0m in \u001b[0;36mreverse\u001b[1;34m(n)\u001b[0m\n\u001b[0;32m      2\u001b[0m     \u001b[1;31m# start your code below\u001b[0m\u001b[1;33m\u001b[0m\u001b[1;33m\u001b[0m\u001b[0m\n\u001b[0;32m      3\u001b[0m     \u001b[1;32mif\u001b[0m\u001b[1;33m(\u001b[0m\u001b[1;32mnot\u001b[0m \u001b[0mall\u001b[0m\u001b[1;33m(\u001b[0m\u001b[0misinstance\u001b[0m\u001b[1;33m(\u001b[0m\u001b[0mitem\u001b[0m\u001b[1;33m,\u001b[0m \u001b[0mint\u001b[0m\u001b[1;33m)\u001b[0m \u001b[1;32mfor\u001b[0m \u001b[0mitem\u001b[0m \u001b[1;32min\u001b[0m \u001b[0mn\u001b[0m\u001b[1;33m)\u001b[0m\u001b[1;33m)\u001b[0m\u001b[1;33m:\u001b[0m\u001b[1;33m\u001b[0m\u001b[0m\n\u001b[1;32m----> 4\u001b[1;33m         \u001b[1;32mraise\u001b[0m \u001b[0mValueError\u001b[0m\u001b[1;33m(\u001b[0m\u001b[1;34m\"This reverse function accepts only list of integers as input\"\u001b[0m\u001b[1;33m)\u001b[0m\u001b[1;33m\u001b[0m\u001b[0m\n\u001b[0m\u001b[0;32m      5\u001b[0m     \u001b[1;32mreturn\u001b[0m\u001b[1;33m(\u001b[0m\u001b[0mn\u001b[0m\u001b[1;33m[\u001b[0m\u001b[0mlen\u001b[0m\u001b[1;33m(\u001b[0m\u001b[0mn\u001b[0m\u001b[1;33m)\u001b[0m\u001b[1;33m:\u001b[0m\u001b[1;33m:\u001b[0m\u001b[1;33m-\u001b[0m\u001b[1;36m1\u001b[0m\u001b[1;33m]\u001b[0m\u001b[1;33m)\u001b[0m\u001b[1;33m\u001b[0m\u001b[0m\n\u001b[0;32m      6\u001b[0m \u001b[1;33m\u001b[0m\u001b[0m\n",
      "\u001b[1;31mValueError\u001b[0m: This reverse function accepts only list of integers as input"
     ]
    }
   ],
   "source": [
    "def reverse(n):\n",
    "    # start your code below\n",
    "    if(not all(isinstance(item, int) for item in n)):\n",
    "        raise ValueError(\"This reverse function accepts only list of integers as input\")\n",
    "    return(n[len(n)::-1])\n",
    "\n",
    "def testCompareReverse(testList):\n",
    "    # this code tests the function above by comparing with the python reverse function\n",
    "    reversedList = reverse(testList)\n",
    "    print(\"Original list:\", testList)\n",
    "    print(\"Reversed List:\", reversedList)\n",
    "    testList.reverse() #List reversed in-place\n",
    "    print(\"Reversed using Python function:\", testList)\n",
    "    print(\"Does custom function match with python function?\", reversedList == testList)\n",
    "\n",
    "#Test Scenario 1\n",
    "testList = [1,2,3]\n",
    "print(\"### Test Scenario 1 ###\")\n",
    "testCompareReverse(testList)\n",
    "\n",
    "#Test Scenario 2\n",
    "testList = [1]\n",
    "print(\"\\n### Test Scenario 2 ###\")\n",
    "testCompareReverse(testList)\n",
    "\n",
    "#Test Scenario 3\n",
    "testList = [1,'a']\n",
    "print(\"\\n### Test Scenario 3 - Exception for non-integers ###\")\n",
    "testCompareReverse(testList)\n",
    "    "
   ]
  },
  {
   "cell_type": "markdown",
   "metadata": {},
   "source": [
    "### Problem 2\n",
    "The p-norm of a vector v = ($v_1,v_2,...,v_n$) in n-dimensional space is defined as $||v|| = \\sqrt[p]{v_1^p + v_2^p + \\ldots + v_n^p}$. For the special case of p = 2, this results in the traditional Euclidean norm, which represents the length of the vector. For example, the Euclidean norm of a two-dimensional vector with coordinates (4,3) has a Euclidean norm of $\\sqrt{4^2 + 3^2} = \\sqrt{25} = 5$. Give an implementation of a function named norm such that norm(v, p) returns the p-norm value of v and norm(v) returns the Euclidean norm of v. You may assume that v is a list of numbers and p>0."
   ]
  },
  {
   "cell_type": "code",
   "execution_count": 101,
   "metadata": {},
   "outputs": [
    {
     "name": "stdout",
     "output_type": "stream",
     "text": [
      "Vector: (4, 3)\n",
      "Euclidean Norm: 5.0\n",
      "\n",
      "Vector: (36, 49)\n",
      "Euclidean Norm: 60.802960454241045\n"
     ]
    }
   ],
   "source": [
    "from math import sqrt\n",
    "def norm(v, p=2):\n",
    "    # start your code below; it can be done with just one line of code\n",
    "    return sqrt(sum(num**p for num in v))\n",
    "\n",
    "#Test Scenario 1\n",
    "v = (4,3)\n",
    "print(\"Vector:\", v)\n",
    "print(\"Euclidean Norm:\", norm(v))\n",
    "\n",
    "#Test Scenario 2\n",
    "v = (36,49)\n",
    "print(\"\\nVector:\", v)\n",
    "print(\"Euclidean Norm:\", norm(v))\n",
    "    "
   ]
  },
  {
   "cell_type": "markdown",
   "metadata": {},
   "source": [
    "# Problem 3\n",
    "The greatest common divisor of two positive integers, m and n, is the largest number, d, which divides evenly into both m and n. There are several algorithms that can be used to solve this problem, including:\n",
    "    \n",
    "    Initialize d to the smaller of m and n\n",
    "    While d does not evenly divide m or d does not evenly divide n do\n",
    "        decrease the value of d by 1\n",
    "    report d as the greatest common divisor of m and n\n",
    "\n",
    "Write a Python function that reads two positive integers and uses this algorithm to determine and report their greatest common divisor."
   ]
  },
  {
   "cell_type": "code",
   "execution_count": 104,
   "metadata": {},
   "outputs": [
    {
     "name": "stdout",
     "output_type": "stream",
     "text": [
      "(m,n): 12 18\n",
      "GCD: 6\n",
      "\n",
      "(m,n): 1400 2000\n",
      "GCD: 200\n"
     ]
    }
   ],
   "source": [
    "def gcd(m, n):\n",
    "    # start your code below\n",
    "    d = m if m<n else n\n",
    "    while m%d != 0 or n%d != 0:\n",
    "        d -= 1\n",
    "    return d\n",
    "\n",
    "#Test Scenario 1\n",
    "(m,n) = (12,18)\n",
    "print(\"(m,n):\",m,n)\n",
    "print(\"GCD:\",gcd(m,n))\n",
    "\n",
    "#Test Scenario 2\n",
    "(m,n) = (1400, 2000)\n",
    "print(\"\\n(m,n):\",m,n)\n",
    "print(\"GCD:\",gcd(m,n))\n",
    "    \n"
   ]
  },
  {
   "cell_type": "markdown",
   "metadata": {},
   "source": [
    "### Problem 4\n",
    "Write a Python function that implements Newton's method to compute and display the square root of a positive number x. The algorithm for Newton's method follows:\n",
    "\n",
    "    Initialize guess to x/2\n",
    "    While guess is not good enough do\n",
    "        update guess to be the average of guess and x/guess\n",
    "    \n",
    "When this algorithm completes, guess contains an approximation of the square root.The quality of the approximation depends on how you define \"good enough\". In this exercise, guess was considered good enough when the absolute value of the difference between guess * guess and x was less than or equal to 10^-12.\n"
   ]
  },
  {
   "cell_type": "code",
   "execution_count": 106,
   "metadata": {},
   "outputs": [
    {
     "name": "stdout",
     "output_type": "stream",
     "text": [
      "sqrt of 25: 5.0\n",
      "sqrt of 46987: 216.7648495489986\n"
     ]
    }
   ],
   "source": [
    "def find_sqrt(x):\n",
    "    # start your code below\n",
    "    guess = x/2\n",
    "    while abs((guess*guess) - x) > (10**-12):\n",
    "        guess = (guess + (x/guess))/2\n",
    "    return guess\n",
    "\n",
    "#Test Scenario 1\n",
    "print(\"sqrt of 25:\", find_sqrt(25))\n",
    "\n",
    "#Test Scenario 2\n",
    "print(\"sqrt of 46987:\", find_sqrt(46987))\n",
    "    "
   ]
  },
  {
   "cell_type": "code",
   "execution_count": null,
   "metadata": {
    "collapsed": true
   },
   "outputs": [],
   "source": []
  },
  {
   "cell_type": "code",
   "execution_count": null,
   "metadata": {
    "collapsed": true
   },
   "outputs": [],
   "source": []
  }
 ],
 "metadata": {
  "anaconda-cloud": {},
  "kernelspec": {
   "display_name": "Python 3",
   "language": "python",
   "name": "python3"
  },
  "language_info": {
   "codemirror_mode": {
    "name": "ipython",
    "version": 3
   },
   "file_extension": ".py",
   "mimetype": "text/x-python",
   "name": "python",
   "nbconvert_exporter": "python",
   "pygments_lexer": "ipython3",
   "version": "3.6.2"
  }
 },
 "nbformat": 4,
 "nbformat_minor": 1
}
