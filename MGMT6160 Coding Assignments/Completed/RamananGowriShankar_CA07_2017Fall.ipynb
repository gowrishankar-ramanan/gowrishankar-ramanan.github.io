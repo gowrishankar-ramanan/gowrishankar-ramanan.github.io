{
 "cells": [
  {
   "cell_type": "code",
   "execution_count": 186,
   "metadata": {
    "collapsed": true
   },
   "outputs": [],
   "source": [
    "from scipy.stats import norm, t, chi2, f\n",
    "from statistics import stdev, variance, mean"
   ]
  },
  {
   "cell_type": "markdown",
   "metadata": {},
   "source": [
    "### Problem 1 (10-17, p459)\n",
    "Periodically, Merrill Lynch customers are asked to evaluate Merrill Lynch financial consultants and services. Higher ratings on the client satisfaction survey indicate better service, with 7 the maximum service rating. Independent samples of service ratings for two financial consultants are summarized here. Consultant A has 10 years of experience, whereas consultant B has 1 year of experience. Use $\\alpha$ = .05 and test to see whether the consultant with more experience has the higher population mean service rating.\n",
    "\n",
    "Consultant A: $n_1$ = 16, $\\overline{x}_1$ = 6.82, $s_1$ = 0.64\n",
    "\n",
    "Consultant B: $n_2$ = 10, $\\overline{x}_2$ = 6.25, $s_2$ = 0.75"
   ]
  },
  {
   "cell_type": "code",
   "execution_count": 187,
   "metadata": {
    "collapsed": true
   },
   "outputs": [],
   "source": [
    "# Please use the variables defined below for your computation and do NOT make any change.\n",
    "n1=16; x1bar = 6.82; s1 = 0.64; n2=10; x2bar = 6.25; s2=0.75; alpha = 0.05"
   ]
  },
  {
   "cell_type": "markdown",
   "metadata": {
    "collapsed": true
   },
   "source": [
    "##### 1-a: State the null and alternative hypotheses and clearly specify the type of the test (lower-tail, upper-tail, or two-tailed) in this markdown cell. (1 point)\n",
    "\n",
    "$H_0$: $\\overline{x}_1$ <= $\\overline{x}_2$ (or) $\\overline{x}_1$ - $\\overline{x}_2$ <= 0\n",
    "\n",
    "$H_a$: $\\overline{x}_1$ > $\\overline{x}_2$ (or) $\\overline{x}_1$ - $\\overline{x}_2$ > 0 (Consultant with more experience has the higher population mean service rating)\n",
    "\n",
    "Upper Tail Test"
   ]
  },
  {
   "cell_type": "code",
   "execution_count": 188,
   "metadata": {},
   "outputs": [
    {
     "name": "stdout",
     "output_type": "stream",
     "text": [
      "Standard Error: 0.28609439001839937\n",
      "z value: 1.9923494478984447\n"
     ]
    }
   ],
   "source": [
    "# 1-b: Write a lambda function for computing standard error of the difference between to population means. \n",
    "# And then use this lambda function to compute the standard error and test statistic for this problem.\n",
    "# Print out both your standard error and test statistic. (1 point)\n",
    "se_2means = lambda s1, s2, n1, n2: pow(s1*s1/n1 + s2*s2/n2, 0.5)\n",
    "SE = se_2means(s1, s2, n1, n2)\n",
    "print(\"Standard Error:\", SE)\n",
    "\n",
    "z = (x1bar - x2bar)/ SE\n",
    "print(\"z value:\", z)"
   ]
  },
  {
   "cell_type": "code",
   "execution_count": 189,
   "metadata": {},
   "outputs": [
    {
     "name": "stdout",
     "output_type": "stream",
     "text": [
      "Degree of Freedom: 16.949699749401123\n"
     ]
    }
   ],
   "source": [
    "# 1-c: Write a lambda function for computing the degree of freedom.\n",
    "# Use this lambda function to compute the degree of freedom for this problem. \n",
    "# (1 point)\n",
    "df_2means = lambda s1, s2, n1, n2: ((s1**2/n1 + s2**2/n2)**2)/((s1**2/n1)**2/(n1-1) + (s2**2/n2)**2/(n2-1))\n",
    "\n",
    "# Compute degrees of freedom.\n",
    "df = df_2means(s1, s2, n1, n2)\n",
    "print(\"Degree of Freedom:\", df)"
   ]
  },
  {
   "cell_type": "code",
   "execution_count": 190,
   "metadata": {},
   "outputs": [
    {
     "name": "stdout",
     "output_type": "stream",
     "text": [
      "p value: 0.0231663648967\n",
      "Reject H0. Hence x1bar-x2bar > 0\n",
      "Conclusion: The consultant with more experience (Consultant A) has the higher population mean service rating\n"
     ]
    }
   ],
   "source": [
    "# 1-d: Compute the p-value and draw your conclusion. b\n",
    "# (2 points)\n",
    "p_value = 1 - norm.cdf(z)\n",
    "print(\"p value:\", p_value)\n",
    "\n",
    "if p_value > alpha:\n",
    "    print(\"Accept H0. Hence xlbar-x2bar <= 0\")\n",
    "else:\n",
    "    print(\"Reject H0. Hence x1bar-x2bar > 0\")\n",
    "    print(\"Conclusion: The consultant with more experience (Consultant A) has the higher population mean service rating\")\n"
   ]
  },
  {
   "cell_type": "markdown",
   "metadata": {
    "collapsed": true
   },
   "source": [
    "### Problem 2 (10-31, p470)\n",
    "Forbes reports that women trust recommendations from Pinterest more than recommendations from any other social network platform. But does trust in Pinterest differ by gender? The following sample data show the number of women and men who stated in a recent sample that they trust recommendations made on Pinterest.\n",
    "\n",
    "||Women|Men|\n",
    "|:-|:-:|:-:|\n",
    "|Sample|150|170|\n",
    "|Trust Recommendations Made on Pinterest|117|102|"
   ]
  },
  {
   "cell_type": "code",
   "execution_count": 191,
   "metadata": {},
   "outputs": [
    {
     "name": "stdout",
     "output_type": "stream",
     "text": [
      "p1 (point estimate of proportion of women who trust recommendations): 0.78\n",
      "p2 (point estimate of proportion of men who trust recommendations): 0.6\n"
     ]
    }
   ],
   "source": [
    "# 2-a: What is the point estimate of the proportion of women who trust recommendations made on Pinterest?\n",
    "# What is the point estimate of the proportion of men who trust recommendations made on Pinterest? \n",
    "# (1 point)\n",
    "n1 = 150 #Sample size of women\n",
    "n2 = 170 #Sample size of men\n",
    "p1 = 117/n1\n",
    "p2 = 102/n2\n",
    "\n",
    "print(\"p1 (point estimate of proportion of women who trust recommendations):\", p1)\n",
    "print(\"p2 (point estimate of proportion of men who trust recommendations):\", p2)"
   ]
  },
  {
   "cell_type": "code",
   "execution_count": 192,
   "metadata": {},
   "outputs": [
    {
     "name": "stdout",
     "output_type": "stream",
     "text": [
      "0.05055457156264261\n"
     ]
    }
   ],
   "source": [
    "# 2-b: Write a lambda function for computing se of confidence interval of the difference between to population proportions.\n",
    "# Use the lambda function to compute the standard error for confidence interval of the difference between to population proportions\n",
    "# (1 point)\n",
    "se_2proportions_ci = lambda p1, p2, n1, n2: pow(p1*(1-p1)/n1 + p2*(1-p2)/n2, 0.5)\n",
    "\n",
    "# compute SE\n",
    "SE = se_2proportions_ci(p1, p2, n1, n2)\n",
    "print(SE)"
   ]
  },
  {
   "cell_type": "code",
   "execution_count": 193,
   "metadata": {},
   "outputs": [
    {
     "name": "stdout",
     "output_type": "stream",
     "text": [
      "[0.080914860483367726, 0.27908513951663239]\n"
     ]
    }
   ],
   "source": [
    "# 2-c: Provide a 95% confidence interval estimate of the difference between the proportion of women and men \n",
    "# who trust recommendations made on Pinterest.\n",
    "# (1 point)\n",
    "CL = 0.95\n",
    "z = norm.ppf((1 + CL)/2)\n",
    "#print(z)\n",
    "moe = z * SE\n",
    "#print(moe)\n",
    "print([p1-p2 - moe, p1-p2 + moe])"
   ]
  },
  {
   "cell_type": "code",
   "execution_count": 194,
   "metadata": {},
   "outputs": [
    {
     "name": "stdout",
     "output_type": "stream",
     "text": [
      "0.052064016025522686\n"
     ]
    }
   ],
   "source": [
    "# 2-d: Write a lambda function for computing se for hypothesis testing of the difference between to population proportions.\n",
    "# Use the lambda function to compute the standard error for hypothesis testing of the difference between to population proportions\n",
    "# (1 point)\n",
    "\n",
    "# Compute SE\n",
    "pbar = lambda p1, p2, n1, n2: (n1*p1 + n2*p2)/(n1 + n2)\n",
    "se_2proportions_ht = lambda p1, p2, n1, n2: pow(pbar(p1, p2, n1, n2)*(1-pbar(p1, p2, n1, n2))*(1/n1 + 1/n2), 0.5)\n",
    "\n",
    "SE = se_2proportions_ht(p1, p2, n1, n2)\n",
    "print(SE)"
   ]
  },
  {
   "cell_type": "code",
   "execution_count": 195,
   "metadata": {},
   "outputs": [
    {
     "name": "stdout",
     "output_type": "stream",
     "text": [
      "Formulate Hypotheses:\n",
      "H0: p1 <= p2 (or) p1-p2 <= 0\n",
      "Ha: p1 > p2 (or) p1-p2 > 0\n",
      "\n",
      "z: 3.4572822794108107\n",
      "p value: 0.000272826478886\n",
      "pvalue <= alpha. So, Reject H0. Hence p1-p2 > 0\n",
      "Conclusion: Proportion of women trusting Pinterest recommendations is more than that of men\n"
     ]
    }
   ],
   "source": [
    "# 2-e: at 1% significance level, \n",
    "# test the hypothesis whether proportion of women trusting Pinterest recommendations is more than that of men.\n",
    "# Please clearly state your null and alternative hypotheses. \n",
    "# (2 points)\n",
    "\n",
    "# Formulate hypotheses\n",
    "#H0: p1 <= p2 (or) p1-p2 <= 0\n",
    "#Ha: p1 > p2 (or) p1-p2 > 0\n",
    "print(\"Formulate Hypotheses:\")\n",
    "print(\"H0: p1 <= p2 (or) p1-p2 <= 0\")\n",
    "print(\"Ha: p1 > p2 (or) p1-p2 > 0\")\n",
    "print()\n",
    "alpha = 0.01\n",
    "z = (p1 - p2)/ SE\n",
    "print(\"z:\", z)\n",
    "p_value = 1 - norm.cdf(z)\n",
    "#p_value = norm.cdf(z) - if you reverse the difference is negative\n",
    "print(\"p value:\", p_value)\n",
    "\n",
    "if p_value > alpha:\n",
    "    print(\"pvalue > alpha. So, Accept H0. Hence p1-p2 <= 0\")\n",
    "    print(\"Conclusion: Proportion of women trusting Pinterest recommendations is less or equal than that of men\")\n",
    "else:\n",
    "    print(\"pvalue <= alpha. So, Reject H0. Hence p1-p2 > 0\")\n",
    "    print(\"Conclusion: Proportion of women trusting Pinterest recommendations is more than that of men\")"
   ]
  },
  {
   "cell_type": "markdown",
   "metadata": {},
   "source": [
    "### Problem 3 (11-7, p493)\n",
    "\n",
    "To analyze the risk, or volatility, associated with investing in general electric common stock, a sample of the eight quarterly percent total returns was identified as shown below. The percent total return includes the stock price change plus the dividend payment for the quarter. 20.0\t−20.5\t12.2\t12.6\t10.5\t−5.8\t−18.7\t15.3\n"
   ]
  },
  {
   "cell_type": "code",
   "execution_count": 196,
   "metadata": {},
   "outputs": [
    {
     "name": "stdout",
     "output_type": "stream",
     "text": [
      "Sample mean (xbar): 3.2\n"
     ]
    }
   ],
   "source": [
    "# 3-a: what is the value of the sample mean? what is its interpretation?\n",
    "# (1 point)\n",
    "n = 8\n",
    "percent_tot_returns = [20.0,-20.5,12.2,12.6,10.5,-5.8,-18.7,15.3]\n",
    "xbar = mean(percent_tot_returns)\n",
    "print(\"Sample mean (xbar):\", xbar)\n",
    "#Sample mean represents the central tendancy of the sample data set"
   ]
  },
  {
   "cell_type": "code",
   "execution_count": 197,
   "metadata": {},
   "outputs": [
    {
     "name": "stdout",
     "output_type": "stream",
     "text": [
      "Sample Variance: 253.37142857142857\n",
      "Sample Standard Deviation: 15.917645195550394\n"
     ]
    }
   ],
   "source": [
    "# 3-b: compute the sample variance and sample standard deviation for the quarterly return for general electric.\n",
    "# (1 point)\n",
    "var = variance(percent_tot_returns)\n",
    "print(\"Sample Variance:\", var)\n",
    "s = stdev(percent_tot_returns)\n",
    "print(\"Sample Standard Deviation:\", s)"
   ]
  },
  {
   "cell_type": "code",
   "execution_count": 198,
   "metadata": {},
   "outputs": [
    {
     "name": "stdout",
     "output_type": "stream",
     "text": [
      "[110.76163800213422, 1049.5486989644269]\n"
     ]
    }
   ],
   "source": [
    "# 3-c: Construct a 95% confidence interval for the population variance.\n",
    "# (2 points)\n",
    "CL = 0.95\n",
    "CI_upper = (n-1)*var/chi2.ppf((1 - CL)/2, n-1)\n",
    "CI_lower = (n-1)*var/chi2.ppf((1 + CL)/2, n-1)\n",
    "print([CI_lower, CI_upper])\n"
   ]
  },
  {
   "cell_type": "code",
   "execution_count": 199,
   "metadata": {},
   "outputs": [
    {
     "data": {
      "text/plain": [
       "[10.524335513567316, 32.396739017444744]"
      ]
     },
     "execution_count": 199,
     "metadata": {},
     "output_type": "execute_result"
    }
   ],
   "source": [
    "# 3-d: Construct a 95% confidence interval for the population standard deviation.\n",
    "# (1 point)\n",
    "[CI_lower**0.5, CI_upper**0.5]\n"
   ]
  },
  {
   "cell_type": "markdown",
   "metadata": {
    "collapsed": true
   },
   "source": [
    "### Problem 4 (11-19, p501)\n",
    "\n",
    "The variance in a production process is an important measure of the quality of the process. a large variance often signals an opportunity for improvement in the process by finding ways to reduce the process variance. Conduct a statistical test to determine whether there is a significant difference between the variances in the bag weights for two machines. use a .05 level of significance. \n",
    "\n",
    "\n",
    "Machine 1 \n",
    "2.95, 3.45, 3.50, 3.75, 3.48, 3.26, 3.33, 3.20, 3.16, 3.20, 3.22, 3.38, 3.90, 3.36, 3.25, 3.28, 3.20, 3.22, 2.98, 3.45, 3.70, 3.34, 3.18, 3.35, 3.12 \n",
    "\n",
    "Machine 2\n",
    "3.22, 3.30, 3.34, 3.28, 3.29, 3.25, 3.30, 3.27, 3.38, 3.34, 3.35, 3.19, 3.35, 3.05, 3.36, 3.28, 3.30, 3.28, 3.30, 3.20, 3.16, 3.33\n",
    "\n",
    "what is your conclusion? which machine, if either, provides the greater opportunity for qualit"
   ]
  },
  {
   "cell_type": "markdown",
   "metadata": {
    "collapsed": true
   },
   "source": [
    "##### 4-a: Please clearly state your hypotheses. (1 point)\n",
    "$H_0$: var1 <= var2 (or) var1-var2 <= 0\n",
    "\n",
    "$H_a$: var1 > var2 (or) var1-var2 > 0\n",
    "\n",
    "Upper Tail Test"
   ]
  },
  {
   "cell_type": "code",
   "execution_count": 200,
   "metadata": {},
   "outputs": [
    {
     "name": "stdout",
     "output_type": "stream",
     "text": [
      "variance1: 0.04888899999999999\n",
      "variance2: 0.005901298701298698\n",
      "F value: 8.284447623239439\n"
     ]
    }
   ],
   "source": [
    "# 4-b: Compute the test statistic.\n",
    "# (1 point)\n",
    "\n",
    "# Formulate hypotheses\n",
    "#H0: var1 <= var2 (or) var1-var2 <= 0\n",
    "#Ha: var1 > var2 (or) var1-var2 > 0\n",
    "\n",
    "machine1 = [2.95, 3.45, 3.50, 3.75, 3.48, 3.26, 3.33, 3.20, 3.16, 3.20, 3.22, 3.38, 3.90, 3.36, 3.25, 3.28, 3.20, 3.22, 2.98, 3.45, 3.70, 3.34, 3.18, 3.35, 3.12]\n",
    "machine2 = [3.22, 3.30, 3.34, 3.28, 3.29, 3.25, 3.30, 3.27, 3.38, 3.34, 3.35, 3.19, 3.35, 3.05, 3.36, 3.28, 3.30, 3.28, 3.30, 3.20, 3.16, 3.33]\n",
    "n1 = 25\n",
    "n2 = 22\n",
    "var1 = variance(machine1)\n",
    "print(\"variance1:\", var1)\n",
    "var2 = variance(machine2)\n",
    "print(\"variance2:\", var2)\n",
    "f_value = var1 / var2\n",
    "print(\"F value:\", f_value)"
   ]
  },
  {
   "cell_type": "code",
   "execution_count": 201,
   "metadata": {},
   "outputs": [
    {
     "name": "stdout",
     "output_type": "stream",
     "text": [
      "p value: 3.61078983291e-06\n",
      "pvalue <= alpha. So, Reject H0. Hence var1-var2 > 0\n",
      "Conclusion: There is a significant difference between variances in bag weights for two machines\n",
      "Machine2 has low variance compared to Machine1. So, Machine2 provides greater opportunity for quality\n"
     ]
    }
   ],
   "source": [
    "# 4-c: Compute the p-value and draw your conclusion.\n",
    "# (2 points)\n",
    "# Formulate hypotheses\n",
    "#H0: var1 <= var2 (or) var1-var2 <= 0\n",
    "#Ha: var1 > var2 (or) var1-var2 > 0\n",
    "alpha = 0.05\n",
    "p_value = 1 - f.cdf(f_value, n1-1, n2-1)\n",
    "#p_value = norm.cdf(f_value) - if you reverse the difference is negative\n",
    "print(\"p value:\", p_value)\n",
    "\n",
    "if p_value > alpha:\n",
    "    print(\"pvalue > alpha. So, Accept H0. Hence var1-var2 <= 0\")\n",
    "    print(\"Conclusion: Machine1 has less or same variance compared to Machine2. So, Machine1 provides greater opportunity for quality\")\n",
    "else:\n",
    "    print(\"pvalue <= alpha. So, Reject H0. Hence var1-var2 > 0\")\n",
    "    print(\"Conclusion: There is a significant difference between variances in bag weights for two machines\")\n",
    "    print(\"Machine2 has low variance compared to Machine1. So, Machine2 provides greater opportunity for quality\")"
   ]
  },
  {
   "cell_type": "code",
   "execution_count": null,
   "metadata": {
    "collapsed": true
   },
   "outputs": [],
   "source": []
  },
  {
   "cell_type": "code",
   "execution_count": null,
   "metadata": {
    "collapsed": true
   },
   "outputs": [],
   "source": []
  }
 ],
 "metadata": {
  "anaconda-cloud": {},
  "kernelspec": {
   "display_name": "Python 3",
   "language": "python",
   "name": "python3"
  },
  "language_info": {
   "codemirror_mode": {
    "name": "ipython",
    "version": 3
   },
   "file_extension": ".py",
   "mimetype": "text/x-python",
   "name": "python",
   "nbconvert_exporter": "python",
   "pygments_lexer": "ipython3",
   "version": "3.6.2"
  }
 },
 "nbformat": 4,
 "nbformat_minor": 1
}
