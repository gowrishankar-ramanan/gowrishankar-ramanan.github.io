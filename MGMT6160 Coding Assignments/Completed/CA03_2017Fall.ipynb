{
 "cells": [
  {
   "cell_type": "markdown",
   "metadata": {},
   "source": [
    "### Problem 1: Birthday problem (5 points)\n",
    "How many people do we need to have in a room to make it a favorable bet (probability of success greater than 1/2) that at least two people in the room will have the same birthday? Ignore leap year and assume that the probability of birthday falling on any of 365 days is equal.\n",
    "\n",
    "To answer the above question, please write a Python function \"same_bday_prob(i)\" in the cell below. The function takes an integer greater than 1 as input and returns the probability that at least two people have the same birthday."
   ]
  },
  {
   "cell_type": "code",
   "execution_count": 137,
   "metadata": {},
   "outputs": [
    {
     "name": "stdout",
     "output_type": "stream",
     "text": [
      "There should be atleast 23 people in a room for a favorable bet of having atleast two people with same birthday\n"
     ]
    }
   ],
   "source": [
    "# If you wish, you may use the lambda function and the modules imported below \n",
    "\n",
    "from math import factorial\n",
    "from numpy import prod\n",
    "combin = lambda n, r : factorial(n)//factorial(r)//factorial(n-r)\n",
    "\n",
    "def same_bday_prob(i):\n",
    "    # start your code below\n",
    "    if(i<=1):\n",
    "        print(\"Number of people in a room should be greater than 1\")\n",
    "        return 0\n",
    "    diff_bday_prob = factorial(365) / (factorial(365-i) * (365**i))\n",
    "    #print(\"Probability of everyone with different birthday is: \", diff_bday_prob)\n",
    "    #print(\"Probability of atleast two people having same birthday is: \", (1-diff_bday_prob))\n",
    "    return (1-diff_bday_prob)\n",
    "\n",
    "for i in range(2,365):\n",
    "    if same_bday_prob(i) > (1/2):  #Favorable bet is having probability greater than 1/2\n",
    "        print(\"There should be atleast\", i, \"people in a room for a favorable bet of having atleast two people with same birthday\")\n",
    "        break\n"
   ]
  },
  {
   "cell_type": "markdown",
   "metadata": {},
   "source": [
    "### Problem 2 (5 points)\n",
    "A travel bureau estimates that when 20 tourists go to a resort with ten hotels. Find the probability that no hotel is left vacant when the first group of 20 tourists arrives.\n",
    "\n",
    "To answer the above question, please write a Python function \"no_vacant_prob(n, r)\" in the cell below. The function takes two integers (n >= r) as input and returns the probability that no hotel is left vacant when the first group of n tourists arrives given r hotels."
   ]
  },
  {
   "cell_type": "code",
   "execution_count": 138,
   "metadata": {},
   "outputs": [
    {
     "name": "stdout",
     "output_type": "stream",
     "text": [
      "The probability that no hotel is left vacant when first group of 20 tourist arrives is: 0.009224\n"
     ]
    }
   ],
   "source": [
    "# You may use the lambda function combin defined earlier.\n",
    "\n",
    "def no_vacant_prob(n, r):\n",
    "    # start your code below\n",
    "    if(n<r):\n",
    "        print(\"The number of tourists should be greater than or equal to the number of hotels\")\n",
    "        return 0\n",
    "    sum_of_prob = 0\n",
    "    tot = combin(n+r-1, n)\n",
    "    #print(tot)\n",
    "    while (n-r >= 0):\n",
    "        n = n-r\n",
    "        sum_of_prob = sum_of_prob + combin(n+r-1, n)\n",
    "        #print(sum_of_prob)\n",
    "    return(sum_of_prob/tot)\n",
    "    #if(n-r <= 0):\n",
    "    #    return combin(n+r-1, n)\n",
    "    #return no_vacant_prob(n-r, r)/combin(n+r-1, n)\n",
    "\n",
    "print(\"The probability that no hotel is left vacant when first group of 20 tourist arrives is:\", str(round(no_vacant_prob(20,10), 6)))\n",
    "   "
   ]
  },
  {
   "cell_type": "markdown",
   "metadata": {},
   "source": [
    "### Problem 3 (9 points)\n",
    "\n",
    "The five most common words appearing in spam emails are shipping!, today!, here!, available, and fingertips! (Andy Greenberg, “The Most Common Words In Spam Email,” Forbes website, March 17, 2010). Many spam filters separate spam from ham (email not considered to be spam) through application of bayes’ theorem. \n",
    "\n",
    "Suppose that for one email account, 1 in every 10 messages is spam and the proportions of spam messages that have the five most common words in spam email are given below. \n",
    "\n",
    "|Word|Proportions of spam that have this word|\n",
    "|:-|:-:|\n",
    "|shipping!|.051|\n",
    "|today!|.045|\n",
    "|here!|.034|\n",
    "|available|.014|\n",
    "|fingertips!|.014|\n",
    "\n",
    "Also suppose that the proportions of ham messages that have these words are \n",
    "\n",
    "|Word|Proportions of ham that have this word|\n",
    "|:-|:-:|\n",
    "|shipping!|.0015|\n",
    "|today!|.0022|\n",
    "|here!|.0022|\n",
    "|available|.0041|\n",
    "|fingertips!|.0011|\n"
   ]
  },
  {
   "cell_type": "code",
   "execution_count": 139,
   "metadata": {},
   "outputs": [
    {
     "name": "stdout",
     "output_type": "stream",
     "text": [
      "Probability of email including the word shipping:  0.0525\n"
     ]
    }
   ],
   "source": [
    "# a. What is the probability that an email includes the word \"shipping!\"? (Total Probability; 1 point)\n",
    "marginal_prob_shipping = 0.051 + 0.0015\n",
    "print(\"Probability of email including the word shipping: \", marginal_prob_shipping)\n"
   ]
  },
  {
   "cell_type": "code",
   "execution_count": 140,
   "metadata": {},
   "outputs": [
    {
     "name": "stdout",
     "output_type": "stream",
     "text": [
      "Probability of Spam given that the message includes the word shipping:  0.9714285714285714\n",
      "Probability of Ham given that the message includes the word shipping:  0.028571428571428574\n"
     ]
    }
   ],
   "source": [
    "# b. If a message includes the word shipping!, what is the probability the message is spam? (1 point)\n",
    "# If a message includes the word shipping!, what is the probability the message is ham? (1 point)  \n",
    "print(\"Probability of Spam given that the message includes the word shipping: \", 0.051/marginal_prob_shipping)\n",
    "print(\"Probability of Ham given that the message includes the word shipping: \", 0.0015/marginal_prob_shipping)\n"
   ]
  },
  {
   "cell_type": "code",
   "execution_count": 141,
   "metadata": {},
   "outputs": [
    {
     "name": "stdout",
     "output_type": "stream",
     "text": [
      "Probability of email including the word today:  0.0472\n",
      "Probability of Spam given that the message includes the word today:  0.9533898305084746\n"
     ]
    }
   ],
   "source": [
    "# c. What is the probability that an email includes the word \"today!\"? (1 point)\n",
    "# If a message includes the word today!, what is the probability the message is spam? (1 point)\n",
    "marginal_prob_today = 0.045 + 0.0022\n",
    "print(\"Probability of email including the word today: \", marginal_prob_today)\n",
    "print(\"Probability of Spam given that the message includes the word today: \", 0.045/marginal_prob_today)\n"
   ]
  },
  {
   "cell_type": "code",
   "execution_count": 142,
   "metadata": {},
   "outputs": [
    {
     "name": "stdout",
     "output_type": "stream",
     "text": [
      "Probability that an email contains both shipping and today:  0.0024779999999999997\n"
     ]
    }
   ],
   "source": [
    "# d. If an email containing \"shipping!\" is independent of this emal containing \"today\", \n",
    "# what is the probability that an email contains both \"shipping!\" and \"today\"? (2 points)\n",
    "print(\"Probability that an email contains both shipping and today: \", marginal_prob_shipping * marginal_prob_today)\n"
   ]
  },
  {
   "cell_type": "markdown",
   "metadata": {},
   "source": [
    "### Problem 4 (Interview Question; 4 points)\n",
    "You have two coins, one of which is fair and comes up heads with a probability 1/2, and the other which is biased and comes up heads with probability 3/4. You randomly pick coin and flip it twice, and get heads both times. What is the probability that you picked the fair coin?"
   ]
  },
  {
   "cell_type": "code",
   "execution_count": 143,
   "metadata": {},
   "outputs": [
    {
     "name": "stdout",
     "output_type": "stream",
     "text": [
      "Probability of picking fair coin given getting heads both times:  0.3076923076923077\n"
     ]
    }
   ],
   "source": [
    "P_FairCoin_intersect_HeadTwice = (1/2) * (1/2)\n",
    "P_UnfairCoin_intersect_HeadTwice = (3/4) * (3/4)\n",
    "P_FairCoin_intersect_Fail = 1 - P_FairCoin_intersect_HeadTwice\n",
    "P_UnfairCoin_intersect_Fail = 1 - P_UnfairCoin_intersect_HeadTwice\n",
    "P_HeadTwice = P_FairCoin_intersect_HeadTwice + P_UnfairCoin_intersect_HeadTwice\n",
    "#P(FairCoin | HeadTwice) = P(FairCoin intersect HeadTwice) / P(HeadTwice)\n",
    "print(\"Probability of picking fair coin given getting heads both times: \", P_FairCoin_intersect_HeadTwice/P_HeadTwice)"
   ]
  },
  {
   "cell_type": "markdown",
   "metadata": {
    "collapsed": true
   },
   "source": [
    "### Problem 5 (Interview Question; 4 points)\n",
    "You have a 0.1% chance of picking up a coin with both heads, and a 99.9% chance that you pick up a fair coin. You flip your coin and it comes up heads 10 times. What’s the chance that you picked up the fair coin, given the information that you observed?"
   ]
  },
  {
   "cell_type": "code",
   "execution_count": 144,
   "metadata": {},
   "outputs": [
    {
     "name": "stdout",
     "output_type": "stream",
     "text": [
      "Chance that you picked up the fair coin:  49.38210578348987 %\n"
     ]
    }
   ],
   "source": [
    "P_UnfairCoin = 0.1/100\n",
    "P_FairCoin = 99.9/100\n",
    "P_10Heads_given_FairCoin = (1/2)**10\n",
    "P_10Heads_given_UnfairCoin = 1\n",
    "P_FairCoin_given_10Heads = (P_10Heads_given_FairCoin * P_FairCoin) / ((P_10Heads_given_FairCoin * P_FairCoin) + (P_10Heads_given_UnfairCoin * P_UnfairCoin))\n",
    "print(\"Chance that you picked up the fair coin: \", P_FairCoin_given_10Heads * 100, \"%\")"
   ]
  },
  {
   "cell_type": "code",
   "execution_count": null,
   "metadata": {
    "collapsed": true
   },
   "outputs": [],
   "source": []
  }
 ],
 "metadata": {
  "anaconda-cloud": {},
  "kernelspec": {
   "display_name": "Python 3",
   "language": "python",
   "name": "python3"
  },
  "language_info": {
   "codemirror_mode": {
    "name": "ipython",
    "version": 3
   },
   "file_extension": ".py",
   "mimetype": "text/x-python",
   "name": "python",
   "nbconvert_exporter": "python",
   "pygments_lexer": "ipython3",
   "version": "3.6.2"
  }
 },
 "nbformat": 4,
 "nbformat_minor": 1
}
