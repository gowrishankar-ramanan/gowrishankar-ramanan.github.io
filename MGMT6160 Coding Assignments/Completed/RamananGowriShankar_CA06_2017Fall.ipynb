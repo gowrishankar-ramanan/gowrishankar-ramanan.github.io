{
 "cells": [
  {
   "cell_type": "code",
   "execution_count": null,
   "metadata": {
    "collapsed": true
   },
   "outputs": [],
   "source": []
  },
  {
   "cell_type": "markdown",
   "metadata": {},
   "source": [
    "### Problem 1\n",
    "To test whether a coin is a fair coin, we decide to flip this coin 50 times and count the numbers of Heads (H) and Tails (T) we observe. Let X be the number of Hs observed from 50 tosses and p be the actual probability of getting H from flipping this coin. If this is a fair coin, then p = .5. Suppose the significance level $\\alpha$ is .05. Here are the hypotheses:\n",
    "\n",
    "$H_0: p = .5$ (This is a fair coin)\n",
    "\n",
    "$H_a: p \\neq .5$ (This is a biased coin)\n"
   ]
  },
  {
   "cell_type": "code",
   "execution_count": 156,
   "metadata": {},
   "outputs": [
    {
     "name": "stdout",
     "output_type": "stream",
     "text": [
      "p value (2 tail): 2.38613316768e-05\n",
      "Reject H0: p-value <= alpha - This is a biased coin\n"
     ]
    }
   ],
   "source": [
    "# 1-a: Compute the p-value if we have observed 40 Ts and draw your conclusion whether this is a fair coin. (2 points) \n",
    "from scipy.stats import binom, poisson, norm, expon, t, binom_test\n",
    "n = 50\n",
    "p = 0.5\n",
    "#If we have observed 40 Ts, then there would be atmost 10 Hs\n",
    "x = n - 40\n",
    "alpha = 0.05\n",
    "#H0: p = 0.5\n",
    "#Ha: p <> 0.5\n",
    "#two tailed test\n",
    "p_value_2tail = binom.cdf(x, n, p) * 2\n",
    "print(\"p value (2 tail):\", p_value_2tail)\n",
    "if p_value_2tail > alpha:\n",
    "    print(\"Accept H0: p-value > alpha - This is a fair coin\")\n",
    "else:\n",
    "    print(\"Reject H0: p-value <= alpha - This is a biased coin\")"
   ]
  },
  {
   "cell_type": "code",
   "execution_count": 157,
   "metadata": {},
   "outputs": [
    {
     "name": "stdout",
     "output_type": "stream",
     "text": [
      "Probability of Type II Error for n=50: 0.567921339501\n",
      "Probability of Type II Error for n=75: 0.38369767598\n",
      "Probability of Type II Error for n=100: 0.365456369372\n",
      "Probability of Type II error (Beta) gets smaller as n increases.\n"
     ]
    }
   ],
   "source": [
    "# 1-b: Compute the probability of Type II error given p = 0.55 for n = 50, 75, and 100, respectively. (3 points)\n",
    "# What impact does n have on probability of Type II error?\n",
    "#beta = prob(Type 2 Error) = prob(Accept H0 | H0 is false) = prob(z < z_alpha & z > -z_alpha | p <> 0.5) = prob(pvalue > alpha | p <> 0.5)\n",
    "p = 0.55\n",
    "\n",
    "n = 50\n",
    "x = 0.5 * n\n",
    "beta = binom.cdf(x, n, p) * 2\n",
    "print(\"Probability of Type II Error for n=50:\", beta)\n",
    "\n",
    "n = 75\n",
    "x = 0.5 * n\n",
    "beta = binom.cdf(x, n, p) * 2\n",
    "print(\"Probability of Type II Error for n=75:\", beta)\n",
    "\n",
    "n = 100\n",
    "x = 0.5 * n\n",
    "beta = binom.cdf(x, n, p) * 2\n",
    "print(\"Probability of Type II Error for n=100:\", beta)\n",
    "\n",
    "print(\"Probability of Type II error (Beta) gets smaller as n increases.\")\n",
    "#print(binom_test(37.5,75,0.55, alternative='two-sided'))"
   ]
  },
  {
   "cell_type": "markdown",
   "metadata": {},
   "source": [
    "### Problem 2 (9-31, P413)\n",
    "The coca-cola company reported that the mean per capita annual sales of its beverages in the united States was 423 eight-ounce servings. Suppose you are curious whether the consumption of coca-cola beverages is higher in atlanta, georgia, the location of coca-cola’s corporate headquarters. A sample of 36 individuals from the atlanta area showed a sample mean annual consumption of 460.4 eight-ounce servings with a standard deviation of s = 101.9 eight-ounce servings. Using $\\alpha$ = .05, do the sample results support the conclusion that mean annual consumption of coca-cola beverage products is higher in atlanta?\n"
   ]
  },
  {
   "cell_type": "markdown",
   "metadata": {},
   "source": [
    "##### 2-a: In this Markdown cell, please clearly specify your hypotheses. (1 point)\n",
    "$H_0: \\mu_0 <= 423$ (Mean annual consumption of coca-cola beverage in atlanta is less or equal to 423 eight-ounce servings)\n",
    "\n",
    "$H_a: \\mu_0 > 423$ (Mean annual consumption of coca-cola beverage in atlanta is more than 423 eight-ounce servings)"
   ]
  },
  {
   "cell_type": "code",
   "execution_count": 158,
   "metadata": {},
   "outputs": [
    {
     "name": "stdout",
     "output_type": "stream",
     "text": [
      "t value: 2.202158979391559\n"
     ]
    }
   ],
   "source": [
    "# 2-b: Compute the corresponding t value or z value. (1 point)\n",
    "mu0 = 423\n",
    "n = 36\n",
    "xbar = 460.4\n",
    "s = 101.9\n",
    "alpha = 0.05\n",
    "#Ha = mu0 greater than 423 = mu0 > 423\n",
    "#H0 = mu0 <= 423\n",
    "#upper tailed test\n",
    "#t_val = lambda cl, n : t.ppf(.5+cl/2, df=n-1)\n",
    "#t = t_val(0.95, n)\n",
    "se = s/(n**0.5) #this is also called sigma_xbar or standard error\n",
    "#print(\"Standard Error:\", se)\n",
    "t_val = (xbar - mu0)/se\n",
    "print(\"t value:\", t_val)\n"
   ]
  },
  {
   "cell_type": "code",
   "execution_count": 159,
   "metadata": {},
   "outputs": [
    {
     "name": "stdout",
     "output_type": "stream",
     "text": [
      "p value: 0.0171673742785\n"
     ]
    }
   ],
   "source": [
    "# 2-c: Compute the corresponding p-value based on the t or z value from 2-b. Draw your conclusion to the test. (2 points)\n",
    "#t_alpha = t.ppf(alpha, n-1)\n",
    "#print(\"t alpha:\", t_alpha)\n",
    "#xbar_alpha = mu0 + t_alpha * se\n",
    "#print(\"xbar alpha:\", xbar_alpha)\n",
    "p_value = 1 - t.cdf(t_val, n-1)\n",
    "print(\"p value:\", p_value)\n"
   ]
  },
  {
   "cell_type": "code",
   "execution_count": 160,
   "metadata": {},
   "outputs": [
    {
     "name": "stdout",
     "output_type": "stream",
     "text": [
      "Reject H0. Hence mu0 > 423\n"
     ]
    }
   ],
   "source": [
    "# 2-d: Compute the critical t value or z value based on the significant level of 5%. Draw your conclusion to the test. (1 point)\n",
    "if p_value > alpha:\n",
    "    print(\"Accept H0. Hence mu0 <= 423\")\n",
    "else:\n",
    "    print(\"Reject H0. Hence mu0 > 423\")\n"
   ]
  },
  {
   "cell_type": "markdown",
   "metadata": {},
   "source": [
    "### Problem 3 (9-42, P418)\n",
    "According to the university of nevada center for logistics Management, 6% of all merchandise sold in the united States gets returned. A Houston department store sampled 80 items sold in January and found that 12 of the items were returned. "
   ]
  },
  {
   "cell_type": "code",
   "execution_count": 161,
   "metadata": {},
   "outputs": [
    {
     "name": "stdout",
     "output_type": "stream",
     "text": [
      "pbar: 0.15\n",
      "sigma_pbar: 0.026551836094703504\n"
     ]
    }
   ],
   "source": [
    "# 3-a: Construct a point estimate of the proportion of items returned for the population of sales transactions at the Houston store.\n",
    "# 1 point.\n",
    "p0 = 0.06\n",
    "n = 80\n",
    "x0 = 12\n",
    "pbar = x0/n\n",
    "print(\"pbar:\",pbar)\n",
    "sigma_pbar = ((p0 * (1-p0))/n)**0.5\n",
    "print(\"sigma_pbar:\", sigma_pbar)"
   ]
  },
  {
   "cell_type": "code",
   "execution_count": 162,
   "metadata": {},
   "outputs": [
    {
     "name": "stdout",
     "output_type": "stream",
     "text": [
      "95% Confidence Interval: 0.097959357531 0.202040642469\n"
     ]
    }
   ],
   "source": [
    "# 3-b: Construct a 95% confidence interval for the proportion of returns at the Houston store. (2 points)\n",
    "moe = lambda cl : norm.ppf(.5+cl/2)*sigma_pbar\n",
    "print(\"95% Confidence Interval:\", pbar-moe(.95), pbar+moe(.95))"
   ]
  },
  {
   "cell_type": "code",
   "execution_count": 163,
   "metadata": {},
   "outputs": [
    {
     "name": "stdout",
     "output_type": "stream",
     "text": [
      "z value: 3.3895960971961925\n",
      "p value (2 tail): 0.000699956709323\n",
      "Reject H0: p-value <= alpha - Hence pbar <> p0 (proportion of returns at Houston NOT EQUALS returns for the whole nation)\n"
     ]
    }
   ],
   "source": [
    "# 3-c: Is the proportion of returns at the Houston store significantly different from the returns for the nation as a whole? \n",
    "# Provide statistical support for your answer. (2 points)\n",
    "#H0: pbar = p0 = 0.06 [Proportion of returns at Houston store is same as the returns for the nation as a whole]\n",
    "#Ha: pbar <> p0\n",
    "#two tailed test\n",
    "#Assuming 5% significance level\n",
    "alpha = 0.05\n",
    "z = (pbar - p0)/sigma_pbar\n",
    "print(\"z value:\", z)\n",
    "p_value_2tail = 2 * (1 - norm.cdf(z)) #Since z value is positive\n",
    "print(\"p value (2 tail):\", p_value_2tail)\n",
    "if p_value_2tail > alpha:\n",
    "    print(\"Accept H0: p-value > alpha - Hence pbar = p0 (proportion of returns at Houston EQUALS returns for the whole nation)\")\n",
    "else:\n",
    "    print(\"Reject H0: p-value <= alpha - Hence pbar <> p0 (proportion of returns at Houston NOT EQUALS returns for the whole nation)\")"
   ]
  },
  {
   "cell_type": "markdown",
   "metadata": {},
   "source": [
    "### Problem 4 (9-49, P424)\n",
    "A consumer research group is interested in testing an automobile manufacturer’s claim that a new economy model will travel at least 25 miles per gallon of gasoline (h0: $\\mu$ >= 25)."
   ]
  },
  {
   "cell_type": "markdown",
   "metadata": {},
   "source": [
    "##### 4-a: With a .02 level of significance and a sample of 30 cars, what is the rejection rule based on the value of x-bar for the test to determine whether the manufacturer’s claim should be rejected? Assume that $\\sigma$ is 3 miles per gallon. (2 points)"
   ]
  },
  {
   "cell_type": "code",
   "execution_count": 164,
   "metadata": {},
   "outputs": [
    {
     "name": "stdout",
     "output_type": "stream",
     "text": [
      "xbar alpha (lower tail): 23.8751153942\n",
      "Rejection Rule for lower tail test: xbar < xbar_alpha | z-value < z_alpha | p-value < alpha\n",
      "p value: 0.02\n",
      "Accept H0 - p_value >= alpha. Hence mu0 >= 25\n"
     ]
    }
   ],
   "source": [
    "#H0: mu0 >= 25\n",
    "#Ha: mu0 < 25\n",
    "#lower tail test\n",
    "#beta = prob(Type 2 Error) = prob(Accept H0 | H0 is false) = prob(z > -z_alpha | mu0 < 25) = prob(xbar > -xbar_alpha | mu0 < 25)\n",
    "mu0 = 25\n",
    "n = 30\n",
    "sigma = 3\n",
    "alpha = 0.02\n",
    "se = sigma/n**0.5 #this is also called sigma_xbar or standard error\n",
    "#print(\"sigma xbar (se):\", se)\n",
    "z_alpha = norm.ppf(alpha)\n",
    "#print(\"z alpha:\", z_alpha)\n",
    "xbar_alpha = mu0 + z_alpha * se\n",
    "print(\"xbar alpha (lower tail):\", xbar_alpha)\n",
    "#beta = prob(z > 2.054 | mu0 < 25) = prob(xbar > 23.875 | mu0 < 25)\n",
    "print(\"Rejection Rule for lower tail test: xbar < xbar_alpha | z-value < z_alpha | p-value < alpha\")\n",
    "mu = mu0\n",
    "p_value = norm.cdf(xbar_alpha, mu, se)\n",
    "print(\"p value:\", p_value)\n",
    "#p_value = norm.cdf(z_alpha)\n",
    "#print(\"p value:\", p_value)\n",
    "#print(\"alpha:\", alpha)\n",
    "if p_value >= alpha:\n",
    "    print(\"Accept H0 - p_value >= alpha. Hence mu0 >= 25\")\n",
    "else:\n",
    "    print(\"Reject H0 - p_value < alpha. Hence mu0 < 25\")"
   ]
  },
  {
   "cell_type": "code",
   "execution_count": 165,
   "metadata": {},
   "outputs": [
    {
     "name": "stdout",
     "output_type": "stream",
     "text": [
      "Probability of making type2 error when x = 23 miles per gallon: 0.000130364816428\n"
     ]
    }
   ],
   "source": [
    "# 4-b: What is the probability of committing a type ii error if the actual mileage is 23 miles per gallon? (1 point)\n",
    "xbar = 23\n",
    "beta = norm.cdf(xbar, mu, se)\n",
    "print(\"Probability of making type2 error when x = 23 miles per gallon:\", beta)\n"
   ]
  },
  {
   "cell_type": "code",
   "execution_count": 166,
   "metadata": {},
   "outputs": [
    {
     "name": "stdout",
     "output_type": "stream",
     "text": [
      "Probability of making type2 error when x = 24 miles per gallon: 0.0339445774309\n"
     ]
    }
   ],
   "source": [
    "# 4-c: What is the probability of committing a type ii error if the actual mileage is 24 miles per gallon? (1 points)\n",
    "xbar = 24\n",
    "beta = norm.cdf(xbar, mu, se)\n",
    "print(\"Probability of making type2 error when x = 24 miles per gallon:\", beta)\n"
   ]
  },
  {
   "cell_type": "code",
   "execution_count": 167,
   "metadata": {},
   "outputs": [
    {
     "name": "stdout",
     "output_type": "stream",
     "text": [
      "Probability of making type2 error when x = 25.5 miles per gallon: 0.819344785737\n"
     ]
    }
   ],
   "source": [
    "# 4-d: What is the probability of committing a type ii error if the actual mileage is 25.5 miles per gallon? (1 point)\n",
    "xbar = 25.5\n",
    "beta = norm.cdf(xbar, mu, se)\n",
    "print(\"Probability of making type2 error when x = 25.5 miles per gallon:\", beta)"
   ]
  },
  {
   "cell_type": "markdown",
   "metadata": {},
   "source": [
    "### Problem 5\n",
    "Create a function named “compute_power_in_two_tailed_test”. (5 points)\n",
    "The function takes the following inputs: \n",
    "1. mu_b: a real number for population mean based on which we compute beta value and power; \n",
    "    * Recall that Type II error is accepting H0 when it is false.\n",
    "2. mu_h: a real number for hypothesized population mean in the original hypotheses; \n",
    "3. n: a positive integer for sample size; \n",
    "4. alpha: a real number between 0 and 1 for significance level\n",
    "5. sd: a positive real number for population or sample standard deviation; \n",
    "6. pop: a boolean indicating whether sd is population standard deviation or sample sd. The default is True.\n",
    "\n",
    "The function returns a real number between 0 and 1 for the power of the hypothesis test. \n",
    "* Note that the returned value is power, not beta."
   ]
  },
  {
   "cell_type": "code",
   "execution_count": 168,
   "metadata": {},
   "outputs": [],
   "source": [
    "def compute_power_in_two_tailed_test(mu_b, mu_h, n, alpha, sd, pop=True):\n",
    "    from scipy.stats import norm, t\n",
    "    \n",
    "    # start your code below\n",
    "    se = sd/n**0.5\n",
    "    \n",
    "    if pop:\n",
    "        z_alpha = norm.ppf(alpha/2)\n",
    "        #print(\"z alpha (2 tail):\", z_alpha)\n",
    "        xbar_alpha = mu_h + z_alpha * se\n",
    "        #print(\"xbar alpha (2 tail):\", xbar_alpha)\n",
    "        beta = norm.cdf(xbar_alpha, mu_b, se)\n",
    "        #print(\"beta:\", beta)\n",
    "    else:\n",
    "        t_alpha = t.ppf(alpha/2, n-1)\n",
    "        #print(\"t alpha (2 tail):\", t_alpha)\n",
    "        xbar_alpha = mu_h + t_alpha * se\n",
    "        #print(\"xbar alpha (2 tail):\", xbar_alpha)\n",
    "        beta = t.cdf(xbar_alpha, mu_b, se, n-1)\n",
    "        #print(\"beta:\", beta)\n",
    "        \n",
    "    return (1-beta)\n",
    "\n",
    "#compute_power_in_two_tailed_test(23.3, 25, 30, 0.02, 3, False)\n"
   ]
  },
  {
   "cell_type": "code",
   "execution_count": null,
   "metadata": {
    "collapsed": true
   },
   "outputs": [],
   "source": []
  }
 ],
 "metadata": {
  "anaconda-cloud": {},
  "kernelspec": {
   "display_name": "Python 3",
   "language": "python",
   "name": "python3"
  },
  "language_info": {
   "codemirror_mode": {
    "name": "ipython",
    "version": 3
   },
   "file_extension": ".py",
   "mimetype": "text/x-python",
   "name": "python",
   "nbconvert_exporter": "python",
   "pygments_lexer": "ipython3",
   "version": "3.6.2"
  }
 },
 "nbformat": 4,
 "nbformat_minor": 1
}
