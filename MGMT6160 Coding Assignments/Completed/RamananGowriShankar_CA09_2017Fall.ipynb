{
 "cells": [
  {
   "cell_type": "code",
   "execution_count": 1,
   "metadata": {
    "collapsed": true
   },
   "outputs": [],
   "source": [
    "import pandas as pd\n",
    "from statsmodels.formula.api import ols\n",
    "from statsmodels.stats.anova import anova_lm\n",
    "from statistics import mean\n",
    "from scipy.stats import t"
   ]
  },
  {
   "cell_type": "markdown",
   "metadata": {},
   "source": [
    "### Problem 14-61, P666-667\n",
    "Jensen Tire & Auto is in the process of deciding whether to purchase a maintenance contract for its new computer wheel alignment and balancing machine. Managers feel that maintenance expense should be related to usage, and they collected the following information on weekly usage (hours) and annual maintenance expense (in hundreds of dollars).\n",
    "\n",
    "|Weekely Useage in Hours|Annual Maintenance Expense in Hundreds of Dollars|\n",
    "|:-:|:-:|\n",
    "|13|17.0|\n",
    "|10|22.0|\n",
    "|20|30.0|\n",
    "|28|37.0|\n",
    "|32|47.0|\n",
    "|17|30.5|\n",
    "|24|32.5|\n",
    "|31|39.0|\n",
    "|40|51.5|\n",
    "|38|40.0|\n"
   ]
  },
  {
   "cell_type": "code",
   "execution_count": 17,
   "metadata": {},
   "outputs": [
    {
     "name": "stdout",
     "output_type": "stream",
     "text": [
      "                            OLS Regression Results                            \n",
      "==============================================================================\n",
      "Dep. Variable:                      y   R-squared:                       0.856\n",
      "Model:                            OLS   Adj. R-squared:                  0.838\n",
      "Method:                 Least Squares   F-statistic:                     47.62\n",
      "Date:                Sun, 03 Dec 2017   Prob (F-statistic):           0.000124\n",
      "Time:                        21:48:41   Log-Likelihood:                -27.542\n",
      "No. Observations:                  10   AIC:                             59.08\n",
      "Df Residuals:                       8   BIC:                             59.69\n",
      "Df Model:                           1                                         \n",
      "Covariance Type:            nonrobust                                         \n",
      "==============================================================================\n",
      "                 coef    std err          t      P>|t|      [0.025      0.975]\n",
      "------------------------------------------------------------------------------\n",
      "Intercept     10.5280      3.745      2.811      0.023       1.892      19.164\n",
      "X1             0.9534      0.138      6.901      0.000       0.635       1.272\n",
      "==============================================================================\n",
      "Omnibus:                        0.523   Durbin-Watson:                   3.276\n",
      "Prob(Omnibus):                  0.770   Jarque-Bera (JB):                0.463\n",
      "Skew:                          -0.406   Prob(JB):                        0.793\n",
      "Kurtosis:                       2.329   Cond. No.                         75.6\n",
      "==============================================================================\n",
      "\n",
      "Warnings:\n",
      "[1] Standard Errors assume that the covariance matrix of the errors is correctly specified.\n"
     ]
    },
    {
     "name": "stderr",
     "output_type": "stream",
     "text": [
      "C:\\Users\\Ramanan-PC\\Anaconda3\\lib\\site-packages\\scipy\\stats\\stats.py:1334: UserWarning: kurtosistest only valid for n>=20 ... continuing anyway, n=10\n",
      "  \"anyway, n=%i\" % int(n))\n"
     ]
    }
   ],
   "source": [
    "# a. Use ols module of statsmodels to fit the simple linear regression model \n",
    "# that related annual maintenance expense to weekely useage.\n",
    "# Generate the summary of the regression results. (2 points)\n",
    "\n",
    "# Prepare data\n",
    "#X1 = [13, 10, 20, 28, 32, 17, 24, 31, 40, 38]\n",
    "#y = [17.0, 22.0, 30.0, 37.0, 47.0, 30.5, 32.5, 39.0, 51.5, 40.0]\n",
    "X1 = [10, 13, 17, 20, 24, 28, 31, 32, 38, 40]\n",
    "y = [22.0, 17.0, 30.5, 30.0, 32.5, 37.0, 39.0, 47.0, 40.0, 51.5]\n",
    "\n",
    "# Convert original data into dataframe that can be used by ols of statsmodel\n",
    "data = pd.DataFrame({'X1':X1, 'y':y})\n",
    "\n",
    "# Use ols module of statsmodels to fit the simple linear regression model\n",
    "# Then generate the summary of the regression result.\n",
    "model = ols('y~X1', data).fit()\n",
    "print(model.summary())"
   ]
  },
  {
   "cell_type": "markdown",
   "metadata": {},
   "source": [
    "##### b. Clearly specify the simple linear regression model that related annual maintenance expense to weekely useage. Provide a practical intepretation of the coefficient of weekly usage. (2 points)\n",
    "\n",
    "For an increase of 1 hour of weekly usage of balancing machine, the mean annual maintenance expense identified increases by 0.9534 hundreds of dollars i.e., 95.34 dollars\n"
   ]
  },
  {
   "cell_type": "markdown",
   "metadata": {},
   "source": [
    "###### c. Provide a practical intepretation for the value of R-squared. (2 points)\n",
    "\n",
    "85.6% of variation in the annual maintenance expenses can be explained by the variation in the weekly usage hours."
   ]
  },
  {
   "cell_type": "code",
   "execution_count": 18,
   "metadata": {},
   "outputs": [
    {
     "name": "stdout",
     "output_type": "stream",
     "text": [
      "           df      sum_sq     mean_sq          F    PR(>F)\n",
      "X1        1.0  860.050949  860.050949  47.623829  0.000124\n",
      "Residual  8.0  144.474051   18.059256        NaN       NaN\n"
     ]
    },
    {
     "name": "stderr",
     "output_type": "stream",
     "text": [
      "C:\\Users\\Ramanan-PC\\Anaconda3\\lib\\site-packages\\scipy\\stats\\_distn_infrastructure.py:879: RuntimeWarning: invalid value encountered in greater\n",
      "  return (self.a < x) & (x < self.b)\n",
      "C:\\Users\\Ramanan-PC\\Anaconda3\\lib\\site-packages\\scipy\\stats\\_distn_infrastructure.py:879: RuntimeWarning: invalid value encountered in less\n",
      "  return (self.a < x) & (x < self.b)\n",
      "C:\\Users\\Ramanan-PC\\Anaconda3\\lib\\site-packages\\scipy\\stats\\_distn_infrastructure.py:1818: RuntimeWarning: invalid value encountered in less_equal\n",
      "  cond2 = cond0 & (x <= self.a)\n"
     ]
    }
   ],
   "source": [
    "# d. Generate the corresponding ANOVA result. (2 points)\n",
    "anova_results = anova_lm(model)\n",
    "print(anova_results)\n"
   ]
  },
  {
   "cell_type": "markdown",
   "metadata": {},
   "source": [
    "###### e. At the 5% level of significance, is there a significant relationship between the two variables? Why or why not? (2 points)\n",
    "\n",
    "p-value from anova results = 0.000124\n",
    "\n",
    "p-value < 0.05 (5% significance level), so YES, there is a significant relationship between the two variables.\n"
   ]
  },
  {
   "cell_type": "code",
   "execution_count": 19,
   "metadata": {},
   "outputs": [
    {
     "data": {
      "text/plain": [
       "0    39.13117\n",
       "dtype: float64"
      ]
     },
     "execution_count": 19,
     "metadata": {},
     "output_type": "execute_result"
    }
   ],
   "source": [
    "# f. Provide the point estimate of the annual maintenance expense if the company expects to use the machine 30 hours per week.\n",
    "# (2 points)\n",
    "X1n = [30]\n",
    "model.predict(exog=dict(X1=X1n))\n"
   ]
  },
  {
   "cell_type": "code",
   "execution_count": 24,
   "metadata": {},
   "outputs": [
    {
     "name": "stdout",
     "output_type": "stream",
     "text": [
      "Standard error of estimate: 4.249618335803817\n",
      "Estimate of Standard deviation for 30 hours usage per week: 1.4925085715564712\n"
     ]
    }
   ],
   "source": [
    "# g. Compute the standard error of estimate. \n",
    "# Compute the the estimate of the standard deviation for the prediction interval of the annual maintenance expense\n",
    "# given the company uses the machine 30 hours per week.\n",
    "# (3 points)\n",
    "n = 10\n",
    "s = 18.059256**0.5\n",
    "print(\"Standard error of estimate:\", s)\n",
    "\n",
    "# Compute the average weekly usage based on the sample data\n",
    "X1bar = mean(X1)\n",
    "#print(X1bar)\n",
    "\n",
    "# Compute (n-1)*sample variance of X\n",
    "svar = sum([(x-X1bar)**2 for x in X1])\n",
    "#print(svar)\n",
    "\n",
    "# Compute the estimate of the standard deviation for 30 hours usage per week\n",
    "s_ci = s*pow(1/n + (30-X1bar)**2/svar, 0.5)\n",
    "print(\"Estimate of Standard deviation for 30 hours usage per week:\", s_ci)"
   ]
  },
  {
   "cell_type": "code",
   "execution_count": 26,
   "metadata": {},
   "outputs": [
    {
     "name": "stdout",
     "output_type": "stream",
     "text": [
      "35.6894390624 42.5729009376\n"
     ]
    }
   ],
   "source": [
    "# h. Develop a 95% prediction interval for the company’s annual maintenance expense \n",
    "# if the company expects to use the machine 30 hours per week.\n",
    "# (3 points)\n",
    "moe = t.ppf(0.5+0.95/2, 8)*s_ci    # The df is the degree of freedom of residual or error.\n",
    "#print(moe)\n",
    "#39.13117 is the point estimate of mean annual maintenance expense calculated above, based on 30 hours of usage per week\n",
    "print(39.13117-moe, 39.13117+moe)\n"
   ]
  },
  {
   "cell_type": "markdown",
   "metadata": {
    "collapsed": true
   },
   "source": [
    "###### i. Please provide a practical interpretation of the prediction interval in question h. (2 points)\n",
    "\n",
    "If the machine usage is 30 hours per week, we are 95% confident that the MEAN annual maintenance expense (in hundreds of dollars) will be between 35.6894390624 and 42.5729009376."
   ]
  },
  {
   "cell_type": "code",
   "execution_count": null,
   "metadata": {
    "collapsed": true
   },
   "outputs": [],
   "source": []
  }
 ],
 "metadata": {
  "anaconda-cloud": {},
  "kernelspec": {
   "display_name": "Python 3",
   "language": "python",
   "name": "python3"
  },
  "language_info": {
   "codemirror_mode": {
    "name": "ipython",
    "version": 3
   },
   "file_extension": ".py",
   "mimetype": "text/x-python",
   "name": "python",
   "nbconvert_exporter": "python",
   "pygments_lexer": "ipython3",
   "version": "3.6.2"
  }
 },
 "nbformat": 4,
 "nbformat_minor": 1
}
