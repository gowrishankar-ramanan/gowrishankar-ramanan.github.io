{
 "cells": [
  {
   "cell_type": "markdown",
   "metadata": {},
   "source": [
    "### Problem 1: (4 points)\n",
    "\n",
    "Please follow the instructions below and write a Python script to quantitatively test central limit theorem based on uniform distribution on [0, 1]. You can use all Python’s built-in functions, math, matplotlib and numpy libraries.\n",
    "\n",
    "1.\tGiven sample size n = 5\n",
    "    * each time randomly draw 5 random numbers from the uniform distribution on [0, 1]. Compute sample mean.\n",
    "    * repeat above sampling 100,000 times.\n",
    "    * plot a normalized histogram with 100 bins.\n",
    "    * compute the mean of the sample means and the standard error of the sample means based on these 100,000 iterations. Compare these two experimental results with the theoretical results from CLT.\n",
    "    \n",
    "2. Repeat 1 for sample size n = 50.\n"
   ]
  },
  {
   "cell_type": "code",
   "execution_count": 111,
   "metadata": {},
   "outputs": [
    {
     "data": {
      "image/png": "[encoded data removed]",
      "text/plain": [
       "<matplotlib.figure.Figure at 0x26f84f517b8>"
      ]
     },
     "metadata": {},
     "output_type": "display_data"
    },
    {
     "name": "stdout",
     "output_type": "stream",
     "text": [
      "Theoretical Results from CLT:\n",
      "----------------------------\n",
      "E(X) Mean: 0.5\n",
      "Population SD (Sigma): 0.28867513459481287\n",
      "Standard Error: 0.12909944487358055\n",
      "\n",
      "Experimental Results:\n",
      "--------------------\n",
      "Grand Mean of samples: 0.499425789525\n",
      "Standard Error: 0.129013311831\n"
     ]
    }
   ],
   "source": [
    "import numpy as np\n",
    "import matplotlib.pyplot as plt\n",
    "\n",
    "# simulating the experiment of drawing 5 random numbers from uniform distribution [0,1] 100000 times (n = 5)\n",
    "n = 5    # sample size; the number of random numbers\n",
    "r = 100000  # the number of repetition or iteration\n",
    "low = 0\n",
    "high = 1\n",
    "#sample=np.random.choice([0,1], size=(r, n))\n",
    "sample=np.random.uniform(low,high,size=(r, n))\n",
    "#sample\n",
    "sample_mean = np.mean(sample, axis=1)\n",
    "\n",
    "bins = 100\n",
    "%matplotlib inline\n",
    "plt.hist(sample_mean, bins, normed=1, color='b')\n",
    "plt.title('Histogram for Testing Central Limit Theorem')\n",
    "plt.xlabel('Sample Mean')\n",
    "plt.ylabel('Probability')\n",
    "plt.show()\n",
    "\n",
    "# theoretical results from central limit theorem\n",
    "print(\"Theoretical Results from CLT:\")\n",
    "print(\"----------------------------\")\n",
    "E_x = (low + high)/2\n",
    "sigma = (((high - low)**2)/12)**0.5        # This is population standard deviation\n",
    "se_pop = sigma/(n**0.5)      # This is the standard error based on CLT.\n",
    "print(\"E(X) Mean:\",E_x)\n",
    "print(\"Population SD (Sigma):\", sigma)\n",
    "print(\"Standard Error:\", se_pop)\n",
    "\n",
    "# experimental results \n",
    "print()\n",
    "print(\"Experimental Results:\")\n",
    "print(\"--------------------\")\n",
    "grand_mean = np.mean(sample_mean)\n",
    "#pop_std = np.std(sample_mean)\n",
    "se_sam = np.std(sample_mean, ddof=1)\n",
    "#print(\"Sample Mean:\", sample_mean)\n",
    "print(\"Grand Mean of samples:\", grand_mean)\n",
    "#print(\"Population SD (sigma):\", pop_std)\n",
    "print(\"Standard Error:\", se_sam)"
   ]
  },
  {
   "cell_type": "code",
   "execution_count": 112,
   "metadata": {},
   "outputs": [
    {
     "data": {
      "image/png": "[encoded data removed]",
      "text/plain": [
       "<matplotlib.figure.Figure at 0x26f83f32518>"
      ]
     },
     "metadata": {},
     "output_type": "display_data"
    },
    {
     "name": "stdout",
     "output_type": "stream",
     "text": [
      "Theoretical Results from CLT:\n",
      "----------------------------\n",
      "E(X) Mean: 0.5\n",
      "Population SD (Sigma): 0.28867513459481287\n",
      "Standard Error: 0.0408248290463863\n",
      "\n",
      "Experimental Results:\n",
      "--------------------\n",
      "Grand Mean of samples: 0.499981233712\n",
      "Standard Error: 0.0407152727567\n",
      "The Standard Error significantly reduces as the sample size increases\n"
     ]
    }
   ],
   "source": [
    "n = 50   #Changing sample size to 50\n",
    "sample=np.random.uniform(low,high,size=(r, n))\n",
    "#sample\n",
    "sample_mean = np.mean(sample, axis=1)\n",
    "\n",
    "bins = 100\n",
    "%matplotlib inline\n",
    "plt.hist(sample_mean, bins, normed=1, color='b')\n",
    "plt.title('Histogram for Testing Central Limit Theorem')\n",
    "plt.xlabel('Sample Mean')\n",
    "plt.ylabel('Probability')\n",
    "plt.show()\n",
    "\n",
    "# theoretical results from central limit theorem\n",
    "print(\"Theoretical Results from CLT:\")\n",
    "print(\"----------------------------\")\n",
    "E_x = (low + high)/2\n",
    "sigma = (((high - low)**2)/12)**0.5        # This is population standard deviation\n",
    "se_pop = sigma/(n**0.5)      # This is the standard error based on CLT.\n",
    "print(\"E(X) Mean:\",E_x)\n",
    "print(\"Population SD (Sigma):\", sigma)\n",
    "print(\"Standard Error:\", se_pop)\n",
    "\n",
    "# experimental results \n",
    "print()\n",
    "print(\"Experimental Results:\")\n",
    "print(\"--------------------\")\n",
    "grand_mean = np.mean(sample_mean)\n",
    "#pop_std = np.std(sample_mean)\n",
    "se_sam = np.std(sample_mean, ddof=1)\n",
    "#print(\"Sample Mean:\", sample_mean)\n",
    "print(\"Grand Mean of samples:\", grand_mean)\n",
    "#print(\"Population SD (sigma):\", pop_std)\n",
    "print(\"Standard Error:\", se_sam)\n",
    "print(\"The Standard Error significantly reduces as the sample size increases\")"
   ]
  },
  {
   "cell_type": "markdown",
   "metadata": {},
   "source": [
    "### Problem 2: (7-29 on Page 326)\n",
    "\n",
    "The mean preparation fee H&R Block charged retail customers last year was \\$183 (the Wall Street Journal, March 7, 2012). Use this price as the population mean and assume the population standard deviation of preparation fees is \\$50."
   ]
  },
  {
   "cell_type": "code",
   "execution_count": 113,
   "metadata": {},
   "outputs": [
    {
     "name": "stdout",
     "output_type": "stream",
     "text": [
      "0.619163519693\n"
     ]
    }
   ],
   "source": [
    "# a. What is the probability that the mean price for a sample of 30 H&R Block retail customers is within $8 of population mean?\n",
    "# 2 points\n",
    "from scipy.stats import norm, t\n",
    "Xbar = 183; sigma = 50\n",
    "n = 30; moe = 8\n",
    "se = sigma/(n**0.5)\n",
    "print(norm.cdf(Xbar+moe, loc=Xbar, scale=se) - norm.cdf(Xbar-moe, loc=Xbar, scale=se))\n"
   ]
  },
  {
   "cell_type": "code",
   "execution_count": 114,
   "metadata": {},
   "outputs": [
    {
     "name": "stdout",
     "output_type": "stream",
     "text": [
      "0.742100964708\n"
     ]
    }
   ],
   "source": [
    "# b. What is the probability that the mean price for a sample of 50 H&R Block retail customers is within $8 of population mean?\n",
    "# 1 point\n",
    "n = 50; moe = 8\n",
    "se = sigma/(n**0.5)\n",
    "print(norm.cdf(Xbar+moe, loc=Xbar, scale=se) - norm.cdf(Xbar-moe, loc=Xbar, scale=se))"
   ]
  },
  {
   "cell_type": "code",
   "execution_count": 115,
   "metadata": {},
   "outputs": [
    {
     "name": "stdout",
     "output_type": "stream",
     "text": [
      "0.890401416601\n"
     ]
    }
   ],
   "source": [
    "# c. What is the probability that the mean price for a sample of 100 H&R Block retail customers is within $8 of population mean?\n",
    "# 1 point\n",
    "n = 100; moe = 8\n",
    "se = sigma/(n**0.5)\n",
    "print(norm.cdf(Xbar+moe, loc=Xbar, scale=se) - norm.cdf(Xbar-moe, loc=Xbar, scale=se))"
   ]
  },
  {
   "cell_type": "code",
   "execution_count": 116,
   "metadata": {},
   "outputs": [
    {
     "name": "stdout",
     "output_type": "stream",
     "text": [
      "150.056985183\n"
     ]
    }
   ],
   "source": [
    "# d. What sample size would you recommend to have at least a .95 probability that the sample mean is within $8 of population mean?\n",
    "# 2 points\n",
    "n = (sigma * (norm.ppf(0.5+0.95/2))/moe)**2\n",
    "print(n)\n"
   ]
  },
  {
   "cell_type": "markdown",
   "metadata": {},
   "source": [
    "### Problem 3: (7-39 on Page 331)\n",
    "\n",
    "In 2008 the Better Business Bureau settled 75% of complaints they received (USA Today, March 2, 2009). Suppose you have been hired by the Better Business Bureau to investigate the complaints they received this year involving new car dealers. You plan to select a sample of new car dealer complaints to estimate the proportion of complaints the Better Business Bureau is able to settle. Assume the population proportion of complaints settled for new car dealers is .75, the same as the overall proportion of complaints settled in 2008.\n"
   ]
  },
  {
   "cell_type": "markdown",
   "metadata": {
    "collapsed": true
   },
   "source": [
    "a. Suppose you select a sample of 450 complaints involving new car dealers. Describe the\n",
    "sampling distribution of $\\overline{p}$. (2 points)\n",
    "\n"
   ]
  },
  {
   "cell_type": "code",
   "execution_count": 117,
   "metadata": {},
   "outputs": [
    {
     "name": "stdout",
     "output_type": "stream",
     "text": [
      "np >= 5: 337.5\n",
      "n(1-p) >= 5: 112.5\n",
      "Sampling distribution of pbar is approximated by a Normal Distribution with the following:\n",
      "Expected value of pbar E(pbar): 0.75\n",
      "Standard Deviation of pbar: 0.020412414523193152\n"
     ]
    }
   ],
   "source": [
    "n = 450; p = 0.75\n",
    "E_pbar = p          #Expected value of pbar\n",
    "sigma_pbar = (p*(1-p)/n)**0.5\n",
    "print(\"np >= 5:\", n*p)\n",
    "print(\"n(1-p) >= 5:\", n*(1-p))\n",
    "print(\"Sampling distribution of pbar is approximated by a Normal Distribution with the following:\")\n",
    "print(\"Expected value of pbar E(pbar):\", E_pbar)\n",
    "print(\"Standard Deviation of pbar:\", sigma_pbar)"
   ]
  },
  {
   "cell_type": "code",
   "execution_count": 118,
   "metadata": {},
   "outputs": [
    {
     "name": "stdout",
     "output_type": "stream",
     "text": [
      "0.949956478751\n"
     ]
    }
   ],
   "source": [
    "# b. Based upon a sample of 450 complaints, \n",
    "# what is the probability that the sample proportion will be within .04 of the population proportion?\n",
    "# 2 points\n",
    "moe = 0.04\n",
    "print(norm.cdf(p+moe, loc=E_pbar, scale=sigma_pbar) - norm.cdf(p-moe, loc=E_pbar, scale=sigma_pbar))\n"
   ]
  },
  {
   "cell_type": "markdown",
   "metadata": {
    "collapsed": true
   },
   "source": [
    "c. Suppose you select a sample of 200 complaints involving new car dealers. Describe the\n",
    "sampling distribution of $\\overline{p}$. (1 point)\n",
    "\n"
   ]
  },
  {
   "cell_type": "code",
   "execution_count": 119,
   "metadata": {},
   "outputs": [
    {
     "name": "stdout",
     "output_type": "stream",
     "text": [
      "np >= 5: 150.0\n",
      "n(1-p) >= 5: 50.0\n",
      "Sampling distribution of pbar is approximated by a Normal Distribution with the following:\n",
      "Expected value of pbar E(pbar): 0.75\n",
      "Standard Deviation of pbar: 0.030618621784789725\n"
     ]
    }
   ],
   "source": [
    "n = 200; p = 0.75\n",
    "E_pbar = p          #Expected value of pbar\n",
    "sigma_pbar = (p*(1-p)/n)**0.5\n",
    "print(\"np >= 5:\", n*p)\n",
    "print(\"n(1-p) >= 5:\", n*(1-p))\n",
    "print(\"Sampling distribution of pbar is approximated by a Normal Distribution with the following:\")\n",
    "print(\"Expected value of pbar E(pbar):\", E_pbar)\n",
    "print(\"Standard Deviation of pbar:\", sigma_pbar)"
   ]
  },
  {
   "cell_type": "code",
   "execution_count": 120,
   "metadata": {},
   "outputs": [
    {
     "name": "stdout",
     "output_type": "stream",
     "text": [
      "0.808581574762\n"
     ]
    }
   ],
   "source": [
    "# d. Based upon a sample of 200 complaints, \n",
    "# what is the probability that the sample proportion will be within .04 of the population proportion?\n",
    "# 1 point\n",
    "moe = 0.04\n",
    "print(norm.cdf(p+moe, loc=E_pbar, scale=sigma_pbar) - norm.cdf(p-moe, loc=E_pbar, scale=sigma_pbar))\n"
   ]
  },
  {
   "cell_type": "markdown",
   "metadata": {},
   "source": [
    "### Problem 4: (8-15 on Page 362)\n",
    "\n",
    "Sales personnel for Skillings Distributors submit weekly reports listing the customer contacts made during the week. A sample of 65 weekly reports showed a sample mean of 19.5 customer contacts per week. The sample standard deviation was 5.2. Provide 90% and 95% confidence intervals for the population mean number of weekly customer contacts for the sales personnel. (3 points)\n"
   ]
  },
  {
   "cell_type": "code",
   "execution_count": 121,
   "metadata": {},
   "outputs": [
    {
     "name": "stdout",
     "output_type": "stream",
     "text": [
      "90% Confidence Interval: [18.423518944677575, 20.576481055322425]\n",
      "95% Confidence Interval: [18.21150308968386, 20.78849691031614]\n"
     ]
    }
   ],
   "source": [
    "n = 65; Xbar = 19.5; s = 5.2\n",
    "#XBar ~ t(mu=mu(XBar), sigma(XBar)=S/n**0.5) - Equivalent to T-distribution\n",
    "#T distribution and normal distribution is almost the same, different z-score due to the degree of freedom\n",
    "#We use it because we know only sample standard deviation (S), do not know the population standard deviation (sigma)\n",
    "t_val = lambda cl, n : t.ppf(.5+cl/2, df=n-1)\n",
    "\n",
    "moe = t_val(.9, n)*s/n**.5\n",
    "print('90% Confidence Interval: [{0}, {1}]'.format(Xbar-moe, Xbar+moe))\n",
    "moe = t_val(.95, n)*s/n**.5\n",
    "print('95% Confidence Interval: [{0}, {1}]'.format(Xbar-moe, Xbar+moe))"
   ]
  },
  {
   "cell_type": "code",
   "execution_count": null,
   "metadata": {
    "collapsed": true
   },
   "outputs": [],
   "source": []
  },
  {
   "cell_type": "markdown",
   "metadata": {},
   "source": [
    "### Problem 5: (8-60 on page 376)\n",
    "\n",
    "Although airline schedules and cost are important factors for business travelers when choosing an airline carrier, a USA Today survey found that business travelers list an airline’s frequent flyer program as the most important factor. From a sample of n = 1993 business travelers who responded to the survey, 618 listed a frequent flyer program as the most important factor.\n"
   ]
  },
  {
   "cell_type": "code",
   "execution_count": 122,
   "metadata": {},
   "outputs": [
    {
     "name": "stdout",
     "output_type": "stream",
     "text": [
      "0.3100852985449072\n"
     ]
    }
   ],
   "source": [
    "# a. What is the point estimate of the proportion of the population of business travelers \n",
    "# who believe a frequent flyer program is the most important factor when choosing an airline carrier? (1 point)\n",
    "n = 1993; x = 618\n",
    "pbar = x/n\n",
    "print(pbar)\n"
   ]
  },
  {
   "cell_type": "code",
   "execution_count": 123,
   "metadata": {},
   "outputs": [
    {
     "name": "stdout",
     "output_type": "stream",
     "text": [
      "0.010360593599532938\n"
     ]
    }
   ],
   "source": [
    "# b. Compute the standard error. (1 point)\n",
    "se_p =(pbar*(1-pbar)/n)**.5\n",
    "print(se_p)\n"
   ]
  },
  {
   "cell_type": "code",
   "execution_count": 124,
   "metadata": {},
   "outputs": [
    {
     "name": "stdout",
     "output_type": "stream",
     "text": [
      "0.0203063903135\n"
     ]
    }
   ],
   "source": [
    "# c. Compute the margin of error for a 95% confidence. (1 point)\n",
    "moe_calc = lambda cl : norm.ppf(.5+cl/2)*se_p\n",
    "print(moe_calc(.95))\n"
   ]
  },
  {
   "cell_type": "code",
   "execution_count": 125,
   "metadata": {},
   "outputs": [
    {
     "name": "stdout",
     "output_type": "stream",
     "text": [
      "0.289778908231 0.330391688858\n"
     ]
    }
   ],
   "source": [
    "# d. Develop a 95% confidence interval estimate of the population proportion. (1 point)\n",
    "print(pbar-moe_calc(.95), pbar+moe_calc(.95))\n"
   ]
  },
  {
   "cell_type": "code",
   "execution_count": 126,
   "metadata": {},
   "outputs": [
    {
     "name": "stdout",
     "output_type": "stream",
     "text": [
      "8218.12528719\n",
      "No. I don't recommend selecting unnecessarily large sample size of 8219, due to experimental costs involved\n"
     ]
    }
   ],
   "source": [
    "# e. How large a sample would be required to report the margin of error of .01 at 95% confidence? \n",
    "# Would you recommend that USA Today attempt to provide this degree of precision? Why or why not? (2 points)\n",
    "moe = 0.01\n",
    "print(norm.ppf(.5+.95/2)**2 * pbar*(1-pbar) / (moe**2))\n",
    "print(\"No. I don't recommend selecting unnecessarily large sample size of 8219, due to experimental costs involved\")\n"
   ]
  },
  {
   "cell_type": "code",
   "execution_count": null,
   "metadata": {
    "collapsed": true
   },
   "outputs": [],
   "source": []
  }
 ],
 "metadata": {
  "anaconda-cloud": {},
  "kernelspec": {
   "display_name": "Python 3",
   "language": "python",
   "name": "python3"
  },
  "language_info": {
   "codemirror_mode": {
    "name": "ipython",
    "version": 3
   },
   "file_extension": ".py",
   "mimetype": "text/x-python",
   "name": "python",
   "nbconvert_exporter": "python",
   "pygments_lexer": "ipython3",
   "version": "3.6.2"
  }
 },
 "nbformat": 4,
 "nbformat_minor": 1
}
