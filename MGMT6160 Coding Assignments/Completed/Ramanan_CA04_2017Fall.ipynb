{
 "cells": [
  {
   "cell_type": "markdown",
   "metadata": {
    "collapsed": true
   },
   "source": []
  },
  {
   "cell_type": "markdown",
   "metadata": {},
   "source": [
    "### Problem 1\n",
    "\n",
    "Consider a random experiment in which we roll two fair, six-sided dices. Let random variable X be the sum of the two numbers resulted from a roll. Let Y be the absolute value of the difference between the two numbers. Answer the following questions."
   ]
  },
  {
   "cell_type": "code",
   "execution_count": 202,
   "metadata": {},
   "outputs": [],
   "source": [
    "# a. Provide the joint probability distribution (PMF) of X and Y. (2 points)\n",
    "# No need to use dictionary; algebraic or tabular format is fine.\n",
    "#Tabular Format displayed below:\n",
    "pmf = {(2,0):1/36,(2,1):0,(2,2):0,(2,3):0,(2,4):0,(2,5):0,\n",
    "       (3,0):0,(3,1):2/36,(3,2):0,(3,3):0,(3,4):0,(3,5):0,\n",
    "       (4,0):1/36,(4,1):0,(4,2):2/36,(4,3):0,(4,4):0,(4,5):0,\n",
    "       (5,0):0,(5,1):2/36,(5,2):0,(5,3):2/36,(5,4):0,(5,5):0,\n",
    "       (6,0):1/36,(6,1):0,(6,2):2/36,(6,3):0,(6,4):2/36,(6,5):0,\n",
    "       (7,0):0,(7,1):2/36,(7,2):0,(7,3):2/36,(7,4):0,(7,5):2/36,\n",
    "       (8,0):1/36,(8,1):0,(8,2):2/36,(8,3):0,(8,4):2/36,(8,5):0,\n",
    "       (9,0):0,(9,1):2/36,(9,2):0,(9,3):2/36,(9,4):0,(9,5):0,\n",
    "       (10,0):1/36,(10,1):0,(10,2):2/36,(10,3):0,(10,4):0,(10,5):0,\n",
    "       (11,0):0,(11,1):2/36,(11,2):0,(11,3):0,(11,4):0,(11,5):0,\n",
    "       (12,0):1/36,(12,1):0,(12,2):0,(12,3):0,(12,4):0,(12,5):0}\n",
    "#pmf\n",
    "#sum([pmf[key] for key in pmf.keys()])"
   ]
  },
  {
   "cell_type": "markdown",
   "metadata": {},
   "source": [
    "#### Joint Probability Distribution (Tabular)\n",
    "* x = sum of two numbers resulted from a roll of two fair six-sided dices\n",
    "* y = difference between two numbers resulted from a roll of two fair six-sided dices\n",
    "\n",
    "|$f_{XY}(x,y)$|y=0|y=1|y=2|y=3|y=4|y=5|Marginal Prob|\n",
    "|:-:|:-:|:-:|:-:|:-:|:-:|:-:|:-:|\n",
    "|x=2|1/36|0|0|0|0|0|1/36|\n",
    "|x=3|0|2/36|0|0|0|0|2/36|\n",
    "|x=4|1/36|0|2/36|0|0|0|3/36|\n",
    "|x=5|0|2/36|0|2/36|0|0|4/36|\n",
    "|x=6|1/36|0|2/36|0|2/36|0|5/36|\n",
    "|x=7|0|2/36|0|2/36|0|2/36|6/36|\n",
    "|x=8|1/36|0|2/36|0|2/36|0|5/36|\n",
    "|x=9|0|2/36|0|2/36|0|0|4/36|\n",
    "|x=10|1/36|0|2/36|0|0|0|3/36|\n",
    "|x=11|0|2/36|0|0|0|0|2/36|\n",
    "|x=12|1/36|0|0|0|0|0|1/36|\n",
    "|Marginal Prob|6/36|10/36|8/36|6/36|4/36|2/36|1|"
   ]
  },
  {
   "cell_type": "code",
   "execution_count": 203,
   "metadata": {},
   "outputs": [
    {
     "name": "stdout",
     "output_type": "stream",
     "text": [
      "pmf(X) = {2: 0.027777777777777776, 3: 0.05555555555555555, 4: 0.08333333333333333, 5: 0.1111111111111111, 6: 0.1388888888888889, 7: 0.16666666666666666, 8: 0.1388888888888889, 9: 0.1111111111111111, 10: 0.08333333333333333, 11: 0.05555555555555555, 12: 0.027777777777777776}\n",
      "\n",
      "pmf(Y) = {0: 0.16666666666666666, 1: 0.2777777777777778, 2: 0.2222222222222222, 3: 0.16666666666666666, 4: 0.1111111111111111, 5: 0.05555555555555555}\n"
     ]
    }
   ],
   "source": [
    "# b. Provide the marginal probability distributions of X and Y, respectively. (2 points)\n",
    "# No need to use dictionary; algebraic/tabular format is fine.\n",
    "# Tabular format provided above\n",
    "pmf_X = {2:1/36,3:2/36,4:3/36,5:4/36,6:5/36,7:6/36,8:5/36,9:4/36,10:3/36,11:2/36,12:1/36}\n",
    "pmf_Y = {0:6/36,1:10/36,2:8/36,3:6/36,4:4/36,5:2/36}\n",
    "print(\"pmf(X) =\", pmf_X)\n",
    "print()\n",
    "print(\"pmf(Y) =\", pmf_Y)"
   ]
  },
  {
   "cell_type": "code",
   "execution_count": 204,
   "metadata": {},
   "outputs": [
    {
     "name": "stdout",
     "output_type": "stream",
     "text": [
      "E(X) = 6.999999999999999\n",
      "E(Y) = 1.9444444444444446\n"
     ]
    }
   ],
   "source": [
    "# c. Compute the expected value of X and Y, E(X) and E(Y) respectively. (1 point)\n",
    "mu_X = sum([key*pmf_X[key] for key in pmf_X.keys()])\n",
    "mu_Y = sum([key*pmf_Y[key] for key in pmf_Y.keys()])\n",
    "\n",
    "print(\"E(X) =\", mu_X)\n",
    "print(\"E(Y) =\", mu_Y)\n"
   ]
  },
  {
   "cell_type": "code",
   "execution_count": 205,
   "metadata": {},
   "outputs": [
    {
     "name": "stdout",
     "output_type": "stream",
     "text": [
      "Var(X) = 5.833333333333334\n",
      "Var(Y) = 2.052469135802469\n",
      "\n",
      "SD(X) = 2.41522945769824\n",
      "SD(Y) = 1.4326441064697364\n"
     ]
    }
   ],
   "source": [
    "# d. Compute the variance and standard deviation of X and Y, respectively. (2 points)\n",
    "var_X = sum([(key-mu_X)**2*pmf_X[key] for key in pmf_X.keys()])\n",
    "var_Y = sum([(key-mu_Y)**2*pmf_Y[key] for key in pmf_Y.keys()])\n",
    "sigma_X = var_X**0.5\n",
    "sigma_Y = var_Y**0.5\n",
    "\n",
    "print(\"Var(X) =\", var_X)\n",
    "print(\"Var(Y) =\", var_Y)\n",
    "print()\n",
    "print(\"SD(X) =\", sigma_X)\n",
    "print(\"SD(Y) =\", sigma_Y)\n"
   ]
  },
  {
   "cell_type": "code",
   "execution_count": 206,
   "metadata": {},
   "outputs": [
    {
     "name": "stdout",
     "output_type": "stream",
     "text": [
      "Cov(X,Y) = -1.1102230246251565e-16\n",
      "Correlation Co-efficient = -3.208584751884726e-17\n"
     ]
    }
   ],
   "source": [
    "# e. Compute the covariance and coefficient of correlation between X and Y. (2 points)\n",
    "cov_XY = sum([(key[0]-mu_X)*(key[1]-mu_Y)*pmf[key] for key in pmf.keys()])\n",
    "r_XY = cov_XY/sigma_X/sigma_Y\n",
    "print(\"Cov(X,Y) =\", cov_XY)\n",
    "print(\"Correlation Co-efficient =\", r_XY)\n"
   ]
  },
  {
   "cell_type": "code",
   "execution_count": 207,
   "metadata": {},
   "outputs": [
    {
     "name": "stdout",
     "output_type": "stream",
     "text": [
      "Yes. X and Y have very weak (not significant) negative relationship, so they are considered independent\n",
      "Reason: Correlation Co-efficient is very close to 0, which indicates that there is no significant correlation between X and Y. So they are independant\n"
     ]
    }
   ],
   "source": [
    "# f. Are X and Y independent? Why or why not? (2 points)\n",
    "print(\"Yes. X and Y have very weak (not significant) negative relationship, so they are considered independent\")\n",
    "print(\"Reason: Correlation Co-efficient is very close to 0, which indicates that there is no significant correlation between X and Y. So they are independant\")\n"
   ]
  },
  {
   "cell_type": "code",
   "execution_count": 208,
   "metadata": {
    "collapsed": true
   },
   "outputs": [],
   "source": [
    "from scipy.stats import binom, poisson, norm, expon"
   ]
  },
  {
   "cell_type": "markdown",
   "metadata": {},
   "source": [
    "### Problem 2 (Problem 39 on page 251)\n",
    "Market-share-analysis company Net Applications monitors and reports on Internet browser usage. According to Net Applications, in the summer of 2014, google’s Chrome browser exceeded a 20% market share for the first time, with a 20.37% share of the browser market (Forbes website, December 15, 2014). for a randomly selected group of 20 Internet browser users, answer the following questions. (4 points)"
   ]
  },
  {
   "cell_type": "code",
   "execution_count": 209,
   "metadata": {},
   "outputs": [
    {
     "data": {
      "text/plain": [
       "0.024272580498580002"
      ]
     },
     "execution_count": 209,
     "metadata": {},
     "output_type": "execute_result"
    }
   ],
   "source": [
    "# Question a: Compute the probability that exactly 8 of the 20 Internet browser users use Chrome as their Internet browser.\n",
    "binom.pmf(8, 20, 0.2037)\n"
   ]
  },
  {
   "cell_type": "code",
   "execution_count": 210,
   "metadata": {},
   "outputs": [
    {
     "data": {
      "text/plain": [
       "0.80507711386326264"
      ]
     },
     "execution_count": 210,
     "metadata": {},
     "output_type": "execute_result"
    }
   ],
   "source": [
    "# Question b: Compute the probability that at least 3 of the 20 Internet browser users use Chrome as their Internet browser.\n",
    "1 - binom.cdf(2, 20, 0.2037)\n"
   ]
  },
  {
   "cell_type": "code",
   "execution_count": 211,
   "metadata": {},
   "outputs": [
    {
     "name": "stdout",
     "output_type": "stream",
     "text": [
      "Expected number of chrome users E(x):  4.074\n"
     ]
    }
   ],
   "source": [
    "# Question c: for the sample of 20 Internet browser users, compute the expected number of Chrome users.\n",
    "mu_chrome = 20 * 0.2037\n",
    "print(\"Expected number of chrome users E(x): \", mu_chrome)\n"
   ]
  },
  {
   "cell_type": "code",
   "execution_count": 212,
   "metadata": {},
   "outputs": [
    {
     "name": "stdout",
     "output_type": "stream",
     "text": [
      "Variance for the number of chrome users: 3.2441261999999997\n",
      "Standard Deviation for the number of chrome users: 1.8011458019827267\n"
     ]
    }
   ],
   "source": [
    "# Question d: for the sample of 20 Internet browser users, compute the variance and standard devia- tion for the number of Chrome users.\n",
    "var_chrome = 20 * 0.2037 * (1 - 0.2037)\n",
    "sd_chrome = var_chrome**0.5\n",
    "print(\"Variance for the number of chrome users:\", var_chrome)\n",
    "print(\"Standard Deviation for the number of chrome users:\", sd_chrome)\n"
   ]
  },
  {
   "cell_type": "markdown",
   "metadata": {},
   "source": [
    "### Problem 3 (Problem 51 on page 255)\n",
    "Over 500 million tweets are sent per day (digital Marketing ramblings website, December 15, 2014). Assume that the number of tweets per hour follows a Poisson dis- tribution and that Bob receives on average 7 tweets during his lunch hour. (4 points)"
   ]
  },
  {
   "cell_type": "code",
   "execution_count": 213,
   "metadata": {},
   "outputs": [
    {
     "data": {
      "text/plain": [
       "0.00091188196555451624"
      ]
     },
     "execution_count": 213,
     "metadata": {},
     "output_type": "execute_result"
    }
   ],
   "source": [
    "# Question a: what is the probability that Bob receives no tweets during his lunch hour?\n",
    "poisson.pmf(0, 7)\n"
   ]
  },
  {
   "cell_type": "code",
   "execution_count": 214,
   "metadata": {},
   "outputs": [
    {
     "data": {
      "text/plain": [
       "0.91823458375527844"
      ]
     },
     "execution_count": 214,
     "metadata": {},
     "output_type": "execute_result"
    }
   ],
   "source": [
    "# Question b: what is the probability that Bob receives at least 4 tweets during his lunch hour?\n",
    "1 - poisson.cdf(3, 7)\n"
   ]
  },
  {
   "cell_type": "code",
   "execution_count": 215,
   "metadata": {},
   "outputs": [
    {
     "data": {
      "text/plain": [
       "3.5"
      ]
     },
     "execution_count": 215,
     "metadata": {},
     "output_type": "execute_result"
    }
   ],
   "source": [
    "# question c: what is the expected number of tweets Bob receives during the first 30 minutes of his lunch hour?\n",
    "7/2\n",
    "\n"
   ]
  },
  {
   "cell_type": "code",
   "execution_count": 216,
   "metadata": {},
   "outputs": [
    {
     "data": {
      "text/plain": [
       "0.030197383422318501"
      ]
     },
     "execution_count": 216,
     "metadata": {},
     "output_type": "execute_result"
    }
   ],
   "source": [
    "# question d: what is the probability that Bob receives no tweets during the first 30 minutes of his lunch hour?\n",
    "poisson.pmf(0, 3.5)\n"
   ]
  },
  {
   "cell_type": "markdown",
   "metadata": {},
   "source": [
    "### Problem 4 (Problem 22 on page 287)\n",
    "Television viewing reached a new high when the Nielsen Company reported a mean daily viewing time of 8.35 hours per household (USa today, November 11, 2009). Use a nor­ mal probability distribution with a standard deviation of 2.5 hours to answer the following questions about daily television viewing per household. (3 points)"
   ]
  },
  {
   "cell_type": "code",
   "execution_count": 217,
   "metadata": {
    "scrolled": true
   },
   "outputs": [
    {
     "data": {
      "text/plain": [
       "0.65525041286421148"
      ]
     },
     "execution_count": 217,
     "metadata": {},
     "output_type": "execute_result"
    }
   ],
   "source": [
    "# question a: what is the probability that a household views television between 5 and 10 hours a day?\n",
    "norm.cdf(10, 8.35, 2.5) - norm.cdf(5, 8.35, 2.5)\n"
   ]
  },
  {
   "cell_type": "code",
   "execution_count": 218,
   "metadata": {},
   "outputs": [
    {
     "data": {
      "text/plain": [
       "13.051984020378127"
      ]
     },
     "execution_count": 218,
     "metadata": {},
     "output_type": "execute_result"
    }
   ],
   "source": [
    "# question b: how many hours of television viewing must a household have in order to be in the top 3% of all television viewing households?\n",
    "norm.ppf(0.97, 8.35, 2.5)\n"
   ]
  },
  {
   "cell_type": "code",
   "execution_count": 219,
   "metadata": {},
   "outputs": [
    {
     "data": {
      "text/plain": [
       "0.98382261662783388"
      ]
     },
     "execution_count": 219,
     "metadata": {},
     "output_type": "execute_result"
    }
   ],
   "source": [
    "# question c: what is the probability that a household views television more than 3 hours a day?\n",
    "1 - norm.cdf(3, 8.35, 2.5)\n"
   ]
  },
  {
   "cell_type": "markdown",
   "metadata": {},
   "source": [
    "### Problem 5 (Problem 36 on page 294)\n",
    "Comcast Corporation is the largest cable television company, the second largest Internet service provider, and the fourth largest telephone service provider in the United States. Generally known for quality and reliable service, the company periodically experiences unexpected service interruptions. On January 14, 2014, such an interruption occurred for the Comcast customers living in southwest Florida. when customers called the Comcast office, a recorded message told them that the company was aware of the service outage and that it was anticipated that service would be restored in two hours. Assume that two hours is the mean time to do the repair and that the repair time has an exponential probability distribution. (3 points)"
   ]
  },
  {
   "cell_type": "code",
   "execution_count": 220,
   "metadata": {},
   "outputs": [
    {
     "data": {
      "text/plain": [
       "0.39346934028736658"
      ]
     },
     "execution_count": 220,
     "metadata": {},
     "output_type": "execute_result"
    }
   ],
   "source": [
    "# question a: what is the probability that the cable service will be repaired in one hour or less?\n",
    "expon.cdf(1, scale=2)\n"
   ]
  },
  {
   "cell_type": "code",
   "execution_count": 221,
   "metadata": {},
   "outputs": [
    {
     "data": {
      "text/plain": [
       "0.23865121854119109"
      ]
     },
     "execution_count": 221,
     "metadata": {},
     "output_type": "execute_result"
    }
   ],
   "source": [
    "# question b: what is the probability that the repair will take between one hour and two hours?\n",
    "expon.cdf(2, scale=2) - expon.cdf(1, scale=2)\n"
   ]
  },
  {
   "cell_type": "code",
   "execution_count": 222,
   "metadata": {},
   "outputs": [
    {
     "data": {
      "text/plain": [
       "0.1353352832366127"
      ]
     },
     "execution_count": 222,
     "metadata": {},
     "output_type": "execute_result"
    }
   ],
   "source": [
    "# question c: For a customer who calls the Comcast office at 1:00 p.m., what is the probability that\n",
    "# the cable service will not be repaired by 5:00 p.m.?\n",
    "1 - expon.cdf(4, scale=2)\n"
   ]
  },
  {
   "cell_type": "code",
   "execution_count": null,
   "metadata": {
    "collapsed": true
   },
   "outputs": [],
   "source": []
  }
 ],
 "metadata": {
  "anaconda-cloud": {},
  "kernelspec": {
   "display_name": "Python 3",
   "language": "python",
   "name": "python3"
  },
  "language_info": {
   "codemirror_mode": {
    "name": "ipython",
    "version": 3
   },
   "file_extension": ".py",
   "mimetype": "text/x-python",
   "name": "python",
   "nbconvert_exporter": "python",
   "pygments_lexer": "ipython3",
   "version": "3.6.2"
  }
 },
 "nbformat": 4,
 "nbformat_minor": 1
}
