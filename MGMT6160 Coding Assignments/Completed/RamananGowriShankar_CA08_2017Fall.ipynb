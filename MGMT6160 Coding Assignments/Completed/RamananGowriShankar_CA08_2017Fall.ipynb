{
 "cells": [
  {
   "cell_type": "code",
   "execution_count": 62,
   "metadata": {},
   "outputs": [],
   "source": [
    "from scipy.stats import norm, chi2, f\n",
    "import statsmodels.api as sm\n",
    "from statsmodels.formula.api import ols\n",
    "import pandas as pd"
   ]
  },
  {
   "cell_type": "markdown",
   "metadata": {},
   "source": [
    "### Problem 12-7, Page518.\n",
    "Social networking is becoming more and more popular around the world. Pew research Center used a survey of adults in several countries to determine the percentage of adults who use social networking sites. assume that the results for surveys in great britain, israel, russia, and united States are as follows.\n",
    "\n",
    "\n",
    "|Use Social Media| Great Britain |Israel|Russia|USA|\n",
    "|:--|:--:|:--:|:--:|:--:|\n",
    "|Yes|344|265|301|500|\n",
    "|No|456|235|399|500|\n",
    "\n",
    "a. Conduct a hypothesis test to determine whether the proportion of adults using social networking sites is equal for all four countries. What is the p-value? using a .05 level of significance, what is your conclusion? (3 points)\n",
    "\n",
    "b. What are the sample proportions for each of the four countries? Using a .05 level of significance, conduct multiple pairwise comparison tests among the four countries. What is your conclusion? (2 points)"
   ]
  },
  {
   "cell_type": "markdown",
   "metadata": {},
   "source": [
    "a. Let $p_1, p_2, p_3, p_4$ be the proportions of adults using social networking sites in Great Britain, Israel, Russia and USA for their respective populations.\n",
    "\n",
    "The hypotheses are stated as follows:\n",
    "\n",
    "$H_0: p_1 = p_2 = p_3 = p_4$\n",
    "\n",
    "$H_a: $ not all population proportions are equal\n",
    "\n",
    "To conduct this hypothesis test we begin by taking a sample of owners from each of the three populations. \n",
    "\n",
    "#### The Observed Frequencies\n",
    "\n",
    "| Use Social Media       | Great Britain | Israel        | Russia        | USA    | Total  |\n",
    "|:-----------------------|:-------------:|:-------------:|:-------------:|:------:|:------:|\n",
    "| Yes                    | 344           | 265           |   301         |  500   | 1410   |\n",
    "| No                     | 456           | 235           |   399         |  500   | 1590   |\n",
    "|    Total               | 800           | 500           |   700         | 1000   | 3000   |\n",
    "\n",
    "#### Expected Frequencies under the Assumptuion $H_0$ is True\n",
    "1. $\\frac{1410}{3000} = .47$ adults in the sample are using social networking sites.\n",
    "2. If $H_0$ is true, then there should be 47% of adults in all 4 countries equally, are likely to use social networking sites.\n",
    "3. The expected # of Great Britain adults who are likely to use social networking sites is thus .47*800 = 376; The expected # of Great Britain adults who are unlikely to use social networking sites is thus 800 - 376 = 424, etc.\n",
    "\n",
    "\n",
    "| Use Social Media       | Great Britain | Israel        | Russia        | USA    | Total  |\n",
    "|:-----------------------|:-------------:|:-------------:|:-------------:|:------:|:------:|\n",
    "| Yes                    | 376           | 235           |   329         |  470   | 1410   |\n",
    "| No                     | 424           | 265           |   371         |  530   | 1590   |\n",
    "|    Total               | 800           | 500           |   700         | 1000   | 3000   |\n"
   ]
  },
  {
   "cell_type": "code",
   "execution_count": 63,
   "metadata": {},
   "outputs": [
    {
     "name": "stdout",
     "output_type": "stream",
     "text": [
      "p-value: 0.000135384658871\n",
      "p-value <= alpha. So, Reject H0.\n",
      "Conclusion: Proportion of adults using social networking sites is NOT equal for all four countries\n"
     ]
    }
   ],
   "source": [
    "observed = [344, 265, 301, 500, 456, 235, 399, 500]\n",
    "expected = [376, 235, 329, 470, 424, 265, 371, 530]\n",
    "n = 4 #Number of countries = 4\n",
    "r = 2 #Binomial\n",
    "df = (n-1)*(r-1) #Degree of freedom of (n-1)*(r-1)\n",
    "alpha = 0.05\n",
    "\n",
    "chi_square = 0\n",
    "\n",
    "for i in range(len(observed)):\n",
    "    chi_square += (observed[i]-expected[i])**2./expected[i]\n",
    "\n",
    "#crit = chi2.ppf(0.95, df) # Find the critical value for 95% confidence\n",
    "\n",
    "#critical value (7.815) is positive\n",
    "p_value = 1 - chi2.cdf(chi_square, df)\n",
    "\n",
    "print(\"p-value:\", p_value)\n",
    "if p_value > alpha:\n",
    "    print(\"p-value > alpha. So, Accept H0. Hence p1 = p2 = p3 = p4\")\n",
    "    print(\"Conclusion: Proportion of adults using social networking sites is equal for all four countries\")\n",
    "else:\n",
    "    print(\"p-value <= alpha. So, Reject H0.\")\n",
    "    print(\"Conclusion: Proportion of adults using social networking sites is NOT equal for all four countries\")"
   ]
  },
  {
   "cell_type": "code",
   "execution_count": 64,
   "metadata": {},
   "outputs": [
    {
     "name": "stdout",
     "output_type": "stream",
     "text": [
      "Observed Sample Proportion of Great Britain adults using Social Network [P(GreatBritain)]: 0.43\n",
      "Observed Sample Proportion of Israel adults using Social Network [P(Israel)]: 0.53\n",
      "Observed Sample Proportion of Russia adults using Social Network [P(Russia)]: 0.43\n",
      "Observed Sample Proportion of USA adults using Social Network [P(USA)]: 0.5\n",
      "\n",
      "As observed, NOT all proportions are equal\n"
     ]
    }
   ],
   "source": [
    "print(\"Observed Sample Proportion of Great Britain adults using Social Network [P(GreatBritain)]:\", 344/800)\n",
    "print(\"Observed Sample Proportion of Israel adults using Social Network [P(Israel)]:\", 265/500)\n",
    "print(\"Observed Sample Proportion of Russia adults using Social Network [P(Russia)]:\", 301/700)\n",
    "print(\"Observed Sample Proportion of USA adults using Social Network [P(USA)]:\", 500/1000)\n",
    "print()\n",
    "print(\"As observed, NOT all proportions are equal\")"
   ]
  },
  {
   "cell_type": "markdown",
   "metadata": {},
   "source": [
    "### Problem 12-11, page 524\n",
    "\n",
    "a Bloomberg Businessweek subscriber study asked, “in the past 12 months, when traveling for business, what type of airline ticket did you purchase most often?” a second question asked if the type of airline ticket purchased most often was for domestic or international travel. Sample data obtained are shown in the following table.\n",
    "\n",
    "|Type of Ticket| Domestic Flight |International Flight|\n",
    "|:--|:--:|:--:|\n",
    "|First class|29|22|\n",
    "|Business class|95|121|\n",
    "|Economy class|518|135|\n",
    "\n",
    "a.\tusing a .05 level of significance, is the type of ticket purchased independent of the type of flight? Compute the test statistic, the critical value of test statistic, and the p value. (3 points)\n",
    "\n",
    "b.\tWhat is your conclusion? Discuss any dependence that exists between the type of ticket and type of flight. (2 points)"
   ]
  },
  {
   "cell_type": "markdown",
   "metadata": {},
   "source": [
    "$H_0$: Type of ticket purchased is independent of the type of flight\n",
    "\n",
    "$H_a$: Type of ticket purchased is not independent of the type of flight\n",
    "\n",
    "#### Observed Frequency Table\n",
    "|                     |   Domestic Flight   | International Flight | Total  | \n",
    "|:--------------------|:-------------------:|:--------------------:|:------:|\n",
    "| First class         | 29                  | 22                   |   51   |\n",
    "| Business class      | 95                  | 121                  |   216  |\n",
    "| Economy class       | 518                 | 135                  |   653  |\n",
    "|    Total            | 642                 | 278                  |   920  |\n",
    "\n",
    "### Connection with Probability Theory\n",
    "* Suppose we define the following events:\n",
    "    * $T_i$ = Type of Ticket i, where i = 1 (First class), 2 (Business class), or 3 (Economy class)\n",
    "    * $F_j$ = Type of Flight j, where j = 1 (Domestic) or 2 (International)\n",
    "* If Type of Ticket and Flight are independent, then P($T_iF_j$) = P($T_i$)P($F_j$) for all i and j.\n",
    "* Alteratively, P($T_i$) =  P($T_i|F_j$). That is, we are testing whether P($T_i$) =  P($T_i$|Domestic) = P($T_i$|International) for all i.\n",
    "\n",
    "* Joint Probability Table (__Observed Relative Frequency Table__)\n",
    "\n",
    "|                     |   Domestic Flight   | International Flight | Marginal Prob       | \n",
    "|:--------------------|:-------------------:|:--------------------:|:-------------------:|\n",
    "| First class         | 29/920 = 0.0315     | 22/920 = 0.0239      |   51/920 = 0.0554   |\n",
    "| Business class      | 95/920 = 0.1033     | 121/920 = 0.1315     |   216/920 = 0.2348  |\n",
    "| Economy class       | 518/920 = 0.5630    | 135/920 = 0.1468     |   653/920 = 0.7098  |\n",
    "| Marginal Prob       | 642/920 = 0.6978    | 278/920 = 0.3022     |   920/920 = 1       |\n",
    "\n",
    "* If independent, Joint Probability Table (__Expected Relative Frequency Table__)\n",
    "\n",
    "|                     |   Domestic Flight       | International Flight   | Marginal Prob    | \n",
    "|:--------------------|:-----------------------:|:----------------------:|:----------------:|\n",
    "| First class         | .6978(.0554) = 3.87%    | .3022(.0554) = 1.67%   |   5.54%          |\n",
    "| Business class      | .6978(.2348) = 16.38%   | .3022(.2348) = 7.1%    |   23.48%         |\n",
    "| Economy class       | .6978(.7098) = 49.53%   | .3022(.7098) = 21.45%  |   70.98%         |\n",
    "| Marginal Prob       | 69.78%                  | 30.22%                 |   100%           |\n",
    "\n",
    "\n",
    "* If independent, __Expected Frequency Table__\n",
    "\n",
    "\n",
    "|                     |  Domestic Flight    | International Flight | Total            | \n",
    "|:--------------------|:-------------------:|:--------------------:|:----------------:|\n",
    "| First class         | 920(.0387) = 35.6   | 920(.0167) = 15.4    |   51             |\n",
    "| Business class      | 920(.1638) = 150.7  | 920(.071) = 65.3     |   216            |\n",
    "| Economy class       | 920(.4953) = 455.7  | 920(.2145) = 197.3   |   653            |\n",
    "| Marginal Prob       | 642                 | 278                  |   920            |\n",
    "\n"
   ]
  },
  {
   "cell_type": "code",
   "execution_count": 65,
   "metadata": {},
   "outputs": [
    {
     "name": "stdout",
     "output_type": "stream",
     "text": [
      "100.33991894760526 5.99146454711 0.0\n"
     ]
    }
   ],
   "source": [
    "observed = [29, 22, 95, 121, 518, 135]\n",
    "expected = [35.6, 15.4, 150.7, 65.3, 455.7, 197.3]\n",
    "n = 2 #Number of columns/ type of flight\n",
    "r = 3 #Number of rows/ types of tickets\n",
    "df = (n-1)*(r-1) #Degree of freedom of (n-1)*(r-1); df = 2 in this case\n",
    "alpha = 0.05\n",
    "\n",
    "chi_square = sum([(x-y)**2./y for x, y in zip(observed, expected)])\n",
    "crit = chi2.ppf(q = .95,    # Find the critical chi square value for 5% level of significance\n",
    "               df = 2)    \n",
    "p_value = 1 - chi2.cdf(x=chi_square, df = 2)\n",
    "print(chi_square, crit, p_value)"
   ]
  },
  {
   "cell_type": "code",
   "execution_count": 66,
   "metadata": {},
   "outputs": [
    {
     "name": "stdout",
     "output_type": "stream",
     "text": [
      "p-value: 0.0\n",
      "p-value <= alpha. So, Reject H0.\n",
      "Conclusion: Type of ticket purchased is NOT independent of the type of flight\n"
     ]
    }
   ],
   "source": [
    "print(\"p-value:\", p_value)\n",
    "if p_value > alpha:\n",
    "    print(\"p-value > alpha. So, Accept H0.\")\n",
    "    print(\"Conclusion: Type of ticket purchased is independent of the type of flight\")\n",
    "else:\n",
    "    print(\"p-value <= alpha. So, Reject H0.\")\n",
    "    print(\"Conclusion: Type of ticket purchased is NOT independent of the type of flight\")"
   ]
  },
  {
   "cell_type": "markdown",
   "metadata": {},
   "source": [
    "### Problem 12-23, page 535\n",
    "\n",
    "the Wall Street Journal’s Shareholder Scoreboard tracks the performance of 1000 major U.S. companies. The performance of each company is rated based on the annual total return, including stock price changes and the reinvestment of dividends. ratings are assigned by dividing all 1000 companies into five groups from a (top 20%), b (next 20%), to e (bottom 20%). Shown here are the one-year ratings for a sample of 60 of the largest companies. Do the largest companies differ in performance from the performance of the 1000 companies in the Shareholder Scoreboard? use a = .05.\n",
    "\n",
    "|A|B|C|D|E|\n",
    "|:-|-|-|-|-|\n",
    "|5|8|15|20|12|\n",
    "\n",
    "a. Clearly state your hypotheses. (1 point)\n",
    "\n",
    "b. Compute the test statistic, the critical value of test statistic, and the p value given alpha = 0.05. (1 point)\n",
    "\n",
    "c. Draw your conclusion and provide a practical interpretation. (1 point)"
   ]
  },
  {
   "cell_type": "markdown",
   "metadata": {},
   "source": [
    "$Observed Sample Proportions$: [5/60, 8/60, 15/60, 20/60, 12/60] = [.0833, .1333, .25, .3333, .2]\n",
    "\n",
    "a. Hypotheses\n",
    "\n",
    "$H_0$:\tPopulation Proportions are equal i.e., $p_A$ = $p_B$ = $p_C$ = $p_D$ = $p_E$\n",
    "\n",
    "$H_a$: Not all proportions are equal\n",
    "\n",
    "#### The Observed Frequencies\n",
    "\n",
    "| A | B | C | D | E |\n",
    "|:-------------:|:-------------:|:-------------:|:-------------:|:-------------:|\n",
    "| 5             | 8             |   15          |  20           |  12           |\n",
    "\n",
    "#### The Expected Frequencies\n",
    "\n",
    "| A | B | C | D | E |\n",
    "|:-------------:|:-------------:|:-------------:|:-------------:|:-------------:|\n",
    "| 12  | 12  |   12         | 12   | 12 |\n"
   ]
  },
  {
   "cell_type": "code",
   "execution_count": 67,
   "metadata": {},
   "outputs": [
    {
     "name": "stdout",
     "output_type": "stream",
     "text": [
      "11.5 9.48772903678 0.0214837703764\n"
     ]
    }
   ],
   "source": [
    "observed = [5, 8, 15, 20, 12]\n",
    "expected = [12, 12, 12, 12, 12]\n",
    "n = 5\n",
    "df = n-1\n",
    "alpha = 0.05\n",
    "\n",
    "chi_square = 0\n",
    "\n",
    "for i in range(len(observed)):\n",
    "    chi_square += (observed[i]-expected[i])**2./expected[i]\n",
    "\n",
    "crit = chi2.ppf(0.95, df) # Find the critical value for 95% confidence\n",
    "\n",
    "p_value = 1 - chi2.cdf(chi_square, df)\n",
    "\n",
    "print(chi_square, crit, p_value)"
   ]
  },
  {
   "cell_type": "code",
   "execution_count": 68,
   "metadata": {},
   "outputs": [
    {
     "name": "stdout",
     "output_type": "stream",
     "text": [
      "p-value: 0.0214837703764\n",
      "p-value <= alpha. So, Reject H0.\n",
      "Conclusion: Population proportions for large companies differ\n"
     ]
    }
   ],
   "source": [
    "print(\"p-value:\", p_value)\n",
    "if p_value > alpha:\n",
    "    print(\"p-value > alpha. So, Accept H0.\")\n",
    "    print(\"Conclusion: Population proportions for large companies are equal\")\n",
    "else:\n",
    "    print(\"p-value <= alpha. So, Reject H0.\")\n",
    "    print(\"Conclusion: Population proportions for large companies differ\")"
   ]
  },
  {
   "cell_type": "markdown",
   "metadata": {},
   "source": [
    "### Problem 13-9, page 561\n",
    "\n",
    "To study the effect of temperature on yield in a chemical process, five batches were produced at each of three temperature levels. The results follow. Construct an analysis of variance table. Use a .05 level of significance to test whether the temperature level has an effect on the mean yield of the process.\n",
    "\n",
    "|50C|60C|70C|\n",
    "|:-:|:-:|:-:|\n",
    "|34|30|23|\n",
    "|24|31|28|\n",
    "|36|34|28|\n",
    "|39|23|30|\n",
    "|32|27|31|\n",
    "\n",
    "a. Clearly state your hypotheses. (1 point) \n",
    "\n",
    "b. Use statsmodels to generate the ANOVA table. (3 points)\n",
    "\n",
    "c. Draw your conclusion and provide its practical interpretation. (1 point)"
   ]
  },
  {
   "cell_type": "markdown",
   "metadata": {},
   "source": [
    "a. Hypotheses\n",
    "\n",
    "$H_0$:\tNot all three population means are equal\n",
    "\n",
    "$H_a$: All three population means are equal"
   ]
  },
  {
   "cell_type": "code",
   "execution_count": 69,
   "metadata": {},
   "outputs": [
    {
     "name": "stdout",
     "output_type": "stream",
     "text": [
      "             sum_sq    df         F    PR(>F)\n",
      "temperature    70.0   2.0  1.779661  0.210447\n",
      "Residual      236.0  12.0       NaN       NaN\n"
     ]
    }
   ],
   "source": [
    "labels = ['chemical_yield', 'temperature']\n",
    "data = [(34, '50C'), (24, '50C'), (36, '50C'), (39, '50C'), (32, '50C'), (30, '60C'), (31, '60C'), (34, '60C'), (23, '60C'), (27, '60C'), (23, '70C'), (28, '70C'), (28, '70C'), (30, '70C'), (31, '70C')]\n",
    "\n",
    "dframe = pd.DataFrame.from_records(data, columns = labels)    # Read data into DataFrame\n",
    "\n",
    "model = ols('chemical_yield ~ temperature', data=dframe).fit()\n",
    "anova_table = sm.stats.anova_lm(model, typ=2)\n",
    "print(anova_table)"
   ]
  },
  {
   "cell_type": "code",
   "execution_count": 70,
   "metadata": {},
   "outputs": [
    {
     "name": "stdout",
     "output_type": "stream",
     "text": [
      "p-value: 0.210447351562\n",
      "p-value > alpha. So, Accept H0.\n",
      "Conclusion: Not all three population means are equal\n"
     ]
    }
   ],
   "source": [
    "alpha = 0.05\n",
    "p_value = 1-f.cdf(1.779661, 2, 12) #Upper tail test PR>F\n",
    "print(\"p-value:\", p_value)\n",
    "if p_value > alpha:\n",
    "    print(\"p-value > alpha. So, Accept H0.\")\n",
    "    print(\"Conclusion: Not all three population means are equal\")\n",
    "else:\n",
    "    print(\"p-value <= alpha. So, Reject H0.\")\n",
    "    print(\"Conclusion: All population means are equal\")"
   ]
  },
  {
   "cell_type": "code",
   "execution_count": null,
   "metadata": {
    "collapsed": true
   },
   "outputs": [],
   "source": []
  }
 ],
 "metadata": {
  "anaconda-cloud": {},
  "kernelspec": {
   "display_name": "Python 3",
   "language": "python",
   "name": "python3"
  },
  "language_info": {
   "codemirror_mode": {
    "name": "ipython",
    "version": 3
   },
   "file_extension": ".py",
   "mimetype": "text/x-python",
   "name": "python",
   "nbconvert_exporter": "python",
   "pygments_lexer": "ipython3",
   "version": "3.6.2"
  }
 },
 "nbformat": 4,
 "nbformat_minor": 1
}
