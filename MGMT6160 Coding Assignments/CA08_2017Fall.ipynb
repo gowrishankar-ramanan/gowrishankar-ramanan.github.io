{
 "cells": [
  {
   "cell_type": "code",
   "execution_count": 30,
   "metadata": {
    "collapsed": true
   },
   "outputs": [],
   "source": [
    "from scipy.stats import norm, chi2, f\n",
    "import statsmodels.api as sm\n",
    "from statsmodels.formula.api import ols\n",
    "import pandas as pd"
   ]
  },
  {
   "cell_type": "markdown",
   "metadata": {},
   "source": [
    "### Problem 12-7, Page518.\n",
    "Social networking is becoming more and more popular around the world. Pew research Center used a survey of adults in several countries to determine the percentage of adults who use social networking sites. assume that the results for surveys in great britain, israel, russia, and united States are as follows.\n",
    "\n",
    "\n",
    "|Use Social Media| Great Britain |Israel|Russia|USA|\n",
    "|:--|:--:|:--:|:--:|:--:|\n",
    "|Yes|344|265|301|500|\n",
    "|No|456|235|399|500|\n",
    "\n",
    "a. Conduct a hypothesis test to determine whether the proportion of adults using social networking sites is equal for all four countries. What is the p-value? using a .05 level of significance, what is your conclusion? (3 points)\n",
    "\n",
    "b. What are the sample proportions for each of the four countries? Using a .05 level of significance, conduct multiple pairwise comparison tests among the four countries. What is your conclusion? (2 points)"
   ]
  },
  {
   "cell_type": "code",
   "execution_count": null,
   "metadata": {
    "collapsed": false
   },
   "outputs": [],
   "source": []
  },
  {
   "cell_type": "code",
   "execution_count": null,
   "metadata": {
    "collapsed": false
   },
   "outputs": [],
   "source": []
  },
  {
   "cell_type": "markdown",
   "metadata": {},
   "source": [
    "### Problem 12-11, page 524\n",
    "\n",
    "a Bloomberg Businessweek subscriber study asked, “in the past 12 months, when traveling for business, what type of airline ticket did you purchase most often?” a second question asked if the type of airline ticket purchased most often was for domestic or international travel. Sample data obtained are shown in the following table.\n",
    "\n",
    "|Type of Ticket| Domestic Flight |International Flight|\n",
    "|:--|:--:|:--:|\n",
    "|First class|29|22|\n",
    "|Business class|95|121|\n",
    "|Economy class|518|135|\n",
    "\n",
    "a.\tusing a .05 level of significance, is the type of ticket purchased independent of the type of flight? Compute the test statistic, the critical value of test statistic, and the p value. (3 points)\n",
    "\n",
    "b.\tWhat is your conclusion? Discuss any dependence that exists between the type of ticket and type of flight. (2 points)"
   ]
  },
  {
   "cell_type": "code",
   "execution_count": null,
   "metadata": {
    "collapsed": false
   },
   "outputs": [],
   "source": []
  },
  {
   "cell_type": "code",
   "execution_count": null,
   "metadata": {
    "collapsed": false
   },
   "outputs": [],
   "source": []
  },
  {
   "cell_type": "markdown",
   "metadata": {},
   "source": [
    "### Problem 12-23, page 535\n",
    "\n",
    "the Wall Street Journal’s Shareholder Scoreboard tracks the performance of 1000 major U.S. companies. The performance of each company is rated based on the annual total return, including stock price changes and the reinvestment of dividends. ratings are assigned by dividing all 1000 companies into five groups from a (top 20%), b (next 20%), to e (bottom 20%). Shown here are the one-year ratings for a sample of 60 of the largest companies. Do the largest companies differ in performance from the performance of the 1000 companies in the Shareholder Scoreboard? use a = .05.\n",
    "\n",
    "|A|B|C|D|E|\n",
    "|:-|-|-|-|-|\n",
    "|5|8|15|20|12|\n",
    "\n",
    "a. Clearly state your hypotheses. (1 point)\n",
    "\n",
    "b. Compute the test statistic, the critical value of test statistic, and the p value given alpha = 0.05. (1 point)\n",
    "\n",
    "c. Draw your conclusion and provide a practical interpretation. (1 point)"
   ]
  },
  {
   "cell_type": "code",
   "execution_count": null,
   "metadata": {
    "collapsed": false
   },
   "outputs": [],
   "source": []
  },
  {
   "cell_type": "code",
   "execution_count": null,
   "metadata": {
    "collapsed": false
   },
   "outputs": [],
   "source": []
  },
  {
   "cell_type": "markdown",
   "metadata": {},
   "source": [
    "### Problem 13-9, page 561\n",
    "\n",
    "To study the effect of temperature on yield in a chemical process, five batches were produced at each of three temperature levels. The results follow. Construct an analysis of variance table. Use a .05 level of significance to test whether the temperature level has an effect on the mean yield of the process.\n",
    "\n",
    "|50C|60C|70C|\n",
    "|:-:|:-:|:-:|\n",
    "|34|30|23|\n",
    "|24|31|28|\n",
    "|36|34|28|\n",
    "|39|23|30|\n",
    "|32|27|31|\n",
    "\n",
    "a. Clearly state your hypotheses. (1 point) \n",
    "\n",
    "b. Use statsmodels to generate the ANOVA table. (3 points)\n",
    "\n",
    "c. Draw your conclusion and provide its practical interpretation. (1 point)"
   ]
  },
  {
   "cell_type": "code",
   "execution_count": null,
   "metadata": {
    "collapsed": true
   },
   "outputs": [],
   "source": []
  },
  {
   "cell_type": "code",
   "execution_count": null,
   "metadata": {
    "collapsed": false
   },
   "outputs": [],
   "source": []
  },
  {
   "cell_type": "code",
   "execution_count": null,
   "metadata": {
    "collapsed": true
   },
   "outputs": [],
   "source": []
  }
 ],
 "metadata": {
  "anaconda-cloud": {},
  "kernelspec": {
   "display_name": "Python [default]",
   "language": "python",
   "name": "python3"
  },
  "language_info": {
   "codemirror_mode": {
    "name": "ipython",
    "version": 3
   },
   "file_extension": ".py",
   "mimetype": "text/x-python",
   "name": "python",
   "nbconvert_exporter": "python",
   "pygments_lexer": "ipython3",
   "version": "3.5.2"
  }
 },
 "nbformat": 4,
 "nbformat_minor": 1
}
