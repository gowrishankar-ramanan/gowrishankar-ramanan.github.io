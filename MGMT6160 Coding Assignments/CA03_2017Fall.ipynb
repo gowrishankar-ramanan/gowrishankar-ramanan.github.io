{
 "cells": [
  {
   "cell_type": "markdown",
   "metadata": {},
   "source": [
    "### Problem 1: Birthday problem (5 points)\n",
    "How many people do we need to have in a room to make it a favorable bet (probability of success greater than 1/2) that at least two people in the room will have the same birthday? Ignore leap year and assume that the probability of birthday falling on any of 365 days is equal.\n",
    "\n",
    "To answer the above question, please write a Python function \"same_bday_prob(i)\" in the cell below. The function takes an integer greater than 1 as input and returns the probability that at least two people have the same birthday."
   ]
  },
  {
   "cell_type": "code",
   "execution_count": 16,
   "metadata": {
    "collapsed": true
   },
   "outputs": [],
   "source": [
    "# If you wish, you may use the lambda function and the modules imported below \n",
    "\n",
    "from math import factorial\n",
    "from numpy import prod\n",
    "combin = lambda n, r : factorial(n)//factorial(r)//factorial(n-r)\n",
    "\n",
    "def same_bday_prob(i):\n",
    "    \n",
    "    # start your code below\n"
   ]
  },
  {
   "cell_type": "markdown",
   "metadata": {},
   "source": [
    "### Problem 2 (5 points)\n",
    "A travel bureau estimates that when 20 tourists go to a resort with ten hotels. Find the probability that no hotel is left vacant when the first group of 20 tourists arrives.\n",
    "\n",
    "To answer the above question, please write a Python function \"no_vacant_prob(n, r)\" in the cell below. The function takes two integers (n >= r) as input and returns the probability that no hotel is left vacant when the first group of n tourists arrives given r hotels."
   ]
  },
  {
   "cell_type": "code",
   "execution_count": 25,
   "metadata": {
    "collapsed": true
   },
   "outputs": [],
   "source": [
    "# You may use the lambda function combin defined earlier.\n",
    "\n",
    "def no_vacant_prob(n, r):\n",
    "    \n",
    "    # start your code below\n",
    "   "
   ]
  },
  {
   "cell_type": "markdown",
   "metadata": {},
   "source": [
    "### Problem 3 (9 points)\n",
    "\n",
    "The five most common words appearing in spam emails are shipping!, today!, here!, available, and fingertips! (Andy Greenberg, “The Most Common Words In Spam Email,” Forbes website, March 17, 2010). Many spam filters separate spam from ham (email not considered to be spam) through application of bayes’ theorem. \n",
    "\n",
    "Suppose that for one email account, 1 in every 10 messages is spam and the proportions of spam messages that have the five most common words in spam email are given below. \n",
    "\n",
    "|Word|Proportions of spam that have this word|\n",
    "|:-|:-:|\n",
    "|shipping!|.051|\n",
    "|today!|.045|\n",
    "|here!|.034|\n",
    "|available|.014|\n",
    "|fingertips!|.014|\n",
    "\n",
    "Also suppose that the proportions of ham messages that have these words are \n",
    "\n",
    "|Word|Proportions of ham that have this word|\n",
    "|:-|:-:|\n",
    "|shipping!|.0015|\n",
    "|today!|.0022|\n",
    "|here!|.0022|\n",
    "|available|.0041|\n",
    "|fingertips!|.0011|\n"
   ]
  },
  {
   "cell_type": "code",
   "execution_count": 1,
   "metadata": {
    "collapsed": false
   },
   "outputs": [],
   "source": [
    "# a. What is the probability that an email includes the word \"shipping!\"? (Total Probability; 1 point)\n",
    "\n"
   ]
  },
  {
   "cell_type": "code",
   "execution_count": 2,
   "metadata": {
    "collapsed": false
   },
   "outputs": [],
   "source": [
    "# b. If a message includes the word shipping!, what is the probability the message is spam? (1 point)\n",
    "# If a message includes the word shipping!, what is the probability the message is ham? (1 point)  \n",
    "\n"
   ]
  },
  {
   "cell_type": "code",
   "execution_count": 3,
   "metadata": {
    "collapsed": false
   },
   "outputs": [],
   "source": [
    "# c. What is the probability that an email includes the word \"today!\"? (1 point)\n",
    "# If a message includes the word today!, what is the probability the message is spam? (1 point)\n",
    "\n"
   ]
  },
  {
   "cell_type": "code",
   "execution_count": 4,
   "metadata": {
    "collapsed": false
   },
   "outputs": [],
   "source": [
    "# d. If an email containing \"shipping!\" is independent of this emal containing \"today\", \n",
    "# what is the probability that an email contains both \"shipping!\" and \"today\"? (2 points)\n",
    "\n"
   ]
  },
  {
   "cell_type": "markdown",
   "metadata": {},
   "source": [
    "### Problem 4 (Interview Question; 4 points)\n",
    "You have two coins, one of which is fair and comes up heads with a probability 1/2, and the other which is biased and comes up heads with probability 3/4. You randomly pick coin and flip it twice, and get heads both times. What is the probability that you picked the fair coin?"
   ]
  },
  {
   "cell_type": "code",
   "execution_count": null,
   "metadata": {
    "collapsed": true
   },
   "outputs": [],
   "source": []
  },
  {
   "cell_type": "markdown",
   "metadata": {
    "collapsed": true
   },
   "source": [
    "### Problem 5 (Interview Question; 4 points)\n",
    "You have a 0.1% chance of picking up a coin with both heads, and a 99.9% chance that you pick up a fair coin. You flip your coin and it comes up heads 10 times. What’s the chance that you picked up the fair coin, given the information that you observed?"
   ]
  },
  {
   "cell_type": "code",
   "execution_count": null,
   "metadata": {
    "collapsed": false
   },
   "outputs": [],
   "source": []
  },
  {
   "cell_type": "code",
   "execution_count": null,
   "metadata": {
    "collapsed": true
   },
   "outputs": [],
   "source": []
  }
 ],
 "metadata": {
  "anaconda-cloud": {},
  "kernelspec": {
   "display_name": "Python [default]",
   "language": "python",
   "name": "python3"
  },
  "language_info": {
   "codemirror_mode": {
    "name": "ipython",
    "version": 3
   },
   "file_extension": ".py",
   "mimetype": "text/x-python",
   "name": "python",
   "nbconvert_exporter": "python",
   "pygments_lexer": "ipython3",
   "version": "3.5.2"
  }
 },
 "nbformat": 4,
 "nbformat_minor": 1
}
