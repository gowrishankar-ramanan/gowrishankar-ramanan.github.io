{
 "cells": [
  {
   "cell_type": "code",
   "execution_count": 1,
   "metadata": {
    "collapsed": true
   },
   "outputs": [],
   "source": [
    "import pandas as pd\n",
    "from statsmodels.formula.api import ols\n",
    "from statsmodels.stats.anova import anova_lm\n",
    "from statistics import mean\n",
    "from scipy.stats import t"
   ]
  },
  {
   "cell_type": "markdown",
   "metadata": {},
   "source": [
    "### Problem 14-61, P666-667\n",
    "Jensen Tire & Auto is in the process of deciding whether to purchase a maintenance contract for its new computer wheel alignment and balancing machine. Managers feel that maintenance expense should be related to usage, and they collected the following information on weekly usage (hours) and annual maintenance expense (in hundreds of dollars).\n",
    "\n",
    "|Weekely Useage in Hours|Annual Maintenance Expense in Hundreds of Dollars|\n",
    "|:-:|:-:|\n",
    "|13|17.0|\n",
    "|10|22.0|\n",
    "|20|30.0|\n",
    "|28|37.0|\n",
    "|32|47.0|\n",
    "|17|30.5|\n",
    "|24|32.5|\n",
    "|31|39.0|\n",
    "|40|51.5|\n",
    "|38|40.0|\n"
   ]
  },
  {
   "cell_type": "code",
   "execution_count": 2,
   "metadata": {
    "collapsed": false
   },
   "outputs": [],
   "source": [
    "# a. Use ols module of statsmodels to fit the simple linear regression model \n",
    "# that related annual maintenance expense to weekely useage.\n",
    "# Generate the summary of the regression results. (2 points)\n",
    "\n",
    "\n"
   ]
  },
  {
   "cell_type": "markdown",
   "metadata": {},
   "source": [
    "##### b. Clearly specify the simple linear regression model that related annual maintenance expense to weekely useage. Provide a practical intepretation of the coefficient of weekly usage. (2 points)\n",
    "\n"
   ]
  },
  {
   "cell_type": "markdown",
   "metadata": {},
   "source": [
    "###### c. Provide a practical intepretation for the value of R-squared. (2 points)\n",
    "\n"
   ]
  },
  {
   "cell_type": "code",
   "execution_count": 3,
   "metadata": {
    "collapsed": false
   },
   "outputs": [],
   "source": [
    "# d. Generate the corresponding ANOVA result. (2 points)\n",
    "\n"
   ]
  },
  {
   "cell_type": "markdown",
   "metadata": {},
   "source": [
    "###### e. At the 5% level of significance, is there a significant relationship between the two variables? Why or why not? (2 points)\n",
    "\n"
   ]
  },
  {
   "cell_type": "code",
   "execution_count": 4,
   "metadata": {
    "collapsed": false
   },
   "outputs": [],
   "source": [
    "# f. Provide the point estimate of the annual maintenance expense if the company expects to use the machine 30 hours per week.\n",
    "# (2 points)\n",
    "\n"
   ]
  },
  {
   "cell_type": "code",
   "execution_count": 5,
   "metadata": {
    "collapsed": false
   },
   "outputs": [],
   "source": [
    "# g. Compute the standard error of estimate. \n",
    "# Compute the the estimate of the standard deviation for the prediction interval of the annual maintenance expense\n",
    "# given the company uses the machine 30 hours per week.\n",
    "# (3 points)\n",
    "\n"
   ]
  },
  {
   "cell_type": "code",
   "execution_count": 6,
   "metadata": {
    "collapsed": false
   },
   "outputs": [],
   "source": [
    "# h. Develop a 95% prediction interval for the company’s annual maintenance expense \n",
    "# if the company expects to use the machine 30 hours per week.\n",
    "# (3 points)\n",
    "\n"
   ]
  },
  {
   "cell_type": "markdown",
   "metadata": {
    "collapsed": true
   },
   "source": [
    "###### i. Please provide a practical interpretation of the prediction interval in question h. (2 points)\n",
    "\n"
   ]
  }
 ],
 "metadata": {
  "anaconda-cloud": {},
  "kernelspec": {
   "display_name": "Python [default]",
   "language": "python",
   "name": "python3"
  },
  "language_info": {
   "codemirror_mode": {
    "name": "ipython",
    "version": 3
   },
   "file_extension": ".py",
   "mimetype": "text/x-python",
   "name": "python",
   "nbconvert_exporter": "python",
   "pygments_lexer": "ipython3",
   "version": "3.5.2"
  }
 },
 "nbformat": 4,
 "nbformat_minor": 1
}
