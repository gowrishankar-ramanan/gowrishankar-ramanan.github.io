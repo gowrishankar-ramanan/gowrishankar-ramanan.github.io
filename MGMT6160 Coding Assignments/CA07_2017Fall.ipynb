{
 "cells": [
  {
   "cell_type": "code",
   "execution_count": 1,
   "metadata": {
    "collapsed": true
   },
   "outputs": [],
   "source": [
    "from scipy.stats import norm, t, chi2, f\n",
    "from statistics import stdev, variance, mean"
   ]
  },
  {
   "cell_type": "markdown",
   "metadata": {},
   "source": [
    "### Problem 1 (10-17, p459)\n",
    "Periodically, Merrill Lynch customers are asked to evaluate Merrill Lynch financial consultants and services. Higher ratings on the client satisfaction survey indicate better service, with 7 the maximum service rating. Independent samples of service ratings for two financial consultants are summarized here. Consultant A has 10 years of experience, whereas consultant B has 1 year of experience. Use $\\alpha$ = .05 and test to see whether the consultant with more experience has the higher population mean service rating.\n",
    "\n",
    "Consultant A: $n_1$ = 16, $\\overline{x}_1$ = 6.82, $s_1$ = 0.64\n",
    "\n",
    "Consultant B: $n_2$ = 10, $\\overline{x}_2$ = 6.25, $s_2$ = 0.75"
   ]
  },
  {
   "cell_type": "code",
   "execution_count": 2,
   "metadata": {
    "collapsed": true
   },
   "outputs": [],
   "source": [
    "# Please use the variables defined below for your computation and do NOT make any change.\n",
    "n1=16; x1bar = 6.82; s1 = 0.64; n2=10; x2bar = 6.25; s2=0.75; alpha = 0.05"
   ]
  },
  {
   "cell_type": "markdown",
   "metadata": {
    "collapsed": true
   },
   "source": [
    "##### 1-a: State the null and alternative hypotheses and clearly specify the type of the test (lower-tail, upper-tail, or two-tailed) in this markdown cell. (1 point)\n",
    "\n"
   ]
  },
  {
   "cell_type": "code",
   "execution_count": 3,
   "metadata": {
    "collapsed": false
   },
   "outputs": [],
   "source": [
    "# 1-b: Write a lambda function for computing standard error of the difference between to population means. \n",
    "# And then use this lambda function to compute the standard error and test statistic for this problem.\n",
    "# Print out both your standard error and test statistic. (1 point)\n",
    "\n"
   ]
  },
  {
   "cell_type": "code",
   "execution_count": 4,
   "metadata": {
    "collapsed": false
   },
   "outputs": [],
   "source": [
    "# 1-c: Write a lambda function for computing the degree of freedom.\n",
    "# Use this lambda function to compute the degree of freedom for this problem. \n",
    "# (1 point)\n",
    "\n"
   ]
  },
  {
   "cell_type": "code",
   "execution_count": 5,
   "metadata": {
    "collapsed": false
   },
   "outputs": [],
   "source": [
    "# 1-d: Compute the p-value and draw your conclusion. b\n",
    "# (2 points)\n",
    "\n"
   ]
  },
  {
   "cell_type": "markdown",
   "metadata": {
    "collapsed": true
   },
   "source": [
    "### Problem 2 (10-31, p470)\n",
    "Forbes reports that women trust recommendations from Pinterest more than recommendations from any other social network platform. But does trust in Pinterest differ by gender? The following sample data show the number of women and men who stated in a recent sample that they trust recommendations made on Pinterest.\n",
    "\n",
    "||Women|Men|\n",
    "|:-|:-:|:-:|\n",
    "|Sample|150|170|\n",
    "|Trust Recommendations Made on Pinterest|117|102|"
   ]
  },
  {
   "cell_type": "code",
   "execution_count": 6,
   "metadata": {
    "collapsed": false
   },
   "outputs": [],
   "source": [
    "# 2-a: What is the point estimate of the proportion of women who trust recommendations made on Pinterest?\n",
    "# What is the point estimate of the proportion of men who trust recommendations made on Pinterest? \n",
    "# (1 point)\n",
    "\n"
   ]
  },
  {
   "cell_type": "code",
   "execution_count": 7,
   "metadata": {
    "collapsed": false
   },
   "outputs": [],
   "source": [
    "# 2-b: Write a lambda function for computing se of confidence interval of the difference between to population proportions.\n",
    "# Use the lambda function to compute the standard error for confidence interval of the difference between to population proportions\n",
    "# (1 point)\n",
    "\n"
   ]
  },
  {
   "cell_type": "code",
   "execution_count": 8,
   "metadata": {
    "collapsed": false
   },
   "outputs": [],
   "source": [
    "# 2-c: Provide a 95% confidence interval estimate of the difference between the proportion of women and men \n",
    "# who trust recommendations made on Pinterest.\n",
    "# (1 point)\n",
    "\n"
   ]
  },
  {
   "cell_type": "code",
   "execution_count": 9,
   "metadata": {
    "collapsed": false
   },
   "outputs": [],
   "source": [
    "# 2-d: Write a lambda function for computing se for hypothesis testing of the difference between to population proportions.\n",
    "# Use the lambda function to compute the standard error for hypothesis testing of the difference between to population proportions\n",
    "# (1 point)\n",
    "\n"
   ]
  },
  {
   "cell_type": "code",
   "execution_count": 10,
   "metadata": {
    "collapsed": false
   },
   "outputs": [],
   "source": [
    "# 2-e: at 1% significance level, \n",
    "# test the hypothesis whether proportion of women trusting Pinterest recommendations is more than that of men.\n",
    "# Please clearly state your null and alternative hypotheses. \n",
    "# (2 points)\n",
    "\n"
   ]
  },
  {
   "cell_type": "markdown",
   "metadata": {},
   "source": [
    "### Problem 3 (11-7, p493)\n",
    "\n",
    "To analyze the risk, or volatility, associated with investing in general electric common stock, a sample of the eight quarterly percent total returns was identified as shown below. The percent total return includes the stock price change plus the dividend payment for the quarter. 20.0\t−20.5\t12.2\t12.6\t10.5\t−5.8\t−18.7\t15.3\n"
   ]
  },
  {
   "cell_type": "code",
   "execution_count": 11,
   "metadata": {
    "collapsed": false
   },
   "outputs": [],
   "source": [
    "# 3-a: what is the value of the sample mean? what is its interpretation?\n",
    "# (1 point)\n",
    "\n"
   ]
  },
  {
   "cell_type": "code",
   "execution_count": 12,
   "metadata": {
    "collapsed": false
   },
   "outputs": [],
   "source": [
    "# 3-b: compute the sample variance and sample standard deviation for the quarterly return for general electric.\n",
    "# (1 point)\n",
    "\n"
   ]
  },
  {
   "cell_type": "code",
   "execution_count": 13,
   "metadata": {
    "collapsed": false
   },
   "outputs": [],
   "source": [
    "# 3-c: Construct a 95% confidence interval for the population variance.\n",
    "# (2 points)\n",
    "\n"
   ]
  },
  {
   "cell_type": "code",
   "execution_count": 14,
   "metadata": {
    "collapsed": false
   },
   "outputs": [],
   "source": [
    "# 3-d: Construct a 95% confidence interval for the population standard deviation.\n",
    "# (1 point)\n",
    "\n"
   ]
  },
  {
   "cell_type": "markdown",
   "metadata": {
    "collapsed": true
   },
   "source": [
    "### Problem 4 (11-19, p501)\n",
    "\n",
    "The variance in a production process is an important measure of the quality of the process. a large variance often signals an opportunity for improvement in the process by finding ways to reduce the process variance. Conduct a statistical test to determine whether there is a significant difference between the variances in the bag weights for two machines. use a .05 level of significance. \n",
    "\n",
    "\n",
    "Machine 1 \n",
    "2.95, 3.45, 3.50, 3.75, 3.48, 3.26, 3.33, 3.20, 3.16, 3.20, 3.22, 3.38, 3.90, 3.36, 3.25, 3.28, 3.20, 3.22, 2.98, 3.45, 3.70, 3.34, 3.18, 3.35, 3.12 \n",
    "\n",
    "Machine 2\n",
    "3.22, 3.30, 3.34, 3.28, 3.29, 3.25, 3.30, 3.27, 3.38, 3.34, 3.35, 3.19, 3.35, 3.05, 3.36, 3.28, 3.30, 3.28, 3.30, 3.20, 3.16, 3.33\n",
    "\n",
    "what is your conclusion? which machine, if either, provides the greater opportunity for qualit"
   ]
  },
  {
   "cell_type": "markdown",
   "metadata": {
    "collapsed": true
   },
   "source": [
    "##### 4-a: Please clearly state your hypotheses. (1 point)\n",
    "\n"
   ]
  },
  {
   "cell_type": "code",
   "execution_count": 15,
   "metadata": {
    "collapsed": false
   },
   "outputs": [],
   "source": [
    "# 4-b: Compute the test statistic.\n",
    "# (1 point)\n",
    "\n"
   ]
  },
  {
   "cell_type": "code",
   "execution_count": 16,
   "metadata": {
    "collapsed": false
   },
   "outputs": [],
   "source": [
    "# 4-c: Compute the p-value and draw your conclusion.\n",
    "# (2 points)\n",
    "\n"
   ]
  },
  {
   "cell_type": "code",
   "execution_count": null,
   "metadata": {
    "collapsed": true
   },
   "outputs": [],
   "source": []
  },
  {
   "cell_type": "code",
   "execution_count": null,
   "metadata": {
    "collapsed": true
   },
   "outputs": [],
   "source": []
  }
 ],
 "metadata": {
  "anaconda-cloud": {},
  "kernelspec": {
   "display_name": "Python [default]",
   "language": "python",
   "name": "python3"
  },
  "language_info": {
   "codemirror_mode": {
    "name": "ipython",
    "version": 3
   },
   "file_extension": ".py",
   "mimetype": "text/x-python",
   "name": "python",
   "nbconvert_exporter": "python",
   "pygments_lexer": "ipython3",
   "version": "3.5.2"
  }
 },
 "nbformat": 4,
 "nbformat_minor": 1
}
