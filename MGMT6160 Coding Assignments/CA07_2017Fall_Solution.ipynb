{
 "cells": [
  {
   "cell_type": "code",
   "execution_count": 26,
   "metadata": {
    "collapsed": true
   },
   "outputs": [],
   "source": [
    "from scipy.stats import norm, t, chi2, f\n",
    "from statistics import stdev, variance, mean"
   ]
  },
  {
   "cell_type": "markdown",
   "metadata": {},
   "source": [
    "### Problem 1 (10-17, p459)\n",
    "Periodically, Merrill Lynch customers are asked to evaluate Merrill Lynch financial consultants and services. Higher ratings on the client satisfaction survey indicate better service, with 7 the maximum service rating. Independent samples of service ratings for two financial consultants are summarized here. Consultant A has 10 years of experience, whereas consultant B has 1 year of experience. Use $\\alpha$ = .05 and test to see whether the consultant with more experience has the higher population mean service rating.\n",
    "\n",
    "Consultant A: $n_1$ = 16, $\\overline{x}_1$ = 6.82, $s_1$ = 0.64\n",
    "\n",
    "Consultant B: $n_2$ = 10, $\\overline{x}_2$ = 6.25, $s_2$ = 0.75"
   ]
  },
  {
   "cell_type": "code",
   "execution_count": 27,
   "metadata": {
    "collapsed": true
   },
   "outputs": [],
   "source": [
    "# Please use the variables defined below for your computation and do NOT make any change.\n",
    "n1=16; x1bar = 6.82; s1 = 0.64; n2=10; x2bar = 6.25; s2=0.75; alpha = 0.05"
   ]
  },
  {
   "cell_type": "markdown",
   "metadata": {
    "collapsed": true
   },
   "source": [
    "##### 1-a: State the null and alternative hypotheses and clearly specify the type of the test (lower-tail, upper-tail, or two-tailed) in this markdown cell. (1 point)\n",
    "$H_0: \\mu_A - \\mu_B \\leq 0$\n",
    "\n",
    "$H_a: \\mu_A - \\mu_B > 0$\n",
    "\n",
    "This is an upper-tail test."
   ]
  },
  {
   "cell_type": "code",
   "execution_count": 28,
   "metadata": {
    "collapsed": false
   },
   "outputs": [
    {
     "name": "stdout",
     "output_type": "stream",
     "text": [
      "0.28609439001839937 1.9923494478984447\n"
     ]
    }
   ],
   "source": [
    "# 1-b: Write a lambda function for computing standard error of the difference between to population means. \n",
    "# And then use this lambda function to compute the standard error and test statistic for this problem.\n",
    "# Print out both your standard error and test statistic. (1 point)\n",
    "\n",
    "se_mean_diff = lambda s1, s2, n1, n2: pow(s1**2/n1+s2**2/n2, 0.5)\n",
    "\n",
    "se = se_mean_diff(s1, s2, n1, n2)\n",
    "t_val = (x1bar -x2bar)/se\n",
    "print(se, t_val)"
   ]
  },
  {
   "cell_type": "code",
   "execution_count": 29,
   "metadata": {
    "collapsed": false
   },
   "outputs": [
    {
     "name": "stdout",
     "output_type": "stream",
     "text": [
      "16.949699749401127\n"
     ]
    }
   ],
   "source": [
    "# 1-c: Write a lambda function for computing the degree of freedom.\n",
    "# Use this lambda function to compute the degree of freedom for this problem. (1 point)\n",
    "\n",
    "df_mean_diff = lambda s1, s2, n1, n2: se_mean_diff(s1, s2, n1, n2)**4/(s1**4/n1**2/(n1-1)+s2**4/n2**2/(n2-1))\n",
    "df = df_mean_diff(s1, s2, n1, n2)\n",
    "print(df)"
   ]
  },
  {
   "cell_type": "code",
   "execution_count": 30,
   "metadata": {
    "collapsed": false
   },
   "outputs": [
    {
     "name": "stdout",
     "output_type": "stream",
     "text": [
      "0.0313459031732\n",
      "Reject H0 because p value is less than alpha.\n"
     ]
    }
   ],
   "source": [
    "# 1-d: Compute the p-value and draw your conclusion. (2 points)\n",
    "\n",
    "p_val = 1 - t.cdf(t_val, df)\n",
    "print(p_val)\n",
    "print('Reject H0 because p value is less than alpha.')"
   ]
  },
  {
   "cell_type": "markdown",
   "metadata": {
    "collapsed": true
   },
   "source": [
    "### Problem 2 (10-31, p470)\n",
    "Forbes reports that women trust recommendations from Pinterest more than recommendations from any other social network platform. But does trust in Pinterest differ by gender? The following sample data show the number of women and men who stated in a recent sample that they trust recommendations made on Pinterest.\n",
    "\n",
    "||Women|Men|\n",
    "|:-|:-:|:-:|\n",
    "|Sample|150|170|\n",
    "|Trust Recommendations Made on Pinterest|117|102|"
   ]
  },
  {
   "cell_type": "code",
   "execution_count": 31,
   "metadata": {
    "collapsed": false
   },
   "outputs": [
    {
     "name": "stdout",
     "output_type": "stream",
     "text": [
      "0.78 0.6\n"
     ]
    }
   ],
   "source": [
    "# 2-a: What is the point estimate of the proportion of women who trust recommendations made on Pinterest?\n",
    "# What is the point estimate of the proportion of men who trust recommendations made on Pinterest? \n",
    "# (1 point)\n",
    "\n",
    "n1 = 150; p1bar = 117/n1; n2 = 170; p2bar = 102/n2\n",
    "print(p1bar, p2bar)"
   ]
  },
  {
   "cell_type": "code",
   "execution_count": 32,
   "metadata": {
    "collapsed": false
   },
   "outputs": [
    {
     "name": "stdout",
     "output_type": "stream",
     "text": [
      "0.05055457156264261\n"
     ]
    }
   ],
   "source": [
    "# 2-b: Write a lambda function for computing se of confidence interval of the difference between to population proportions.\n",
    "# Use the lambda function to compute the standard error for confidence interval of the difference between to population proportions\n",
    "# (1 point)\n",
    "\n",
    "se_p_diff_ci = lambda p1, p2, n1, n2: pow(p1*(1-p1)/n1 + p2*(1-p2)/n2, 0.5)\n",
    "se = se_p_diff_ci(p1bar, p2bar, n1, n2)\n",
    "print(se)"
   ]
  },
  {
   "cell_type": "code",
   "execution_count": 33,
   "metadata": {
    "collapsed": false
   },
   "outputs": [
    {
     "name": "stdout",
     "output_type": "stream",
     "text": [
      "95% confidence interval is [0.08091486048336773, 0.2790851395166324]\n"
     ]
    }
   ],
   "source": [
    "# 2-c: Provide a 95% confidence interval estimate of the difference between the proportion of women and men \n",
    "# who trust recommendations made on Pinterest.\n",
    "# (1 point)\n",
    "\n",
    "CL = 0.95\n",
    "z_val = norm.ppf(0.5+CL/2)\n",
    "print('95% confidence interval is [{0}, {1}]'.format(p1bar-p2bar-z_val*se, p1bar-p2bar+z_val*se))"
   ]
  },
  {
   "cell_type": "code",
   "execution_count": 34,
   "metadata": {
    "collapsed": false
   },
   "outputs": [
    {
     "name": "stdout",
     "output_type": "stream",
     "text": [
      "0.052064016025522686\n"
     ]
    }
   ],
   "source": [
    "# 2-d: Write a lambda function for computing se for hypothesis testing of the difference between to population proportions.\n",
    "# Use the lambda function to compute the standard error for hypothesis testing of the difference between to population proportions\n",
    "# (1 point)\n",
    "pbar = lambda p1, p2, n1, n2: (n1*p1 + n2*p2)/(n1 + n2)\n",
    "se_p_diff_ht = lambda p1, p2, n1, n2: pow(pbar(p1, p2, n1, n2)*(1-pbar(p1, p2, n1, n2))*(1/n1 + 1/n2), 0.5)\n",
    "\n",
    "se = se_p_diff_ht(p1bar, p2bar, n1, n2)\n",
    "print(se)"
   ]
  },
  {
   "cell_type": "code",
   "execution_count": 35,
   "metadata": {
    "collapsed": false
   },
   "outputs": [
    {
     "name": "stdout",
     "output_type": "stream",
     "text": [
      "0.000272826478886\n",
      "Reject H0 because p value is less than alpha. Women indeed trust Pinterest recommendations than men.\n"
     ]
    }
   ],
   "source": [
    "# 2-e: at 1% significance level, \n",
    "# test the hypothesis whether proportion of women trusting Pinterest recommendations is more than that of men.\n",
    "# Please clearly state your null and alternative hypotheses. (2 points)\n",
    "\n",
    "# H0: p1 - p2 <=0; Ha: p1 - p2 > 0.\n",
    "z_val = (p1bar - p2bar)/se\n",
    "p_val = 1 - norm.cdf(z_val)\n",
    "print(p_val)\n",
    "print('Reject H0 because p value is less than alpha. Women indeed trust Pinterest recommendations than men.')"
   ]
  },
  {
   "cell_type": "markdown",
   "metadata": {},
   "source": [
    "### Problem 3 (11-7, p493)\n",
    "\n",
    "To analyze the risk, or volatility, associated with investing in general electric common stock, a sample of the eight quarterly percent total returns was identified as shown below. The percent total return includes the stock price change plus the dividend payment for the quarter. 20.0\t−20.5\t12.2\t12.6\t10.5\t−5.8\t−18.7\t15.3\n"
   ]
  },
  {
   "cell_type": "code",
   "execution_count": 36,
   "metadata": {
    "collapsed": false
   },
   "outputs": [
    {
     "name": "stdout",
     "output_type": "stream",
     "text": [
      "3.2 is the estimate of the population mean percent total return per quarter for GE.\n"
     ]
    }
   ],
   "source": [
    "# 3-a: what is the value of the sample mean? what is its interpretation?\n",
    "# (1 point)\n",
    "sample = [20.0, -20.5, 12.2, 12.6, 10.5, -5.8, -18.7, 15.3]\n",
    "\n",
    "# import numpy as np\n",
    "# xbar = np.mean(sample)\n",
    "\n",
    "xbar = mean(sample)\n",
    "print(xbar, 'is the estimate of the population mean percent total return per quarter for GE.')"
   ]
  },
  {
   "cell_type": "code",
   "execution_count": 37,
   "metadata": {
    "collapsed": false
   },
   "outputs": [
    {
     "name": "stdout",
     "output_type": "stream",
     "text": [
      "The sample variance and the sample standard deviation are 253.37142857142854 15.917645195550394\n"
     ]
    }
   ],
   "source": [
    "# 3-b: compute the sample variance and sample standard deviation for the quarterly return for general electric.\n",
    "# (1 point)\n",
    "\n",
    "# s = np.std(sample, ddof = 1)\n",
    "\n",
    "s = stdev(sample)\n",
    "print('The sample variance and the sample standard deviation are', s**2, s)"
   ]
  },
  {
   "cell_type": "code",
   "execution_count": 38,
   "metadata": {
    "collapsed": false
   },
   "outputs": [
    {
     "name": "stdout",
     "output_type": "stream",
     "text": [
      "95% confidence interval for the population variance is [110.7616380021342, 1049.5486989644269]\n"
     ]
    }
   ],
   "source": [
    "# 3-c: Construct a 95% confidence interval for the population variance.\n",
    "# (2 points)\n",
    "\n",
    "CL = 0.95; n = len(sample); \n",
    "k1 = chi2.ppf((1-CL)/2, n-1); k2 = chi2.ppf((1+CL)/2, n-1)\n",
    "\n",
    "print('95% confidence interval for the population variance is [{0}, {1}]'.format((n-1)*s**2/k2, (n-1)*s**2/k1))"
   ]
  },
  {
   "cell_type": "code",
   "execution_count": 39,
   "metadata": {
    "collapsed": false
   },
   "outputs": [
    {
     "name": "stdout",
     "output_type": "stream",
     "text": [
      "95% CI for the population standard deviation is [10.524335513567316, 32.396739017444744]\n"
     ]
    }
   ],
   "source": [
    "# 3-d: Construct a 95% confidence interval for the population standard deviation.\n",
    "# (1 point)\n",
    "\n",
    "print('95% CI for the population standard deviation is [{0}, {1}]'.format(pow((n-1)*s**2/k2, 0.5), pow((n-1)*s**2/k1, 0.5)))"
   ]
  },
  {
   "cell_type": "markdown",
   "metadata": {
    "collapsed": true
   },
   "source": [
    "### Problem 4 (11-19, p501)\n",
    "\n",
    "The variance in a production process is an important measure of the quality of the process. a large variance often signals an opportunity for improvement in the process by finding ways to reduce the process variance. Conduct a statistical test to determine whether there is a significant difference between the variances in the bag weights for two machines. use a .05 level of significance. \n",
    "\n",
    "\n",
    "Machine 1 \n",
    "2.95, 3.45, 3.50, 3.75, 3.48, 3.26, 3.33, 3.20, 3.16, 3.20, 3.22, 3.38, 3.90, 3.36, 3.25, 3.28, 3.20, 3.22, 2.98, 3.45, 3.70, 3.34, 3.18, 3.35, 3.12 \n",
    "\n",
    "Machine 2\n",
    "3.22, 3.30, 3.34, 3.28, 3.29, 3.25, 3.30, 3.27, 3.38, 3.34, 3.35, 3.19, 3.35, 3.05, 3.36, 3.28, 3.30, 3.28, 3.30, 3.20, 3.16, 3.33\n",
    "\n",
    "what is your conclusion? which machine, if either, provides the greater opportunity for qualit"
   ]
  },
  {
   "cell_type": "markdown",
   "metadata": {
    "collapsed": true
   },
   "source": [
    "##### 4-a: Please clearly state your hypotheses. (1 point)\n",
    "\n",
    "$H_0: \\sigma_1^2 = \\sigma_2^2$\n",
    "\n",
    "$H_a: \\sigma_1^2 \\neq \\sigma_2^2$"
   ]
  },
  {
   "cell_type": "code",
   "execution_count": 40,
   "metadata": {
    "collapsed": false
   },
   "outputs": [
    {
     "name": "stdout",
     "output_type": "stream",
     "text": [
      "0.04888899999999999 0.005901298701298698\n",
      "8.284447623239439\n"
     ]
    }
   ],
   "source": [
    "# 4-b: Compute the test statistic.\n",
    "# (1 point)\n",
    "\n",
    "m1 = (2.95, 3.45, 3.50, 3.75, 3.48, 3.26, 3.33, 3.20, 3.16, 3.20, 3.22, 3.38, 3.90,\\\n",
    "      3.36, 3.25, 3.28, 3.20, 3.22, 2.98, 3.45, 3.70, 3.34, 3.18, 3.35, 3.12)\n",
    "m2 = (3.22, 3.30, 3.34, 3.28, 3.29, 3.25, 3.30, 3.27, 3.38, 3.34, 3.35, 3.19, 3.35,\\\n",
    "      3.05, 3.36, 3.28, 3.30, 3.28, 3.30, 3.20, 3.16, 3.33)\n",
    "\n",
    "print(variance(m1), variance(m2))\n",
    "F_val = variance(m1)/variance(m2)\n",
    "print(F_val)"
   ]
  },
  {
   "cell_type": "code",
   "execution_count": 41,
   "metadata": {
    "collapsed": false
   },
   "outputs": [
    {
     "name": "stdout",
     "output_type": "stream",
     "text": [
      "7.22157966582e-06 is less than the significance level and thus reject H0.\n"
     ]
    }
   ],
   "source": [
    "# 4-c: Compute the p-value and draw your conclusion.\n",
    "# (2 points)\n",
    "\n",
    "p_val = 2 * (1 - f.cdf(F_val, len(m1)-1, len(m2)-1))\n",
    "print(p_val, 'is less than the significance level and thus reject H0.')"
   ]
  },
  {
   "cell_type": "code",
   "execution_count": null,
   "metadata": {
    "collapsed": true
   },
   "outputs": [],
   "source": []
  },
  {
   "cell_type": "code",
   "execution_count": null,
   "metadata": {
    "collapsed": true
   },
   "outputs": [],
   "source": []
  }
 ],
 "metadata": {
  "anaconda-cloud": {},
  "kernelspec": {
   "display_name": "Python [default]",
   "language": "python",
   "name": "python3"
  },
  "language_info": {
   "codemirror_mode": {
    "name": "ipython",
    "version": 3
   },
   "file_extension": ".py",
   "mimetype": "text/x-python",
   "name": "python",
   "nbconvert_exporter": "python",
   "pygments_lexer": "ipython3",
   "version": "3.5.2"
  }
 },
 "nbformat": 4,
 "nbformat_minor": 1
}
