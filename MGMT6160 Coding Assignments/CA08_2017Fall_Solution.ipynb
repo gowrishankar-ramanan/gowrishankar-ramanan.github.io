{
 "cells": [
  {
   "cell_type": "code",
   "execution_count": 1,
   "metadata": {
    "collapsed": true
   },
   "outputs": [],
   "source": [
    "from scipy.stats import norm, chi2, f\n",
    "import statsmodels.api as sm\n",
    "from statsmodels.formula.api import ols\n",
    "import pandas as pd"
   ]
  },
  {
   "cell_type": "markdown",
   "metadata": {},
   "source": [
    "### Problem 12-7, Page518.\n",
    "Social networking is becoming more and more popular around the world. Pew research Center used a survey of adults in several countries to determine the percentage of adults who use social networking sites. assume that the results for surveys in great britain, israel, russia, and united States are as follows.\n",
    "\n",
    "\n",
    "|Use Social Media| Great Britain |Israel|Russia|USA|\n",
    "|:--|:--:|:--:|:--:|:--:|\n",
    "|Yes|344|265|301|500|\n",
    "|No|456|235|399|500|\n",
    "\n",
    "a. Conduct a hypothesis test to determine whether the proportion of adults using social networking sites is equal for all four countries. What is the p-value? using a .05 level of significance, what is your conclusion? (3 points)\n",
    "\n",
    "b. What are the sample proportions for each of the four countries? Using a .05 level of significance, conduct multiple pairwise comparison tests among the four countries. What is your conclusion? (2 points)"
   ]
  },
  {
   "cell_type": "code",
   "execution_count": 2,
   "metadata": {
    "collapsed": false
   },
   "outputs": [
    {
     "name": "stdout",
     "output_type": "stream",
     "text": [
      "1410 1590 800 500 700 1000 3000\n"
     ]
    }
   ],
   "source": [
    "# a. H0: All population proportions are equal; Ha: not all are equal.\n",
    "\n",
    "data = [344, 265, 301, 500, 456, 235, 399, 500]\n",
    "Yes = 344+265+301+500\n",
    "No = 456+235+399+500\n",
    "GB = 344+456\n",
    "ISR = 265+235\n",
    "RUS = 301+399\n",
    "USA = 500+500\n",
    "Total = Yes+No\n",
    "print(Yes, No, GB, ISR, RUS, USA, Total)"
   ]
  },
  {
   "cell_type": "code",
   "execution_count": 3,
   "metadata": {
    "collapsed": false
   },
   "outputs": [
    {
     "name": "stdout",
     "output_type": "stream",
     "text": [
      "[376.0, 235.0, 329.0, 470.0, 424.0, 265.0, 371.0, 530.0]\n"
     ]
    }
   ],
   "source": [
    "expected = [Yes*GB/Total, Yes*ISR/Total, Yes*RUS/Total, Yes*USA/Total, No*GB/Total, No*ISR/Total, No*RUS/Total, No*USA/Total]\n",
    "print(expected)"
   ]
  },
  {
   "cell_type": "code",
   "execution_count": 4,
   "metadata": {
    "collapsed": false
   },
   "outputs": [
    {
     "name": "stdout",
     "output_type": "stream",
     "text": [
      "20.473705339221198\n"
     ]
    }
   ],
   "source": [
    "chi_square = sum((x-y)**2/y for x, y in zip(data, expected))\n",
    "print(chi_square)"
   ]
  },
  {
   "cell_type": "code",
   "execution_count": 5,
   "metadata": {
    "collapsed": false
   },
   "outputs": [
    {
     "name": "stdout",
     "output_type": "stream",
     "text": [
      "0.000135384658871\n"
     ]
    }
   ],
   "source": [
    "p_value = 1-chi2.cdf(chi_square, 3)\n",
    "print(p_value)"
   ]
  },
  {
   "cell_type": "code",
   "execution_count": 6,
   "metadata": {
    "collapsed": false
   },
   "outputs": [
    {
     "name": "stdout",
     "output_type": "stream",
     "text": [
      "7.81472790325\n"
     ]
    }
   ],
   "source": [
    "crit = chi2.ppf(1-0.05, 3)\n",
    "print(crit)"
   ]
  },
  {
   "cell_type": "code",
   "execution_count": 7,
   "metadata": {
    "collapsed": false
   },
   "outputs": [
    {
     "name": "stdout",
     "output_type": "stream",
     "text": [
      "[0.43, 0.53, 0.43, 0.5]\n"
     ]
    }
   ],
   "source": [
    "# b. What are the sample proportions for each of the four countries? \n",
    "\n",
    "pbar = [344/GB, 265/ISR, 301/RUS, 500/USA]\n",
    "print(pbar)"
   ]
  },
  {
   "cell_type": "code",
   "execution_count": 8,
   "metadata": {
    "collapsed": false
   },
   "outputs": [
    {
     "name": "stdout",
     "output_type": "stream",
     "text": [
      "[0.10000000000000003, 0.0, 0.07, 0.10000000000000003, 0.030000000000000027, 0.07]\n"
     ]
    }
   ],
   "source": [
    "# c. using a .05 level of significance, conduct multiple pairwise comparison tests among the four countries.\n",
    "PD = [abs(pbar[0]-pbar[1]), abs(pbar[0]-pbar[2]), abs(pbar[0]-pbar[3]), abs(pbar[1]-pbar[2]), \\\n",
    "      abs(pbar[1]-pbar[3]), abs(pbar[2]-pbar[3])]\n",
    "print(PD)"
   ]
  },
  {
   "cell_type": "code",
   "execution_count": 9,
   "metadata": {
    "collapsed": false
   },
   "outputs": [
    {
     "name": "stdout",
     "output_type": "stream",
     "text": [
      "2.79548348292\n"
     ]
    }
   ],
   "source": [
    "k = crit**0.5\n",
    "print(k)"
   ]
  },
  {
   "cell_type": "code",
   "execution_count": 10,
   "metadata": {
    "collapsed": false
   },
   "outputs": [
    {
     "name": "stdout",
     "output_type": "stream",
     "text": [
      "[0.079293976459491017, 0.071627567438779849, 0.065938753682272255, 0.081422162813561474, 0.076465543986899948, 0.068483232485413326]\n"
     ]
    }
   ],
   "source": [
    "CV = [k*pow(pbar[0]*(1-pbar[0])/GB+pbar[1]*(1-pbar[1])/ISR, 0.5), \\\n",
    "     k*pow(pbar[0]*(1-pbar[0])/GB+pbar[2]*(1-pbar[2])/RUS, 0.5), \\\n",
    "     k*pow(pbar[0]*(1-pbar[0])/GB+pbar[3]*(1-pbar[3])/USA, 0.5), \\\n",
    "     k*pow(pbar[1]*(1-pbar[1])/ISR+pbar[2]*(1-pbar[2])/RUS, 0.5), \\\n",
    "     k*pow(pbar[1]*(1-pbar[1])/ISR+pbar[3]*(1-pbar[3])/USA, 0.5), \\\n",
    "     k*pow(pbar[2]*(1-pbar[2])/RUS+pbar[3]*(1-pbar[3])/USA, 0.5)]\n",
    "print(CV)"
   ]
  },
  {
   "cell_type": "markdown",
   "metadata": {},
   "source": [
    "### The following pairs of population proportions are significantly different at alpha = 0.05\n",
    "GB vs ISR\n",
    "GB vs USA\n",
    "ISR vs RUS\n",
    "RUS vs USA"
   ]
  },
  {
   "cell_type": "markdown",
   "metadata": {},
   "source": [
    "### Problem 12-11, page 524\n",
    "\n",
    "a Bloomberg Businessweek subscriber study asked, “in the past 12 months, when traveling for business, what type of airline ticket did you purchase most often?” a second question asked if the type of airline ticket purchased most often was for domestic or international travel. Sample data obtained are shown in the following table.\n",
    "\n",
    "|Type of Ticket| Domestic Flight |International Flight|\n",
    "|:--|:--:|:--:|\n",
    "|First class|29|22|\n",
    "|Business class|95|121|\n",
    "|Economy class|518|135|\n",
    "\n",
    "a.\tusing a .05 level of significance, is the type of ticket purchased independent of the type of flight? Compute the test statistic, the critical value of test statistic, and the p value. (3 points)\n",
    "\n",
    "b.\tWhat is your conclusion? Discuss any dependence that exists between the type of ticket and type of flight. (2 points)"
   ]
  },
  {
   "cell_type": "code",
   "execution_count": 11,
   "metadata": {
    "collapsed": false
   },
   "outputs": [
    {
     "name": "stdout",
     "output_type": "stream",
     "text": [
      "51 216 653 642 278 920\n"
     ]
    }
   ],
   "source": [
    "# a \n",
    "\n",
    "FC = 29+22; BC = 95+121; EC = 518+135; DF = 29+95+518; IF = 22+121+135; Total = DF+IF\n",
    "print(FC, BC, EC, DF, IF, Total)"
   ]
  },
  {
   "cell_type": "code",
   "execution_count": 12,
   "metadata": {
    "collapsed": false
   },
   "outputs": [
    {
     "name": "stdout",
     "output_type": "stream",
     "text": [
      "[35.58913043478261, 15.410869565217391, 150.73043478260868, 65.2695652173913, 455.6804347826087, 197.3195652173913]\n"
     ]
    }
   ],
   "source": [
    "observed = [29, 22, 95, 121, 518, 135]\n",
    "expected = [FC*DF/Total, FC*IF/Total, BC*DF/Total, BC*IF/Total, EC*DF/Total, EC*IF/Total]\n",
    "\n",
    "print(expected)"
   ]
  },
  {
   "cell_type": "code",
   "execution_count": 13,
   "metadata": {
    "collapsed": false
   },
   "outputs": [
    {
     "name": "stdout",
     "output_type": "stream",
     "text": [
      "100.43354552413346\n"
     ]
    }
   ],
   "source": [
    "chi_square = sum([(x-y)**2/y for (x, y) in zip(observed, expected)])\n",
    "print(chi_square)"
   ]
  },
  {
   "cell_type": "code",
   "execution_count": 14,
   "metadata": {
    "collapsed": false
   },
   "outputs": [
    {
     "name": "stdout",
     "output_type": "stream",
     "text": [
      "5.99146454711\n"
     ]
    }
   ],
   "source": [
    "crit = chi2.ppf(1-0.05, 2)\n",
    "print(crit)"
   ]
  },
  {
   "cell_type": "code",
   "execution_count": 15,
   "metadata": {
    "collapsed": false
   },
   "outputs": [
    {
     "name": "stdout",
     "output_type": "stream",
     "text": [
      "0.0\n"
     ]
    }
   ],
   "source": [
    "p_value = 1-chi2.cdf(chi_square, 2)\n",
    "print(p_value)"
   ]
  },
  {
   "cell_type": "markdown",
   "metadata": {},
   "source": [
    "### Problem 12-23, page 535\n",
    "\n",
    "the Wall Street Journal’s Shareholder Scoreboard tracks the performance of 1000 major U.S. companies. The performance of each company is rated based on the annual total return, including stock price changes and the reinvestment of dividends. ratings are assigned by dividing all 1000 companies into five groups from a (top 20%), b (next 20%), to e (bottom 20%). Shown here are the one-year ratings for a sample of 60 of the largest companies. Do the largest companies differ in performance from the performance of the 1000 companies in the Shareholder Scoreboard? use a = .05.\n",
    "\n",
    "|A|B|C|D|E|\n",
    "|:-|-|-|-|-|\n",
    "|5|8|15|20|12|\n",
    "\n",
    "a. Clearly state your hypotheses. (1 point)\n",
    "b. Compute the test statistic, the critical value of test statistic, and the p value given alpha = 0.05. (1 point)\n",
    "c. Draw your conclusion and provide a practical interpretation. (1 point)"
   ]
  },
  {
   "cell_type": "code",
   "execution_count": 16,
   "metadata": {
    "collapsed": false
   },
   "outputs": [
    {
     "name": "stdout",
     "output_type": "stream",
     "text": [
      "[12.0, 12.0, 12.0, 12.0, 12.0]\n"
     ]
    }
   ],
   "source": [
    "observed = [5, 8, 15, 20, 12]\n",
    "total = sum(observed)\n",
    "expected = [total*0.2, total*0.2, total*0.2, total*0.2, total*0.2]\n",
    "\n",
    "print(expected)"
   ]
  },
  {
   "cell_type": "code",
   "execution_count": 17,
   "metadata": {
    "collapsed": false
   },
   "outputs": [
    {
     "name": "stdout",
     "output_type": "stream",
     "text": [
      "11.5\n"
     ]
    }
   ],
   "source": [
    "chi_square = sum([(x-y)**2/y for (x, y) in zip(observed, expected)])\n",
    "print(chi_square)"
   ]
  },
  {
   "cell_type": "code",
   "execution_count": 18,
   "metadata": {
    "collapsed": false
   },
   "outputs": [
    {
     "name": "stdout",
     "output_type": "stream",
     "text": [
      "9.48772903678\n"
     ]
    }
   ],
   "source": [
    "crit_chi_square = chi2.ppf(1-0.05, 4)\n",
    "print(crit_chi_square)"
   ]
  },
  {
   "cell_type": "code",
   "execution_count": 19,
   "metadata": {
    "collapsed": false
   },
   "outputs": [
    {
     "name": "stdout",
     "output_type": "stream",
     "text": [
      "0.0214837703764\n"
     ]
    }
   ],
   "source": [
    "p_value = 1 - chi2.cdf(chi_square, 4)\n",
    "print(p_value)"
   ]
  },
  {
   "cell_type": "markdown",
   "metadata": {},
   "source": [
    "### Problem 13-9, page 561\n",
    "\n",
    "To study the effect of temperature on yield in a chemical process, five batches were produced at each of three temperature levels. The results follow. Construct an analysis of variance table. Use a .05 level of significance to test whether the temperature level has an effect on the mean yield of the process.\n",
    "\n",
    "|50C|60C|70C|\n",
    "|:-:|:-:|:-:|\n",
    "|34|30|23|\n",
    "|24|31|28|\n",
    "|36|34|28|\n",
    "|39|23|30|\n",
    "|32|27|31|\n",
    "\n",
    "a. Clearly state your hypotheses. (1 point) \n",
    "\n",
    "b. Use statsmodels to generate the ANOVA table. (3 points)\n",
    "\n",
    "c. Draw your conclusion and provide its practical interpretation. (1 point)"
   ]
  },
  {
   "cell_type": "code",
   "execution_count": 20,
   "metadata": {
    "collapsed": true
   },
   "outputs": [],
   "source": [
    "# a\n",
    "\n",
    "# H0: All three population means are equal. (Temperature has no effect on yield.)\n",
    "# Ha: At least one population means are not equal. (Temperature has some effect on yield.)"
   ]
  },
  {
   "cell_type": "code",
   "execution_count": 33,
   "metadata": {
    "collapsed": false
   },
   "outputs": [
    {
     "name": "stdout",
     "output_type": "stream",
     "text": [
      "          sum_sq    df         F    PR(>F)\n",
      "temp        70.0   2.0  1.779661  0.210447\n",
      "Residual   236.0  12.0       NaN       NaN\n"
     ]
    }
   ],
   "source": [
    "# b\n",
    "\n",
    "labels = ['YIELD', 'temp']\n",
    "data = [(34, 'C50'), (24, 'C50'), (36, 'C50'), (39, 'C50'), (32, 'C50'), (30, 'C60'), (31, 'C60'), (34, 'C60'), (23, 'C60'), (27, 'C60'), (23, 'C70'), (28, 'C70'), (28, 'C70'), (30, 'C70'), (31, 'C70')]\n",
    "\n",
    "df = pd.DataFrame.from_records(data, columns = labels)    # Read data into DataFrame\n",
    "\n",
    "model = ols('YIELD ~ temp', data=df).fit()    \n",
    "anova_table = sm.stats.anova_lm(model, typ=2)\n",
    "print(anova_table)"
   ]
  },
  {
   "cell_type": "code",
   "execution_count": 22,
   "metadata": {
    "collapsed": true
   },
   "outputs": [],
   "source": [
    "import numpy as np\n"
   ]
  },
  {
   "cell_type": "code",
   "execution_count": 23,
   "metadata": {
    "collapsed": false
   },
   "outputs": [
    {
     "name": "stdout",
     "output_type": "stream",
     "text": [
      "[[ 29.        ]\n",
      " [ 27.66666667]\n",
      " [ 32.66666667]\n",
      " [ 30.66666667]\n",
      " [ 30.        ]]\n",
      "[[ 33.  29.  28.]]\n",
      "30.0\n"
     ]
    }
   ],
   "source": [
    "data = np.matrix([[34,30, 23], [24, 31, 28], [36, 34, 28], [39, 23, 30], [32, 27, 31]])\n",
    "row_mean = data.mean(axis = 1)\n",
    "col_mean = data.mean(axis = 0)\n",
    "grand_mean = data.mean()\n",
    "print(row_mean)\n",
    "print(col_mean)\n",
    "print(grand_mean)"
   ]
  },
  {
   "cell_type": "code",
   "execution_count": 24,
   "metadata": {
    "collapsed": false
   },
   "outputs": [
    {
     "name": "stdout",
     "output_type": "stream",
     "text": [
      "306.0\n"
     ]
    }
   ],
   "source": [
    "SST = np.power(data-grand_mean ,2).sum()\n",
    "print(SST)"
   ]
  },
  {
   "cell_type": "code",
   "execution_count": 25,
   "metadata": {
    "collapsed": false
   },
   "outputs": [
    {
     "name": "stdout",
     "output_type": "stream",
     "text": [
      "236.0\n"
     ]
    }
   ],
   "source": [
    "df2 = data.shape[0]*data.shape[1] - data.shape[1]\n",
    "SSE = np.power(data-col_mean, 2).sum()\n",
    "print(SSE)"
   ]
  },
  {
   "cell_type": "code",
   "execution_count": 26,
   "metadata": {
    "collapsed": false
   },
   "outputs": [
    {
     "name": "stdout",
     "output_type": "stream",
     "text": [
      "70.0\n"
     ]
    }
   ],
   "source": [
    "df1 = data.shape[1] - 1\n",
    "SSR = np.power(col_mean-grand_mean, 2).sum()*data.shape[0]\n",
    "print(SSR)"
   ]
  },
  {
   "cell_type": "code",
   "execution_count": 27,
   "metadata": {
    "collapsed": false
   },
   "outputs": [
    {
     "name": "stdout",
     "output_type": "stream",
     "text": [
      "35.0 19.6666666667 1.77966101695\n"
     ]
    }
   ],
   "source": [
    "MSR = SSR/df1\n",
    "MSE = SSE/df2\n",
    "print(MSR, MSE, MSR/MSE)"
   ]
  },
  {
   "cell_type": "code",
   "execution_count": 28,
   "metadata": {
    "collapsed": false
   },
   "outputs": [
    {
     "name": "stdout",
     "output_type": "stream",
     "text": [
      "0.210447348811\n"
     ]
    }
   ],
   "source": [
    "p_value = 1 - f.cdf(MSR/MSE, df1, df2)\n",
    "print(p_value)"
   ]
  },
  {
   "cell_type": "code",
   "execution_count": null,
   "metadata": {
    "collapsed": true
   },
   "outputs": [],
   "source": []
  }
 ],
 "metadata": {
  "anaconda-cloud": {},
  "kernelspec": {
   "display_name": "Python [default]",
   "language": "python",
   "name": "python3"
  },
  "language_info": {
   "codemirror_mode": {
    "name": "ipython",
    "version": 3
   },
   "file_extension": ".py",
   "mimetype": "text/x-python",
   "name": "python",
   "nbconvert_exporter": "python",
   "pygments_lexer": "ipython3",
   "version": "3.5.2"
  }
 },
 "nbformat": 4,
 "nbformat_minor": 1
}
