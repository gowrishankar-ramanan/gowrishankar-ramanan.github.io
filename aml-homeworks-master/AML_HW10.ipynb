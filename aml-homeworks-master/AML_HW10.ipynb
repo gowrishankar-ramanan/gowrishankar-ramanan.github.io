{
  "nbformat": 4,
  "nbformat_minor": 0,
  "metadata": {
    "colab": {
      "name": "AML_HW10.ipynb",
      "version": "0.3.2",
      "provenance": [],
      "collapsed_sections": [],
      "include_colab_link": true
    },
    "language_info": {
      "codemirror_mode": {
        "name": "ipython",
        "version": 3
      },
      "file_extension": ".py",
      "mimetype": "text/x-python",
      "name": "python",
      "nbconvert_exporter": "python",
      "pygments_lexer": "ipython3",
      "version": "3.6.7"
    },
    "kernelspec": {
      "display_name": "Python 3",
      "language": "python",
      "name": "python3"
    },
    "accelerator": "GPU"
  },
  "cells": [
    {
      "cell_type": "markdown",
      "metadata": {
        "id": "view-in-github",
        "colab_type": "text"
      },
      "source": [
        "<a href=\"https://colab.research.google.com/github/ashwinamrutphale/aml-homeworks/blob/master/AML_HW10.ipynb\" target=\"_parent\"><img src=\"https://colab.research.google.com/assets/colab-badge.svg\" alt=\"Open In Colab\"/></a>"
      ]
    },
    {
      "metadata": {
        "colab_type": "text",
        "id": "vUTgGUi4JEft"
      },
      "cell_type": "markdown",
      "source": [
        "# Homework 10 - CIFAR10 Image Classification with PyTorch"
      ]
    },
    {
      "metadata": {
        "colab_type": "text",
        "id": "T5Kx8gJBJEW_"
      },
      "cell_type": "markdown",
      "source": [
        "## About"
      ]
    },
    {
      "metadata": {
        "colab_type": "text",
        "id": "aRAalfd1GITX"
      },
      "cell_type": "markdown",
      "source": [
        "The goal of the homework is to train a convolutional neural network on the standard CIFAR10 image classfication dataset.\n",
        "\n",
        "When solving machine learning tasks using neural networks, one typically starts with a simple network architecture and then improves the network by adding new layers, retraining, adjusting parameters, retraining, etc.  We attempt to illustrate this process below with several architecture improvements.\n"
      ]
    },
    {
      "metadata": {
        "colab_type": "text",
        "id": "OCl5gakxJes-"
      },
      "cell_type": "markdown",
      "source": [
        "## Dev Environment\n",
        "### Working on Google Colab\n",
        "You may choose to work locally or on Google Colaboratory. You have access to free compute through this service.   Colab is recommended since it will be setup correctly and will have access to GPU resources.\n",
        "1. Visit https://colab.research.google.com/drive \n",
        "2. Navigate to the **`Upload`** tab, and upload your `HW10.ipynb`\n",
        "3. Now on the top right corner, under the `Comment` and `Share` options, you should see a `Connect` option. Once you are connected, you will have access to a VM with 12GB RAM, 50 GB disk space and a single GPU. The dropdown menu will allow you to connect to a local runtime as well.\n",
        "\n",
        "**Notes:** \n",
        "* **If you do not have a working setup for Python 3, this is your best bet. It will also save you from heavy installations like `tensorflow` if you don't want to deal with those.**\n",
        "* ***There is a downside*. You can only use this instance for a single 12-hour stretch, after which your data will be deleted, and you would have redownload all your datasets, any libraries not already on the VM, and regenerate your logs**.\n",
        "\n",
        "\n",
        "### Installing PyTorch and Dependencies\n",
        "\n",
        "The instructions for installing and setting up PyTorch can be found at https://pytorch.org/get-started/locally/. Make sure you follow the instructions for your machine. For any of the remaining libraries used in this assignment:\n",
        "* We have provided a `hw8_requirements.txt` file on the homework web page. \n",
        "* Download this file, and in the same directory you can run `pip3 install -r hw8_requirements.txt`\n",
        "​\n",
        "Check that PyTorch installed correctly by running the following:"
      ]
    },
    {
      "metadata": {
        "colab_type": "code",
        "id": "IaJ6BLrAJeCU",
        "colab": {
          "base_uri": "https://localhost:8080/",
          "height": 102
        },
        "outputId": "e7904f87-d5d5-4390-a445-93ae101586db"
      },
      "cell_type": "code",
      "source": [
        "import torch\n",
        "torch.rand(5, 3)"
      ],
      "execution_count": 40,
      "outputs": [
        {
          "output_type": "execute_result",
          "data": {
            "text/plain": [
              "tensor([[0.1894, 0.7932, 0.3506],\n",
              "        [0.8978, 0.8505, 0.6403],\n",
              "        [0.1122, 0.0409, 0.5002],\n",
              "        [0.8801, 0.0159, 0.2212],\n",
              "        [0.9675, 0.7005, 0.2959]])"
            ]
          },
          "metadata": {
            "tags": []
          },
          "execution_count": 40
        }
      ]
    },
    {
      "metadata": {
        "colab_type": "text",
        "id": "nEmmCk1IJiGn"
      },
      "cell_type": "markdown",
      "source": [
        "## Part 0 Imports and Basic Setup  (5 Points)"
      ]
    },
    {
      "metadata": {
        "colab_type": "text",
        "id": "Y3mTddKuXPBU"
      },
      "cell_type": "markdown",
      "source": [
        "First, import the required libraries as follows. The libraries we will use will be the same as those in HW8. "
      ]
    },
    {
      "metadata": {
        "colab_type": "code",
        "id": "UwtDsq3VbrNY",
        "colab": {}
      },
      "cell_type": "code",
      "source": [
        "import numpy as np\n",
        "import torch\n",
        "from torch import nn\n",
        "from torch import optim\n",
        "\n",
        "import matplotlib.pyplot as plt"
      ],
      "execution_count": 0,
      "outputs": []
    },
    {
      "metadata": {
        "colab_type": "text",
        "id": "QWKp_UGlWTyR"
      },
      "cell_type": "markdown",
      "source": [
        "**GPU Support**\n",
        "\n",
        "Training of large network can take a long time. PyTorch supports GPU with just a small amount of effort.\n",
        "\n",
        "When creating our networks, we will call \n",
        "`net.to(device)` to tell the network to train on the GPU, if one is available.  Note, if the network utilizes the GPU, it is important that any tensors we use with it (such as the data) also reside on the CPU.  Thus, a call like `images = images.to(device)` is necessary with any data we want to use with the GPU.\n",
        "\n",
        "Note: If you can't get access to a GPU, don't worry to much.  Since we use very small networks, the difference between CPU and GPU isn't large and in some cases GPU will actually be slower."
      ]
    },
    {
      "metadata": {
        "colab_type": "code",
        "id": "gbGGmnIXYca9",
        "colab": {
          "base_uri": "https://localhost:8080/",
          "height": 34
        },
        "outputId": "08bb6dbd-de72-4669-a36a-62a5fd4b83d5"
      },
      "cell_type": "code",
      "source": [
        "import torch.cuda as cuda\n",
        "\n",
        "# Use a GPU, i.e. cuda:0 device if it available.\n",
        "device = torch.device(\"cuda:0\" if cuda.is_available() else \"cpu\")\n",
        "print(device)"
      ],
      "execution_count": 38,
      "outputs": [
        {
          "output_type": "stream",
          "text": [
            "cuda:0\n"
          ],
          "name": "stdout"
        }
      ]
    },
    {
      "metadata": {
        "id": "07RjQbhF1tiK",
        "colab_type": "text"
      },
      "cell_type": "markdown",
      "source": [
        "### Training Code"
      ]
    },
    {
      "metadata": {
        "cellView": "form",
        "colab_type": "code",
        "id": "_DZm8ammPCbL",
        "colab": {}
      },
      "cell_type": "code",
      "source": [
        "import time\n",
        "\n",
        "class Flatten(nn.Module):\n",
        "  \"\"\"NN Module that flattens the incoming tensor.\"\"\"\n",
        "  def forward(self, input):\n",
        "    return input.view(input.size(0), -1)\n",
        "  \n",
        "def train(model, train_loader, test_loader, loss_func, opt, num_epochs=10):\n",
        "  all_training_loss = np.zeros((0,2))\n",
        "  all_training_acc = np.zeros((0,2))\n",
        "  all_test_loss = np.zeros((0,2))\n",
        "  all_test_acc = np.zeros((0,2))\n",
        "  \n",
        "  training_step = 0\n",
        "  training_loss, training_acc = 2.0, 0.0\n",
        "  print_every = 1000\n",
        "  \n",
        "  start = time.clock()\n",
        "  \n",
        "  for i in range(num_epochs):\n",
        "    epoch_start = time.clock() \n",
        "   \n",
        "    model.train()\n",
        "    for images, labels in train_loader:\n",
        "      images, labels = images.to(device), labels.to(device)\n",
        "      opt.zero_grad()\n",
        "\n",
        "      preds = model(images)\n",
        "      loss = loss_func(preds, labels)\n",
        "      loss.backward()\n",
        "      opt.step()\n",
        "      \n",
        "      training_loss += loss.item()\n",
        "      training_acc += (torch.argmax(preds, dim=1)==labels).float().mean()\n",
        "      \n",
        "      if training_step % print_every == 0:\n",
        "        training_loss /= print_every\n",
        "        training_acc /= print_every\n",
        "        \n",
        "        all_training_loss = np.concatenate((all_training_loss, [[training_step, training_loss]]))\n",
        "        all_training_acc = np.concatenate((all_training_acc, [[training_step, training_acc]]))\n",
        "        \n",
        "        print('  Epoch %d @ step %d: Train Loss: %3f, Train Accuracy: %3f' % (\n",
        "            i, training_step, training_loss, training_acc))\n",
        "        training_loss, training_acc = 0.0, 0.0\n",
        "        \n",
        "      training_step+=1\n",
        "\n",
        "    model.eval()\n",
        "    with torch.no_grad():\n",
        "      validation_loss, validation_acc = 0.0, 0.0\n",
        "      count = 0\n",
        "      for images, labels in test_loader:\n",
        "        images, labels = images.to(device), labels.to(device)\n",
        "        output = model(images)\n",
        "        validation_loss+=loss_func(output,labels)\n",
        "        validation_acc+=(torch.argmax(output, dim=1) == labels).float().mean()\n",
        "        count += 1\n",
        "      validation_loss/=count\n",
        "      validation_acc/=count\n",
        "      \n",
        "      all_test_loss = np.concatenate((all_test_loss, [[training_step, validation_loss]]))\n",
        "      all_test_acc = np.concatenate((all_test_acc, [[training_step, validation_acc]]))\n",
        "      \n",
        "      epoch_time = time.clock() - epoch_start\n",
        "      \n",
        "      print('Epoch %d Test Loss: %3f, Test Accuracy: %3f, time: %.1fs' % (\n",
        "          i, validation_loss, validation_acc, epoch_time))\n",
        "      \n",
        "  total_time = time.clock() - start\n",
        "  print('Final Test Loss: %3f, Test Accuracy: %3f, Total time: %.1fs' % (\n",
        "      validation_loss, validation_acc, total_time))\n",
        "\n",
        "  return {'loss': { 'train': all_training_loss, 'test': all_test_loss },\n",
        "          'accuracy': { 'train': all_training_acc, 'test': all_test_acc }}\n",
        "\n",
        "def plot_graphs(model_name, metrics):\n",
        "  for metric, values in metrics.items():\n",
        "    for name, v in values.items():\n",
        "      plt.plot(v[:,0], v[:,1], label=name)\n",
        "    plt.title(f'{metric} for {model_name}')\n",
        "    plt.legend()\n",
        "    plt.xlabel(\"Training Steps\")\n",
        "    plt.ylabel(metric)\n",
        "    plt.show()\n",
        "    "
      ],
      "execution_count": 0,
      "outputs": []
    },
    {
      "metadata": {
        "colab_type": "text",
        "id": "1RupXQbCaXb3"
      },
      "cell_type": "markdown",
      "source": [
        "Load the** CIFA-10** dataset and define the transformations. You may also want to print its structure, size, as well as sample a few images to get a sense of how to design the network. "
      ]
    },
    {
      "metadata": {
        "colab_type": "code",
        "id": "mIJmLIgaZ_d3",
        "colab": {}
      },
      "cell_type": "code",
      "source": [
        "!mkdir hw10_data"
      ],
      "execution_count": 0,
      "outputs": []
    },
    {
      "metadata": {
        "colab_type": "code",
        "id": "aDBbPmPPaQuG",
        "colab": {
          "base_uri": "https://localhost:8080/",
          "height": 51
        },
        "outputId": "acf6c7f3-efb6-4640-c677-5cfde01db190"
      },
      "cell_type": "code",
      "source": [
        "# Download the data.\n",
        "from torchvision import datasets, transforms\n",
        "\n",
        "# transform_train = transforms.Compose([\n",
        "#     transforms.RandomCrop(32, padding=4),\n",
        "#     transforms.RandomHorizontalFlip(),\n",
        "#     transforms.ToTensor(),\n",
        "#     transforms.Normalize((0.4914, 0.4822, 0.4465), (0.2023, 0.1994, 0.2010)),\n",
        "# ])\n",
        "\n",
        "transformations = transforms.Compose(\n",
        "    [transforms.ToTensor(),\n",
        "     transforms.Normalize((0.4914, 0.4822, 0.4465), (0.2023, 0.1994, 0.2010))])\n",
        "train_set = datasets.CIFAR10(root='hw10_data/', download=True, transform=transformations)\n",
        "test_set = datasets.CIFAR10(root='hw10_data', download=True, train=False, transform=transformations)"
      ],
      "execution_count": 125,
      "outputs": [
        {
          "output_type": "stream",
          "text": [
            "Files already downloaded and verified\n",
            "Files already downloaded and verified\n"
          ],
          "name": "stdout"
        }
      ]
    },
    {
      "metadata": {
        "colab_type": "text",
        "id": "dfomsGyJiKz9"
      },
      "cell_type": "markdown",
      "source": [
        "Use `DataLoader` to create a loader for the training set and a loader for the testing set. You can use a `batch_size` of 8 to start, and change it if you wish."
      ]
    },
    {
      "metadata": {
        "colab_type": "code",
        "id": "Ioe04mbSiQiV",
        "colab": {}
      },
      "cell_type": "code",
      "source": [
        "from torch.utils.data import DataLoader\n",
        "\n",
        "batch_size = 8\n",
        "train_loader = torch.utils.data.DataLoader(train_set, batch_size, shuffle=True, num_workers=2)\n",
        "test_loader = torch.utils.data.DataLoader(test_set, batch_size, shuffle=True, num_workers=2)\n",
        "\n",
        "input_shape = np.array(train_set[0][0]).shape\n",
        "input_dim = input_shape[1]*input_shape[2]*input_shape[0]\n",
        "\n"
      ],
      "execution_count": 0,
      "outputs": []
    },
    {
      "metadata": {
        "colab_type": "code",
        "id": "fGoPdmuUOOiE",
        "colab": {
          "base_uri": "https://localhost:8080/",
          "height": 34
        },
        "outputId": "e0d15eef-0a54-4018-f66f-9878959d1ae7"
      },
      "cell_type": "code",
      "source": [
        "training_epochs = 5\n",
        "input_dim\n",
        "print(input_shape)"
      ],
      "execution_count": 57,
      "outputs": [
        {
          "output_type": "stream",
          "text": [
            "(3, 32, 32)\n"
          ],
          "name": "stdout"
        }
      ]
    },
    {
      "metadata": {
        "colab_type": "text",
        "id": "3T2-qkh8frqF"
      },
      "cell_type": "markdown",
      "source": [
        "## Part 1 CIFAR10 with Fully Connected Neural Netowrk (25 Points)\n",
        "\n",
        "As a warm-up, let's begin by training a two-layer fully connected neural network model on ** CIFAR-10** dataset. You may go back to check HW8 for some basics.\n",
        "\n",
        "We will give you this code to use as a baseline to compare against your CNN models."
      ]
    },
    {
      "metadata": {
        "colab_type": "code",
        "id": "Ck1CGpRycRFE",
        "colab": {
          "base_uri": "https://localhost:8080/",
          "height": 663
        },
        "outputId": "fbd9c11d-5f9f-43a4-a75d-e25ffa803e44"
      },
      "cell_type": "code",
      "source": [
        "class TwoLayerModel(nn.Module):\n",
        "  def __init__(self):\n",
        "    super(TwoLayerModel, self).__init__()\n",
        "    self.net = nn.Sequential(\n",
        "      Flatten(), \n",
        "      nn.Linear(input_dim, 64), \n",
        "      nn.ReLU(), \n",
        "      nn.Linear(64, 10))\n",
        "    \n",
        "  def forward(self, x):\n",
        "    return self.net(x)\n",
        "\n",
        "model = TwoLayerModel().to(device)\n",
        "\n",
        "loss = nn.CrossEntropyLoss()\n",
        "optimizer = optim.RMSprop(model.parameters(), lr=0.001, weight_decay=0.01)\n",
        "\n",
        "# Training epoch should be about 15-20 sec each on GPU.\n",
        "metrics = train(model, train_loader, test_loader, loss, optimizer, training_epochs)"
      ],
      "execution_count": 41,
      "outputs": [
        {
          "output_type": "stream",
          "text": [
            "  Epoch 0 @ step 0: Train Loss: 0.004386, Train Accuracy: 0.000000\n",
            "  Epoch 0 @ step 1000: Train Loss: 1.935793, Train Accuracy: 0.327000\n",
            "  Epoch 0 @ step 2000: Train Loss: 1.810442, Train Accuracy: 0.347000\n",
            "  Epoch 0 @ step 3000: Train Loss: 1.786982, Train Accuracy: 0.367000\n",
            "  Epoch 0 @ step 4000: Train Loss: 1.782530, Train Accuracy: 0.369750\n",
            "  Epoch 0 @ step 5000: Train Loss: 1.758036, Train Accuracy: 0.375125\n",
            "  Epoch 0 @ step 6000: Train Loss: 1.772410, Train Accuracy: 0.369125\n",
            "Epoch 0 Test Loss: 1.741688, Test Accuracy: 0.373300, time: 16.7s\n",
            "  Epoch 1 @ step 7000: Train Loss: 1.744972, Train Accuracy: 0.380000\n",
            "  Epoch 1 @ step 8000: Train Loss: 1.757257, Train Accuracy: 0.370625\n",
            "  Epoch 1 @ step 9000: Train Loss: 1.756500, Train Accuracy: 0.365250\n",
            "  Epoch 1 @ step 10000: Train Loss: 1.746415, Train Accuracy: 0.384000\n",
            "  Epoch 1 @ step 11000: Train Loss: 1.744737, Train Accuracy: 0.376000\n",
            "  Epoch 1 @ step 12000: Train Loss: 1.744909, Train Accuracy: 0.376125\n",
            "Epoch 1 Test Loss: 1.736194, Test Accuracy: 0.378200, time: 17.2s\n",
            "  Epoch 2 @ step 13000: Train Loss: 1.721334, Train Accuracy: 0.382250\n",
            "  Epoch 2 @ step 14000: Train Loss: 1.732052, Train Accuracy: 0.384000\n",
            "  Epoch 2 @ step 15000: Train Loss: 1.727752, Train Accuracy: 0.373125\n",
            "  Epoch 2 @ step 16000: Train Loss: 1.734535, Train Accuracy: 0.384750\n",
            "  Epoch 2 @ step 17000: Train Loss: 1.743504, Train Accuracy: 0.387250\n",
            "  Epoch 2 @ step 18000: Train Loss: 1.741437, Train Accuracy: 0.372250\n",
            "Epoch 2 Test Loss: 1.713703, Test Accuracy: 0.383200, time: 16.4s\n",
            "  Epoch 3 @ step 19000: Train Loss: 1.744517, Train Accuracy: 0.377625\n",
            "  Epoch 3 @ step 20000: Train Loss: 1.750792, Train Accuracy: 0.371125\n",
            "  Epoch 3 @ step 21000: Train Loss: 1.720687, Train Accuracy: 0.379250\n",
            "  Epoch 3 @ step 22000: Train Loss: 1.736126, Train Accuracy: 0.373125\n",
            "  Epoch 3 @ step 23000: Train Loss: 1.742102, Train Accuracy: 0.373750\n",
            "  Epoch 3 @ step 24000: Train Loss: 1.735301, Train Accuracy: 0.385625\n",
            "Epoch 3 Test Loss: 1.712574, Test Accuracy: 0.381900, time: 16.3s\n",
            "  Epoch 4 @ step 25000: Train Loss: 1.742073, Train Accuracy: 0.382625\n",
            "  Epoch 4 @ step 26000: Train Loss: 1.714111, Train Accuracy: 0.391250\n",
            "  Epoch 4 @ step 27000: Train Loss: 1.733186, Train Accuracy: 0.385875\n",
            "  Epoch 4 @ step 28000: Train Loss: 1.726010, Train Accuracy: 0.382500\n",
            "  Epoch 4 @ step 29000: Train Loss: 1.730836, Train Accuracy: 0.385875\n",
            "  Epoch 4 @ step 30000: Train Loss: 1.754987, Train Accuracy: 0.366375\n",
            "  Epoch 4 @ step 31000: Train Loss: 1.748731, Train Accuracy: 0.377250\n",
            "Epoch 4 Test Loss: 1.782769, Test Accuracy: 0.352000, time: 17.2s\n",
            "Final Test Loss: 1.782769, Test Accuracy: 0.352000, Total time: 83.8s\n"
          ],
          "name": "stdout"
        }
      ]
    },
    {
      "metadata": {
        "colab_type": "text",
        "id": "qjbncuMnKpf7"
      },
      "cell_type": "markdown",
      "source": [
        "**Plot the model results**\n",
        "\n",
        "Normally we would want to use Tensorboard for looking at metrics.  However, if colab reset while we are working, we might lose our logs and therefore our metrics.  Let's just plot some graphs that will survive across colab instances."
      ]
    },
    {
      "metadata": {
        "colab_type": "code",
        "id": "CuVL9MJ_D92h",
        "colab": {
          "base_uri": "https://localhost:8080/",
          "height": 573
        },
        "outputId": "95107b14-e79d-423f-e0a3-746261cb6066"
      },
      "cell_type": "code",
      "source": [
        "plot_graphs(\"TwoLayerModel\", metrics)"
      ],
      "execution_count": 10,
      "outputs": [
        {
          "output_type": "display_data",
          "data": {
            "image/png": "[encoded data removed]",
            "text/plain": [
              "<Figure size 432x288 with 1 Axes>"
            ]
          },
          "metadata": {
            "tags": []
          }
        },
        {
          "output_type": "display_data",
          "data": {
            "image/png": "[encoded data removed]",
            "text/plain": [
              "<Figure size 432x288 with 1 Axes>"
            ]
          },
          "metadata": {
            "tags": []
          }
        }
      ]
    },
    {
      "metadata": {
        "colab_type": "text",
        "id": "4_xi8bkkfsM7"
      },
      "cell_type": "markdown",
      "source": [
        "## Part 2 Convolutional Neural Network (CNN) (35 Points)\n",
        "\n",
        "Now, let's design a convolution neural netwrok!\n",
        "\n",
        "Build a simple CNN model, inserting 2 CNN layers in from of our 2 layer fully connect model from above:\n",
        "\n",
        "1. A convolution with\t3x3 filter, 16 output channels, stride = 1, padding=1\n",
        "2. A ReLU activation\n",
        "2. A Max-Pooling layer with 2x2 window\n",
        "3. A convolution,\t3x3 filter, 16 output channels, stride = 1, padding=1\n",
        "4. A ReLU activation\n",
        "4. Flatten layer\n",
        "5. Fully connected linear layer with output size 64\n",
        "6. ReLU\n",
        "7. Fully connected linear layer, with output size 10\n",
        "\n",
        "You will have to figure out the input sizes of the first fully connnected layer based on the previous layer sizes. Note that you also need to fill those in the report section (see report section in the notebook for details) "
      ]
    },
    {
      "metadata": {
        "colab_type": "code",
        "id": "tLXjjywngO7g",
        "colab": {
          "base_uri": "https://localhost:8080/",
          "height": 663
        },
        "outputId": "d42687c3-8a33-4a88-cafc-9b11be860e1e"
      },
      "cell_type": "code",
      "source": [
        "class ConvModel(nn.Module):\n",
        "  # Your Code Here\n",
        "  def __init__(self):\n",
        "    super(ConvModel, self).__init__()\n",
        "    self.layer1 = nn.Sequential(\n",
        "            nn.Conv2d(3, 16, kernel_size=3, stride=1, padding=1),\n",
        "            nn.ReLU(),\n",
        "            nn.MaxPool2d(kernel_size=2, stride=2))\n",
        "    self.layer2 = nn.Sequential(\n",
        "            nn.Conv2d(16, 16, kernel_size=3, stride=1, padding=1),\n",
        "            nn.ReLU(),\n",
        "            nn.MaxPool2d(kernel_size=2, stride=2))\n",
        "    self.drop_out = nn.Dropout()\n",
        "    self.fc1 = nn.Linear(1024, 64)\n",
        "    self.fc2 = nn.Linear(64, 10)\n",
        "    \n",
        "  def forward(self, x):\n",
        "    out = self.layer1(x)\n",
        "    #print(out.shape)\n",
        "    out = self.layer2(out)\n",
        "    out = out.reshape(out.size(0), -1)\n",
        "    out = self.drop_out(out)\n",
        "    #print(out.shape)\n",
        "    out = self.fc1(out)\n",
        "    out = self.fc2(out)\n",
        "    return out\n",
        "\n",
        "#input_dim = 512  \n",
        "model = ConvModel().to(device)\n",
        "\n",
        "loss = nn.CrossEntropyLoss()\n",
        "optimizer = optim.RMSprop(model.parameters(), lr=0.001, weight_decay=0.01)\n",
        "\n",
        "metrcs = train(model, train_loader, test_loader, loss, optimizer, training_epochs)"
      ],
      "execution_count": 84,
      "outputs": [
        {
          "output_type": "stream",
          "text": [
            "  Epoch 0 @ step 0: Train Loss: 0.004278, Train Accuracy: 0.000250\n",
            "  Epoch 0 @ step 1000: Train Loss: 1.871014, Train Accuracy: 0.319500\n",
            "  Epoch 0 @ step 2000: Train Loss: 1.626705, Train Accuracy: 0.409000\n",
            "  Epoch 0 @ step 3000: Train Loss: 1.565584, Train Accuracy: 0.429500\n",
            "  Epoch 0 @ step 4000: Train Loss: 1.518025, Train Accuracy: 0.445000\n",
            "  Epoch 0 @ step 5000: Train Loss: 1.506958, Train Accuracy: 0.449500\n",
            "  Epoch 0 @ step 6000: Train Loss: 1.477093, Train Accuracy: 0.457375\n",
            "Epoch 0 Test Loss: 1.437542, Test Accuracy: 0.494000, time: 25.5s\n",
            "  Epoch 1 @ step 7000: Train Loss: 1.486983, Train Accuracy: 0.467000\n",
            "  Epoch 1 @ step 8000: Train Loss: 1.451277, Train Accuracy: 0.475250\n",
            "  Epoch 1 @ step 9000: Train Loss: 1.436560, Train Accuracy: 0.482000\n",
            "  Epoch 1 @ step 10000: Train Loss: 1.425221, Train Accuracy: 0.485375\n",
            "  Epoch 1 @ step 11000: Train Loss: 1.413962, Train Accuracy: 0.492750\n",
            "  Epoch 1 @ step 12000: Train Loss: 1.414796, Train Accuracy: 0.492625\n",
            "Epoch 1 Test Loss: 1.327462, Test Accuracy: 0.527600, time: 24.2s\n",
            "  Epoch 2 @ step 13000: Train Loss: 1.413767, Train Accuracy: 0.497250\n",
            "  Epoch 2 @ step 14000: Train Loss: 1.384152, Train Accuracy: 0.501000\n",
            "  Epoch 2 @ step 15000: Train Loss: 1.407388, Train Accuracy: 0.499375\n",
            "  Epoch 2 @ step 16000: Train Loss: 1.393833, Train Accuracy: 0.500375\n",
            "  Epoch 2 @ step 17000: Train Loss: 1.379077, Train Accuracy: 0.502750\n",
            "  Epoch 2 @ step 18000: Train Loss: 1.364377, Train Accuracy: 0.511125\n",
            "Epoch 2 Test Loss: 1.268293, Test Accuracy: 0.540000, time: 23.7s\n",
            "  Epoch 3 @ step 19000: Train Loss: 1.361424, Train Accuracy: 0.512125\n",
            "  Epoch 3 @ step 20000: Train Loss: 1.373085, Train Accuracy: 0.506375\n",
            "  Epoch 3 @ step 21000: Train Loss: 1.351973, Train Accuracy: 0.514500\n",
            "  Epoch 3 @ step 22000: Train Loss: 1.353605, Train Accuracy: 0.518375\n",
            "  Epoch 3 @ step 23000: Train Loss: 1.342018, Train Accuracy: 0.523000\n",
            "  Epoch 3 @ step 24000: Train Loss: 1.341890, Train Accuracy: 0.520250\n",
            "Epoch 3 Test Loss: 1.254881, Test Accuracy: 0.570100, time: 25.3s\n",
            "  Epoch 4 @ step 25000: Train Loss: 1.338207, Train Accuracy: 0.523125\n",
            "  Epoch 4 @ step 26000: Train Loss: 1.327996, Train Accuracy: 0.526000\n",
            "  Epoch 4 @ step 27000: Train Loss: 1.327570, Train Accuracy: 0.523500\n",
            "  Epoch 4 @ step 28000: Train Loss: 1.323610, Train Accuracy: 0.531750\n",
            "  Epoch 4 @ step 29000: Train Loss: 1.332022, Train Accuracy: 0.521000\n",
            "  Epoch 4 @ step 30000: Train Loss: 1.333070, Train Accuracy: 0.527250\n",
            "  Epoch 4 @ step 31000: Train Loss: 1.310778, Train Accuracy: 0.528500\n",
            "Epoch 4 Test Loss: 1.218618, Test Accuracy: 0.568100, time: 23.6s\n",
            "Final Test Loss: 1.218618, Test Accuracy: 0.568100, Total time: 122.3s\n"
          ],
          "name": "stdout"
        }
      ]
    },
    {
      "metadata": {
        "colab_type": "code",
        "id": "8BGTJw-TPTfh",
        "colab": {
          "base_uri": "https://localhost:8080/",
          "height": 573
        },
        "outputId": "166bf0a3-0266-40a6-a688-3a5078dd5558"
      },
      "cell_type": "code",
      "source": [
        "plot_graphs(\"ConvModel\", metrcs)"
      ],
      "execution_count": 86,
      "outputs": [
        {
          "output_type": "display_data",
          "data": {
            "image/png": "[encoded data removed]",
            "text/plain": [
              "<Figure size 432x288 with 1 Axes>"
            ]
          },
          "metadata": {
            "tags": []
          }
        },
        {
          "output_type": "display_data",
          "data": {
            "image/png": "[encoded data removed]",
            "text/plain": [
              "<Figure size 432x288 with 1 Axes>"
            ]
          },
          "metadata": {
            "tags": []
          }
        }
      ]
    },
    {
      "metadata": {
        "colab_type": "text",
        "id": "oFAc6IORmzCJ"
      },
      "cell_type": "markdown",
      "source": [
        "Do you notice the improvement over the accuracy compared to that in Part 1?"
      ]
    },
    {
      "metadata": {
        "colab_type": "text",
        "id": "hXpJgsjhftDP"
      },
      "cell_type": "markdown",
      "source": [
        "## Part 3 Open Design Competition (35 Points + 10 bonus points)\n",
        "\n",
        "Try to beat the previous models by adding additional layers, changing parameters, etc.  You should add at least one layer.\n",
        "\n",
        "Possible changes include:\n",
        "*   Dropout\n",
        "*   Batch Normalization\n",
        "*   More layers\n",
        "*   Residual Connections (harder)\n",
        "*   Change layer size\n",
        "*   Pooling layers, stride\n",
        "*   Different optimizer\n",
        "*   Train for longer\n",
        "\n",
        "Once you have a model you think is great, evaluate it against our hidden test data (see hidden_loader above) and upload the results to the leader board on gradescope.  **The top 3 scorers will get a bonus 10 points.**\n",
        "\n",
        "You can steal model structures found on the internet if you want.  The only constraint is that **you must train the model from scratch**.\n"
      ]
    },
    {
      "metadata": {
        "colab_type": "code",
        "id": "QZFkuraiZOaT",
        "colab": {
          "base_uri": "https://localhost:8080/",
          "height": 1887
        },
        "outputId": "b947b0c2-ba13-46d8-dcb1-c12c4d11fefb"
      },
      "cell_type": "code",
      "source": [
        "# You Awesome Super Best model code here\n",
        "from torch.autograd import Variable\n",
        "\n",
        "class CNN(nn.Module):\n",
        "    \"\"\"CNN.\"\"\"\n",
        "\n",
        "    def __init__(self):\n",
        "        \"\"\"CNN Builder.\"\"\"\n",
        "        super(CNN, self).__init__()\n",
        "\n",
        "        self.conv_layer = nn.Sequential(\n",
        "\n",
        "            # Conv Layer block 1\n",
        "            nn.Conv2d(in_channels=3, out_channels=32, kernel_size=3, padding=1),\n",
        "            nn.BatchNorm2d(32),\n",
        "            nn.ReLU(inplace=True),\n",
        "            nn.Conv2d(in_channels=32, out_channels=64, kernel_size=3, padding=1),\n",
        "            nn.ReLU(inplace=True),\n",
        "            nn.MaxPool2d(kernel_size=2, stride=2),\n",
        "\n",
        "            # Conv Layer block 2\n",
        "            nn.Conv2d(in_channels=64, out_channels=128, kernel_size=3, padding=1),\n",
        "            nn.BatchNorm2d(128),\n",
        "            nn.ReLU(inplace=True),\n",
        "            nn.Conv2d(in_channels=128, out_channels=128, kernel_size=3, padding=1),\n",
        "            nn.ReLU(inplace=True),\n",
        "            nn.MaxPool2d(kernel_size=2, stride=2),\n",
        "            nn.Dropout2d(p=0.05),\n",
        "\n",
        "            # Conv Layer block 3\n",
        "            nn.Conv2d(in_channels=128, out_channels=256, kernel_size=3, padding=1),\n",
        "            nn.BatchNorm2d(256),\n",
        "            nn.ReLU(inplace=True),\n",
        "            nn.Conv2d(in_channels=256, out_channels=256, kernel_size=3, padding=1),\n",
        "            nn.ReLU(inplace=True),\n",
        "            nn.MaxPool2d(kernel_size=2, stride=2),\n",
        "        )\n",
        "\n",
        "\n",
        "        self.fc_layer = nn.Sequential(\n",
        "            nn.Dropout(),\n",
        "            nn.Linear(4096, 1024),\n",
        "            nn.ReLU(inplace=True),\n",
        "            nn.Linear(1024, 512),\n",
        "            nn.ReLU(inplace=True),\n",
        "            nn.Dropout(),\n",
        "            nn.Linear(512, 10)\n",
        "        )\n",
        "\n",
        "\n",
        "    def forward(self, x):\n",
        "        \"\"\"Perform forward.\"\"\"\n",
        "        \n",
        "        # conv layers\n",
        "        x = self.conv_layer(x)\n",
        "        \n",
        "        # flatten\n",
        "        x = x.view(x.size(0), -1)\n",
        "        \n",
        "        # fc layer\n",
        "        x = self.fc_layer(x)\n",
        "\n",
        "        return x\n",
        "     \n",
        "    \n",
        "\n",
        "model = CNN().to(device)\n",
        "\n",
        "loss = nn.CrossEntropyLoss()\n",
        "optimizer = optim.RMSprop(model.parameters(), lr=0.001, weight_decay=5e-4)\n",
        "\n",
        "mtrs = train(model, train_loader, test_loader, loss, optimizer, 15)"
      ],
      "execution_count": 131,
      "outputs": [
        {
          "output_type": "stream",
          "text": [
            "  Epoch 0 @ step 0: Train Loss: 0.004295, Train Accuracy: 0.000125\n",
            "  Epoch 0 @ step 1000: Train Loss: 2.304138, Train Accuracy: 0.192375\n",
            "  Epoch 0 @ step 2000: Train Loss: 1.944318, Train Accuracy: 0.277500\n",
            "  Epoch 0 @ step 3000: Train Loss: 1.750558, Train Accuracy: 0.346375\n",
            "  Epoch 0 @ step 4000: Train Loss: 1.653860, Train Accuracy: 0.390500\n",
            "  Epoch 0 @ step 5000: Train Loss: 1.555741, Train Accuracy: 0.433625\n",
            "  Epoch 0 @ step 6000: Train Loss: 1.474068, Train Accuracy: 0.473875\n",
            "Epoch 0 Test Loss: 1.301206, Test Accuracy: 0.523600, time: 47.6s\n",
            "  Epoch 1 @ step 7000: Train Loss: 1.369092, Train Accuracy: 0.506750\n",
            "  Epoch 1 @ step 8000: Train Loss: 1.324019, Train Accuracy: 0.534500\n",
            "  Epoch 1 @ step 9000: Train Loss: 1.292368, Train Accuracy: 0.546000\n",
            "  Epoch 1 @ step 10000: Train Loss: 1.244479, Train Accuracy: 0.565000\n",
            "  Epoch 1 @ step 11000: Train Loss: 1.216420, Train Accuracy: 0.576750\n",
            "  Epoch 1 @ step 12000: Train Loss: 1.178203, Train Accuracy: 0.594625\n",
            "Epoch 1 Test Loss: 1.074167, Test Accuracy: 0.630900, time: 48.5s\n",
            "  Epoch 2 @ step 13000: Train Loss: 1.145516, Train Accuracy: 0.605250\n",
            "  Epoch 2 @ step 14000: Train Loss: 1.106441, Train Accuracy: 0.620875\n",
            "  Epoch 2 @ step 15000: Train Loss: 1.095278, Train Accuracy: 0.634875\n",
            "  Epoch 2 @ step 16000: Train Loss: 1.067013, Train Accuracy: 0.633125\n",
            "  Epoch 2 @ step 17000: Train Loss: 1.055997, Train Accuracy: 0.636125\n",
            "  Epoch 2 @ step 18000: Train Loss: 1.042253, Train Accuracy: 0.643875\n",
            "Epoch 2 Test Loss: 0.967128, Test Accuracy: 0.671900, time: 50.4s\n",
            "  Epoch 3 @ step 19000: Train Loss: 1.035656, Train Accuracy: 0.644500\n",
            "  Epoch 3 @ step 20000: Train Loss: 0.977615, Train Accuracy: 0.668875\n",
            "  Epoch 3 @ step 21000: Train Loss: 0.976356, Train Accuracy: 0.668625\n",
            "  Epoch 3 @ step 22000: Train Loss: 0.988188, Train Accuracy: 0.662375\n",
            "  Epoch 3 @ step 23000: Train Loss: 0.959076, Train Accuracy: 0.678375\n",
            "  Epoch 3 @ step 24000: Train Loss: 0.981882, Train Accuracy: 0.665250\n",
            "Epoch 3 Test Loss: 0.905575, Test Accuracy: 0.692400, time: 48.0s\n",
            "  Epoch 4 @ step 25000: Train Loss: 0.956451, Train Accuracy: 0.675750\n",
            "  Epoch 4 @ step 26000: Train Loss: 0.941408, Train Accuracy: 0.685250\n",
            "  Epoch 4 @ step 27000: Train Loss: 0.919557, Train Accuracy: 0.690375\n",
            "  Epoch 4 @ step 28000: Train Loss: 0.912394, Train Accuracy: 0.694125\n",
            "  Epoch 4 @ step 29000: Train Loss: 0.924995, Train Accuracy: 0.687500\n",
            "  Epoch 4 @ step 30000: Train Loss: 0.915930, Train Accuracy: 0.693875\n",
            "  Epoch 4 @ step 31000: Train Loss: 0.930263, Train Accuracy: 0.695500\n",
            "Epoch 4 Test Loss: 0.805713, Test Accuracy: 0.728600, time: 49.0s\n",
            "  Epoch 5 @ step 32000: Train Loss: 0.879765, Train Accuracy: 0.705375\n",
            "  Epoch 5 @ step 33000: Train Loss: 0.881727, Train Accuracy: 0.706500\n",
            "  Epoch 5 @ step 34000: Train Loss: 0.884264, Train Accuracy: 0.698750\n",
            "  Epoch 5 @ step 35000: Train Loss: 0.878273, Train Accuracy: 0.704500\n",
            "  Epoch 5 @ step 36000: Train Loss: 0.894739, Train Accuracy: 0.703750\n",
            "  Epoch 5 @ step 37000: Train Loss: 0.881073, Train Accuracy: 0.702625\n",
            "Epoch 5 Test Loss: 0.912449, Test Accuracy: 0.700700, time: 48.9s\n",
            "  Epoch 6 @ step 38000: Train Loss: 0.840194, Train Accuracy: 0.718250\n",
            "  Epoch 6 @ step 39000: Train Loss: 0.833998, Train Accuracy: 0.719000\n",
            "  Epoch 6 @ step 40000: Train Loss: 0.845791, Train Accuracy: 0.714750\n",
            "  Epoch 6 @ step 41000: Train Loss: 0.835321, Train Accuracy: 0.717125\n",
            "  Epoch 6 @ step 42000: Train Loss: 0.862245, Train Accuracy: 0.708875\n",
            "  Epoch 6 @ step 43000: Train Loss: 0.849501, Train Accuracy: 0.717500\n",
            "Epoch 6 Test Loss: 0.754724, Test Accuracy: 0.748200, time: 47.3s\n",
            "  Epoch 7 @ step 44000: Train Loss: 0.842277, Train Accuracy: 0.717625\n",
            "  Epoch 7 @ step 45000: Train Loss: 0.789519, Train Accuracy: 0.733625\n",
            "  Epoch 7 @ step 46000: Train Loss: 0.823165, Train Accuracy: 0.723625\n",
            "  Epoch 7 @ step 47000: Train Loss: 0.821712, Train Accuracy: 0.722000\n",
            "  Epoch 7 @ step 48000: Train Loss: 0.816274, Train Accuracy: 0.729500\n",
            "  Epoch 7 @ step 49000: Train Loss: 0.808829, Train Accuracy: 0.722125\n",
            "Epoch 7 Test Loss: 0.768892, Test Accuracy: 0.743900, time: 48.9s\n",
            "  Epoch 8 @ step 50000: Train Loss: 0.828762, Train Accuracy: 0.721000\n",
            "  Epoch 8 @ step 51000: Train Loss: 0.793421, Train Accuracy: 0.731125\n",
            "  Epoch 8 @ step 52000: Train Loss: 0.771534, Train Accuracy: 0.746125\n",
            "  Epoch 8 @ step 53000: Train Loss: 0.810920, Train Accuracy: 0.727375\n",
            "  Epoch 8 @ step 54000: Train Loss: 0.812942, Train Accuracy: 0.726625\n",
            "  Epoch 8 @ step 55000: Train Loss: 0.791861, Train Accuracy: 0.737500\n",
            "  Epoch 8 @ step 56000: Train Loss: 0.798205, Train Accuracy: 0.740250\n",
            "Epoch 8 Test Loss: 0.742546, Test Accuracy: 0.742900, time: 50.8s\n",
            "  Epoch 9 @ step 57000: Train Loss: 0.781471, Train Accuracy: 0.745625\n",
            "  Epoch 9 @ step 58000: Train Loss: 0.778765, Train Accuracy: 0.737375\n",
            "  Epoch 9 @ step 59000: Train Loss: 0.772516, Train Accuracy: 0.741875\n",
            "  Epoch 9 @ step 60000: Train Loss: 0.784054, Train Accuracy: 0.737250\n",
            "  Epoch 9 @ step 61000: Train Loss: 0.772505, Train Accuracy: 0.738125\n",
            "  Epoch 9 @ step 62000: Train Loss: 0.782125, Train Accuracy: 0.744125\n",
            "Epoch 9 Test Loss: 0.725979, Test Accuracy: 0.753500, time: 47.6s\n",
            "  Epoch 10 @ step 63000: Train Loss: 0.762636, Train Accuracy: 0.748125\n",
            "  Epoch 10 @ step 64000: Train Loss: 0.753857, Train Accuracy: 0.747250\n",
            "  Epoch 10 @ step 65000: Train Loss: 0.762153, Train Accuracy: 0.752125\n",
            "  Epoch 10 @ step 66000: Train Loss: 0.784081, Train Accuracy: 0.741625\n",
            "  Epoch 10 @ step 67000: Train Loss: 0.753389, Train Accuracy: 0.753500\n",
            "  Epoch 10 @ step 68000: Train Loss: 0.746897, Train Accuracy: 0.750375\n",
            "Epoch 10 Test Loss: 0.769786, Test Accuracy: 0.744400, time: 48.0s\n",
            "  Epoch 11 @ step 69000: Train Loss: 0.773858, Train Accuracy: 0.740375\n",
            "  Epoch 11 @ step 70000: Train Loss: 0.749858, Train Accuracy: 0.749375\n",
            "  Epoch 11 @ step 71000: Train Loss: 0.737303, Train Accuracy: 0.753750\n",
            "  Epoch 11 @ step 72000: Train Loss: 0.750521, Train Accuracy: 0.748375\n",
            "  Epoch 11 @ step 73000: Train Loss: 0.749037, Train Accuracy: 0.752625\n",
            "  Epoch 11 @ step 74000: Train Loss: 0.751322, Train Accuracy: 0.749500\n",
            "Epoch 11 Test Loss: 0.761524, Test Accuracy: 0.751400, time: 48.5s\n",
            "  Epoch 12 @ step 75000: Train Loss: 0.776037, Train Accuracy: 0.744750\n",
            "  Epoch 12 @ step 76000: Train Loss: 0.723270, Train Accuracy: 0.757625\n",
            "  Epoch 12 @ step 77000: Train Loss: 0.728281, Train Accuracy: 0.758625\n",
            "  Epoch 12 @ step 78000: Train Loss: 0.742451, Train Accuracy: 0.754375\n",
            "  Epoch 12 @ step 79000: Train Loss: 0.734573, Train Accuracy: 0.759125\n",
            "  Epoch 12 @ step 80000: Train Loss: 0.767631, Train Accuracy: 0.745125\n",
            "  Epoch 12 @ step 81000: Train Loss: 0.748035, Train Accuracy: 0.751375\n",
            "Epoch 12 Test Loss: 0.653862, Test Accuracy: 0.783100, time: 48.1s\n",
            "  Epoch 13 @ step 82000: Train Loss: 0.729349, Train Accuracy: 0.751250\n",
            "  Epoch 13 @ step 83000: Train Loss: 0.725278, Train Accuracy: 0.763375\n",
            "  Epoch 13 @ step 84000: Train Loss: 0.721518, Train Accuracy: 0.760375\n",
            "  Epoch 13 @ step 85000: Train Loss: 0.715200, Train Accuracy: 0.766000\n",
            "  Epoch 13 @ step 86000: Train Loss: 0.732919, Train Accuracy: 0.753625\n",
            "  Epoch 13 @ step 87000: Train Loss: 0.741306, Train Accuracy: 0.754625\n",
            "Epoch 13 Test Loss: 0.738568, Test Accuracy: 0.756100, time: 49.2s\n",
            "  Epoch 14 @ step 88000: Train Loss: 0.718362, Train Accuracy: 0.761000\n",
            "  Epoch 14 @ step 89000: Train Loss: 0.710386, Train Accuracy: 0.768625\n",
            "  Epoch 14 @ step 90000: Train Loss: 0.712189, Train Accuracy: 0.758875\n",
            "  Epoch 14 @ step 91000: Train Loss: 0.725692, Train Accuracy: 0.761875\n",
            "  Epoch 14 @ step 92000: Train Loss: 0.749140, Train Accuracy: 0.754125\n",
            "  Epoch 14 @ step 93000: Train Loss: 0.719465, Train Accuracy: 0.763250\n",
            "Epoch 14 Test Loss: 0.634613, Test Accuracy: 0.788000, time: 49.7s\n",
            "Final Test Loss: 0.634613, Test Accuracy: 0.788000, Total time: 730.5s\n"
          ],
          "name": "stdout"
        }
      ]
    },
    {
      "metadata": {
        "colab_type": "text",
        "id": "xbx5REUdc-Xs"
      },
      "cell_type": "markdown",
      "source": [
        "**What changes did you make to improve your model?**"
      ]
    },
    {
      "metadata": {
        "colab_type": "code",
        "id": "uItu0w4fZTuG",
        "colab": {
          "base_uri": "https://localhost:8080/",
          "height": 573
        },
        "outputId": "a8461cae-ae6a-4bb0-fe1c-d71f9c138183"
      },
      "cell_type": "code",
      "source": [
        "plot_graphs(\"AwesomeModel\", mtrs)"
      ],
      "execution_count": 132,
      "outputs": [
        {
          "output_type": "display_data",
          "data": {
            "image/png": "[encoded data removed]",
            "text/plain": [
              "<Figure size 432x288 with 1 Axes>"
            ]
          },
          "metadata": {
            "tags": []
          }
        },
        {
          "output_type": "display_data",
          "data": {
            "image/png": "[encoded data removed]",
            "text/plain": [
              "<Figure size 432x288 with 1 Axes>"
            ]
          },
          "metadata": {
            "tags": []
          }
        }
      ]
    },
    {
      "metadata": {
        "colab_type": "text",
        "id": "rWlP2WsodgK0"
      },
      "cell_type": "markdown",
      "source": [
        "After you get a nice model, download the test_file.zip and unzip it to get test_file.pt. In colab, you can explore your files from the left side bar. You can also download the files to your machine from there."
      ]
    },
    {
      "metadata": {
        "colab_type": "code",
        "id": "Z6UZInUCdfQ1",
        "colab": {
          "base_uri": "https://localhost:8080/",
          "height": 306
        },
        "outputId": "233f4279-b7ea-41e6-8578-eaed7e75444c"
      },
      "cell_type": "code",
      "source": [
        "!wget http://courses.engr.illinois.edu/cs498aml/sp2019/homeworks/test_file.zip\n",
        "!unzip test_file.zip"
      ],
      "execution_count": 133,
      "outputs": [
        {
          "output_type": "stream",
          "text": [
            "--2019-04-27 23:51:53--  http://courses.engr.illinois.edu/cs498aml/sp2019/homeworks/test_file.zip\n",
            "Resolving courses.engr.illinois.edu (courses.engr.illinois.edu)... 130.126.151.9\n",
            "Connecting to courses.engr.illinois.edu (courses.engr.illinois.edu)|130.126.151.9|:80... connected.\n",
            "HTTP request sent, awaiting response... 301 Moved Permanently\n",
            "Location: https://courses.engr.illinois.edu/cs498aml/sp2019/homeworks/test_file.zip [following]\n",
            "--2019-04-27 23:51:53--  https://courses.engr.illinois.edu/cs498aml/sp2019/homeworks/test_file.zip\n",
            "Connecting to courses.engr.illinois.edu (courses.engr.illinois.edu)|130.126.151.9|:443... connected.\n",
            "HTTP request sent, awaiting response... 200 OK\n",
            "Length: 3841776 (3.7M) [application/x-zip-compressed]\n",
            "Saving to: ‘test_file.zip’\n",
            "\n",
            "test_file.zip       100%[===================>]   3.66M  5.54MB/s    in 0.7s    \n",
            "\n",
            "2019-04-27 23:51:54 (5.54 MB/s) - ‘test_file.zip’ saved [3841776/3841776]\n",
            "\n",
            "Archive:  test_file.zip\n",
            "  inflating: test_file.pt            \n"
          ],
          "name": "stdout"
        }
      ]
    },
    {
      "metadata": {
        "colab_type": "text",
        "id": "7g5caFPreMLT"
      },
      "cell_type": "markdown",
      "source": [
        "Then use your model to predict the label of the test images. Fill the remaining code below, where x has two dimensions (batch_size x one image size). Remember to reshpe x accordingly before feeding it into your model. The submission.txt should contain one predicted label (0~9) each line. Submit your submission.txt to the competition in gradscope."
      ]
    },
    {
      "metadata": {
        "colab_type": "code",
        "id": "yNdYAH9XeLlb",
        "colab": {
          "base_uri": "https://localhost:8080/",
          "height": 351
        },
        "outputId": "200492ce-e985-4703-a8c1-b130053a315b"
      },
      "cell_type": "code",
      "source": [
        "import torch.utils.data as Data\n",
        "\n",
        "test_file = 'test_file.pt'\n",
        "pred_file = 'submission.txt'\n",
        "\n",
        "f_pred = open(pred_file,'w') \n",
        "tensor = torch.load(test_file)\n",
        "torch_dataset = Data.TensorDataset(tensor)  \n",
        "hidden_loader = torch.utils.data.DataLoader(torch_dataset, batch_size, shuffle=False, num_workers=2)\n",
        "\n",
        "for images in hidden_loader:\n",
        "  print(images[0])\n",
        "  output = model(images[0].reshape((32,3,3,3)))\n",
        "  print(output)\n",
        "    # Fill your code here\n",
        "    \n",
        "#     f_pred.write('\\n')\n",
        "    \n",
        "# f_pred.close()"
      ],
      "execution_count": 142,
      "outputs": [
        {
          "output_type": "stream",
          "text": [
            "tensor([[-0.0902, -0.3725, -0.4824,  ..., -0.5216, -0.6706, -0.6314],\n",
            "        [-0.4510, -0.4431, -0.4431,  ..., -0.3176, -0.2471, -0.3333],\n",
            "        [-0.9137, -0.8980, -0.8588,  ..., -0.2000, -0.2471, -0.1843],\n",
            "        ...,\n",
            "        [-0.9765, -0.9765, -0.9608,  ..., -0.6863, -0.8980, -0.8588],\n",
            "        [-0.5529, -0.5294, -0.4902,  ..., -0.1137, -0.0431,  0.0353],\n",
            "        [ 0.9843,  0.9451,  0.9451,  ...,  0.1059,  0.1373,  0.1686]])\n"
          ],
          "name": "stdout"
        },
        {
          "output_type": "error",
          "ename": "RuntimeError",
          "evalue": "ignored",
          "traceback": [
            "\u001b[0;31m---------------------------------------------------------------------------\u001b[0m",
            "\u001b[0;31mRuntimeError\u001b[0m                              Traceback (most recent call last)",
            "\u001b[0;32m<ipython-input-142-9e52c85c8b5a>\u001b[0m in \u001b[0;36m<module>\u001b[0;34m()\u001b[0m\n\u001b[1;32m     11\u001b[0m \u001b[0;32mfor\u001b[0m \u001b[0mimages\u001b[0m \u001b[0;32min\u001b[0m \u001b[0mhidden_loader\u001b[0m\u001b[0;34m:\u001b[0m\u001b[0;34m\u001b[0m\u001b[0;34m\u001b[0m\u001b[0m\n\u001b[1;32m     12\u001b[0m   \u001b[0mprint\u001b[0m\u001b[0;34m(\u001b[0m\u001b[0mimages\u001b[0m\u001b[0;34m[\u001b[0m\u001b[0;36m0\u001b[0m\u001b[0;34m]\u001b[0m\u001b[0;34m)\u001b[0m\u001b[0;34m\u001b[0m\u001b[0;34m\u001b[0m\u001b[0m\n\u001b[0;32m---> 13\u001b[0;31m   \u001b[0moutput\u001b[0m \u001b[0;34m=\u001b[0m \u001b[0mmodel\u001b[0m\u001b[0;34m(\u001b[0m\u001b[0mimages\u001b[0m\u001b[0;34m[\u001b[0m\u001b[0;36m0\u001b[0m\u001b[0;34m]\u001b[0m\u001b[0;34m.\u001b[0m\u001b[0mreshape\u001b[0m\u001b[0;34m(\u001b[0m\u001b[0;34m(\u001b[0m\u001b[0;36m32\u001b[0m\u001b[0;34m,\u001b[0m\u001b[0;36m3\u001b[0m\u001b[0;34m,\u001b[0m\u001b[0;36m3\u001b[0m\u001b[0;34m,\u001b[0m\u001b[0;36m3\u001b[0m\u001b[0;34m)\u001b[0m\u001b[0;34m)\u001b[0m\u001b[0;34m)\u001b[0m\u001b[0;34m\u001b[0m\u001b[0;34m\u001b[0m\u001b[0m\n\u001b[0m\u001b[1;32m     14\u001b[0m   \u001b[0mprint\u001b[0m\u001b[0;34m(\u001b[0m\u001b[0moutput\u001b[0m\u001b[0;34m)\u001b[0m\u001b[0;34m\u001b[0m\u001b[0;34m\u001b[0m\u001b[0m\n\u001b[1;32m     15\u001b[0m     \u001b[0;31m# Fill your code here\u001b[0m\u001b[0;34m\u001b[0m\u001b[0;34m\u001b[0m\u001b[0;34m\u001b[0m\u001b[0m\n",
            "\u001b[0;31mRuntimeError\u001b[0m: shape '[32, 3, 3, 3]' is invalid for input of size 24576"
          ]
        }
      ]
    },
    {
      "metadata": {
        "colab_type": "text",
        "id": "8-L6F0CMqc-A"
      },
      "cell_type": "markdown",
      "source": [
        "\n",
        "# Report\n",
        "\n",
        "## Part 0: Imports and Basic Setup (5 Points)\n",
        "Nothing to report for this part. You will be just scored for finishing the setup.\n",
        "\n",
        "## Part 1: Fully connected neural networks (25 Points)\n",
        "\n",
        "Test (on validation set) accuracy (5 Points):\n",
        "\n",
        "Test loss (5 Points):\n",
        "\n",
        "Training time (5 Points):\n",
        "\n",
        "\n",
        "Plots:\n",
        "\n",
        "- Plot a graph of accuracy on validation set vs training steps (5 Points)\n",
        "\n",
        "- Plot a graph of loss on validation set vs training steps (5 Points)\n",
        "\n",
        "\n",
        "## Part 2: Convolution Network (Basic) (35 Points)\n",
        "\n",
        "Tensor dimensions: A good way to debug your network for size mismatches is to print the dimension of output after every layers:\n",
        "\n",
        "(10 Points)\n",
        "\n",
        "Output dimension after 1st conv layer: \n",
        "\n",
        "Output dimension after 1st max pooling: \n",
        "\n",
        "Output dimension after 2nd conv layer: \n",
        "\n",
        "Output dimension after flatten layer:\n",
        "\n",
        "Output dimension after 1st fully connected layer:\n",
        "\n",
        "Output dimension after 2nd fully connected layer:\n",
        "\n",
        "\n",
        "Test (on validation set) Accuracy (5 Points):\n",
        "\n",
        "Test loss (5 Points):\n",
        "\n",
        "Training time (5 Points):\n",
        "\n",
        "\n",
        "Plots:\n",
        "\n",
        "- Plot a graph of accuracy on validation set vs training steps (5 Points)\n",
        "\n",
        "- Plot a graph of loss on validation set vs training steps (5 Points)\n",
        "\n",
        "\n",
        "\n",
        "## Part 3: Convolution Network (Add one or more  suggested changes) (35 Points)\n",
        "\n",
        "Describe the additional changes implemented, your intuition for as to why it works, you may also describe other approaches you experimented with (10 Points):\n",
        "\n",
        "\n",
        "Test (on validation set) Accuracy (5 Points):\n",
        "\n",
        "Test loss (5 Points):\n",
        "\n",
        "Training time (5 Points):\n",
        "\n",
        "\n",
        "Plots:\n",
        "\n",
        "- Plot a graph of accuracy on validation set vs training steps (5 Points)\n",
        "\n",
        "- Plot a graph of loss on validation set vs training steps (5 Points)\n",
        "\n",
        "10 bonus points will be awarded to top 3 scorers on leaderboard (in case of tie for 3rd position everyone tied for 3rd position will get the bonus)"
      ]
    },
    {
      "metadata": {
        "id": "cMpXJT3p1tjB",
        "colab_type": "code",
        "colab": {}
      },
      "cell_type": "code",
      "source": [
        ""
      ],
      "execution_count": 0,
      "outputs": []
    }
  ]
}